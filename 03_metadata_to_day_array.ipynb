{
  "nbformat": 4,
  "nbformat_minor": 0,
  "metadata": {
    "colab": {
      "name": "03_metadata_to_day_array.ipynb",
      "provenance": [],
      "collapsed_sections": [],
      "authorship_tag": "ABX9TyMKtVsp7X+7xgqI1FHgGxML",
      "include_colab_link": true
    },
    "kernelspec": {
      "name": "python3",
      "display_name": "Python 3"
    },
    "language_info": {
      "name": "python"
    }
  },
  "cells": [
    {
      "cell_type": "markdown",
      "metadata": {
        "id": "view-in-github",
        "colab_type": "text"
      },
      "source": [
        "<a href=\"https://colab.research.google.com/github/naguzmans/opportunistic-atm/blob/master/03_metadata_to_day_array.ipynb\" target=\"_parent\"><img src=\"https://colab.research.google.com/assets/colab-badge.svg\" alt=\"Open In Colab\"/></a>"
      ]
    },
    {
      "cell_type": "markdown",
      "source": [
        "# Mount Drive"
      ],
      "metadata": {
        "id": "gCQv8DdfM8wm"
      }
    },
    {
      "cell_type": "code",
      "execution_count": 1,
      "metadata": {
        "colab": {
          "base_uri": "https://localhost:8080/"
        },
        "id": "kLUA61SoM2Em",
        "outputId": "cae0abf9-7982-4d81-f792-9f267aa97a7b"
      },
      "outputs": [
        {
          "output_type": "stream",
          "name": "stdout",
          "text": [
            "Mounted at /content/drive\n"
          ]
        }
      ],
      "source": [
        "from google.colab import drive\n",
        "drive.mount('/content/drive')"
      ]
    },
    {
      "cell_type": "markdown",
      "source": [
        "# Transform Metadata Into a Days Array"
      ],
      "metadata": {
        "id": "KofqRhbMNasL"
      }
    },
    {
      "cell_type": "markdown",
      "source": [
        "The goal of this code is to create an array of shape (days, hours, 25 features) for training the model later."
      ],
      "metadata": {
        "id": "NXW_twIPTUEd"
      }
    },
    {
      "cell_type": "markdown",
      "source": [
        "**Lists folders containing data**"
      ],
      "metadata": {
        "id": "JCIkZE3QS5Ah"
      }
    },
    {
      "cell_type": "code",
      "source": [
        "import glob\n",
        "\n",
        "# Home folder\n",
        "%cd /content/drive/MyDrive/opportunistic-utm\n",
        "\n",
        "# List of folders with data\n",
        "folder_list = []\n",
        "for folder in glob.iglob('dataset/**/**/', recursive=False):\n",
        "  folder_list.append(folder)\n",
        "\n",
        "folder_list[:5]"
      ],
      "metadata": {
        "colab": {
          "base_uri": "https://localhost:8080/"
        },
        "id": "OCtSa70NNQz5",
        "outputId": "195b3508-872c-464c-b5a2-bc5e4a6aedc2"
      },
      "execution_count": 2,
      "outputs": [
        {
          "output_type": "stream",
          "name": "stdout",
          "text": [
            "/content/drive/MyDrive/opportunistic-utm\n"
          ]
        },
        {
          "output_type": "execute_result",
          "data": {
            "text/plain": [
              "['dataset/2019-01/2019-01-01/',\n",
              " 'dataset/2019-01/2019-01-02/',\n",
              " 'dataset/2019-01/2019-01-03/',\n",
              " 'dataset/2019-01/2019-01-04/',\n",
              " 'dataset/2019-01/2019-01-05/']"
            ]
          },
          "metadata": {},
          "execution_count": 2
        }
      ]
    },
    {
      "cell_type": "markdown",
      "source": [
        "**Create array with metadata**"
      ],
      "metadata": {
        "id": "HSvXdB5ITCIG"
      }
    },
    {
      "cell_type": "code",
      "source": [
        "import numpy as np\n",
        "from tqdm import tqdm\n",
        "%config InlineBackend.figure_format = 'retina'\n",
        "\n",
        "metadata_array = []\n",
        "for folder in tqdm(folder_list):\n",
        "  files = np.sort(glob.glob(folder + '/metadata/*.npy', recursive=False))\n",
        "  hours_array = np.expand_dims(np.load(files[0]), 0)\n",
        "\n",
        "  for i in range(1, 24):\n",
        "    next_hour = np.expand_dims(np.load(files[i]), 0)\n",
        "    hours_array = np.concatenate((hours_array, next_hour), axis=0)\n",
        "\n",
        "  metadata_array.append(hours_array)\n",
        "\n",
        "metadata_array = np.array(metadata_array)\n",
        "metadata_array.shape"
      ],
      "metadata": {
        "colab": {
          "base_uri": "https://localhost:8080/"
        },
        "id": "rp5X2cEZN1P1",
        "outputId": "92df1bd9-6516-4b31-bb37-61ef3f751798"
      },
      "execution_count": null,
      "outputs": [
        {
          "output_type": "stream",
          "name": "stderr",
          "text": [
            "  3%|▎         | 7/273 [00:30<19:36,  4.42s/it]"
          ]
        }
      ]
    },
    {
      "cell_type": "markdown",
      "source": [
        "# Save Results"
      ],
      "metadata": {
        "id": "wX9Ehgs1R2UV"
      }
    },
    {
      "cell_type": "markdown",
      "source": [
        "**Save Metadata Array**"
      ],
      "metadata": {
        "id": "H2PvryR3SIFI"
      }
    },
    {
      "cell_type": "code",
      "source": [
        "np.save(f'dataset/00_results/metadata_array_{metadata_array.shape[0]}.npy', metadata_array)"
      ],
      "metadata": {
        "id": "ZdLc9djVPMTh"
      },
      "execution_count": null,
      "outputs": []
    }
  ]
}