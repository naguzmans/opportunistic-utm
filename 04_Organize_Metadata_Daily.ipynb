{
  "nbformat": 4,
  "nbformat_minor": 0,
  "metadata": {
    "colab": {
      "name": "04_Organize_Metadata_Daily.ipynb",
      "provenance": [],
      "collapsed_sections": [],
      "machine_shape": "hm",
      "authorship_tag": "ABX9TyOKTy5RI/WXy9JIvc0mbeUb",
      "include_colab_link": true
    },
    "kernelspec": {
      "name": "python3",
      "display_name": "Python 3"
    },
    "language_info": {
      "name": "python"
    },
    "accelerator": "GPU",
    "gpuClass": "standard"
  },
  "cells": [
    {
      "cell_type": "markdown",
      "metadata": {
        "id": "view-in-github",
        "colab_type": "text"
      },
      "source": [
        "<a href=\"https://colab.research.google.com/github/naguzmans/opportunistic-atm/blob/master/04_Organize_Metadata_Daily.ipynb\" target=\"_parent\"><img src=\"https://colab.research.google.com/assets/colab-badge.svg\" alt=\"Open In Colab\"/></a>"
      ]
    },
    {
      "cell_type": "markdown",
      "source": [
        "# Mount Drive"
      ],
      "metadata": {
        "id": "gCQv8DdfM8wm"
      }
    },
    {
      "cell_type": "code",
      "execution_count": 1,
      "metadata": {
        "colab": {
          "base_uri": "https://localhost:8080/"
        },
        "id": "kLUA61SoM2Em",
        "outputId": "613e3fcf-48a3-482a-f0c6-17ed2e1633f8"
      },
      "outputs": [
        {
          "output_type": "stream",
          "name": "stdout",
          "text": [
            "Mounted at /content/drive\n"
          ]
        }
      ],
      "source": [
        "from google.colab import drive\n",
        "drive.mount('/content/drive')"
      ]
    },
    {
      "cell_type": "markdown",
      "source": [
        "# Transform Metadata Into Day Arrays"
      ],
      "metadata": {
        "id": "KofqRhbMNasL"
      }
    },
    {
      "cell_type": "markdown",
      "source": [
        "The goal of this code is to create an array of shape (hours, 25 features) for training the model later.\n",
        "\n",
        "\n"
      ],
      "metadata": {
        "id": "NXW_twIPTUEd"
      }
    },
    {
      "cell_type": "markdown",
      "source": [
        "**Lists folders containing data**"
      ],
      "metadata": {
        "id": "JCIkZE3QS5Ah"
      }
    },
    {
      "cell_type": "code",
      "source": [
        "import glob\n",
        "\n",
        "# Home folder\n",
        "%cd /content/drive/MyDrive/opportunistic-utm\n",
        "\n",
        "# List of folders with data\n",
        "folder_list = []\n",
        "for folder in glob.iglob('dataset/**/**/', recursive=False):\n",
        "  folder_list.append(folder)\n",
        "\n",
        "folder_list[:5]"
      ],
      "metadata": {
        "colab": {
          "base_uri": "https://localhost:8080/"
        },
        "id": "OCtSa70NNQz5",
        "outputId": "dece24dd-faea-4f07-f45a-6d163bda306b"
      },
      "execution_count": 2,
      "outputs": [
        {
          "output_type": "stream",
          "name": "stdout",
          "text": [
            "/content/drive/MyDrive/opportunistic-utm\n"
          ]
        },
        {
          "output_type": "execute_result",
          "data": {
            "text/plain": [
              "['dataset/2019-01/2019-01-01/',\n",
              " 'dataset/2019-01/2019-01-02/',\n",
              " 'dataset/2019-01/2019-01-03/',\n",
              " 'dataset/2019-01/2019-01-04/',\n",
              " 'dataset/2019-01/2019-01-05/']"
            ]
          },
          "metadata": {},
          "execution_count": 2
        }
      ]
    },
    {
      "cell_type": "markdown",
      "source": [
        "**Create array with metadata**"
      ],
      "metadata": {
        "id": "HSvXdB5ITCIG"
      }
    },
    {
      "cell_type": "code",
      "source": [
        "import os\n",
        "import numpy as np\n",
        "from tqdm import tqdm\n",
        "%config InlineBackend.figure_format = 'retina'\n",
        "\n",
        "metadata_array = []\n",
        "for folder in tqdm(folder_list[0:5]):\n",
        "  files = np.sort(glob.glob(folder + '/metadata/*.npy', recursive=False))\n",
        "  hours_array = np.expand_dims(np.load(files[0]), 0)\n",
        "  hours_array = np.empty((1,25))\n",
        "\n",
        "  for i in range(1, 24):\n",
        "    next_hour = np.expand_dims(np.load(files[i]), 0)\n",
        "    hours_array = np.concatenate((hours_array, next_hour), axis=0)\n",
        "\n",
        "  folder_name = os.path.normpath(folder).split(os.sep)[2]\n",
        "  filename = folder_name.replace('-','')\n",
        "  np.save(f'dataset/00_results/daily_metadata/{filename}.npy', hours_array[1:])"
      ],
      "metadata": {
        "colab": {
          "base_uri": "https://localhost:8080/"
        },
        "id": "rp5X2cEZN1P1",
        "outputId": "6a2232d3-77f6-4e9d-cf5c-89d5055660bc"
      },
      "execution_count": 6,
      "outputs": [
        {
          "output_type": "stream",
          "name": "stderr",
          "text": [
            "100%|██████████| 5/5 [00:00<00:00, 24.53it/s]\n"
          ]
        }
      ]
    }
  ]
}