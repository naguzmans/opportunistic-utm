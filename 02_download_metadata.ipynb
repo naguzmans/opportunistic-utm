{
  "nbformat": 4,
  "nbformat_minor": 0,
  "metadata": {
    "colab": {
      "name": "02_download_metadata.ipynb",
      "provenance": [],
      "collapsed_sections": [],
      "mount_file_id": "14mO7URfH8yVA4Z7EBTKiEQk3Wj7NHLL2",
      "authorship_tag": "ABX9TyP7qnd3vOOYS03VXkCm1FY0",
      "include_colab_link": true
    },
    "kernelspec": {
      "name": "python3",
      "display_name": "Python 3"
    },
    "language_info": {
      "name": "python"
    }
  },
  "cells": [
    {
      "cell_type": "markdown",
      "metadata": {
        "id": "view-in-github",
        "colab_type": "text"
      },
      "source": [
        "<a href=\"https://colab.research.google.com/github/naguzmans/opportunistic-atm/blob/master/02_download_metadata.ipynb\" target=\"_parent\"><img src=\"https://colab.research.google.com/assets/colab-badge.svg\" alt=\"Open In Colab\"/></a>"
      ]
    },
    {
      "cell_type": "markdown",
      "source": [
        "# Mount Drive"
      ],
      "metadata": {
        "id": "HXD7FnRwHtqM"
      }
    },
    {
      "cell_type": "code",
      "source": [
        "from google.colab import drive\n",
        "drive.mount('/content/drive')"
      ],
      "metadata": {
        "id": "TRrwAhnvN6lS",
        "colab": {
          "base_uri": "https://localhost:8080/"
        },
        "outputId": "16229f20-ec18-4e9e-8253-697d2f70af16"
      },
      "execution_count": 1,
      "outputs": [
        {
          "output_type": "stream",
          "name": "stdout",
          "text": [
            "Drive already mounted at /content/drive; to attempt to forcibly remount, call drive.mount(\"/content/drive\", force_remount=True).\n"
          ]
        }
      ]
    },
    {
      "cell_type": "markdown",
      "source": [
        "# Install Dependencies"
      ],
      "metadata": {
        "id": "7Fnozf97H0AD"
      }
    },
    {
      "cell_type": "code",
      "source": [
        "!pip install holidays\n",
        "%cd /content/drive/MyDrive/opportunistic-utm/"
      ],
      "metadata": {
        "id": "2Kmx4pn3H2jy"
      },
      "execution_count": null,
      "outputs": []
    },
    {
      "cell_type": "markdown",
      "source": [
        "# Check DarkSky API"
      ],
      "metadata": {
        "id": "v6qSSSGJJ-QA"
      }
    },
    {
      "cell_type": "code",
      "source": [
        "# Checks API using a random timestamp\n",
        "timestamp = 1546339684\n",
        "key = '00fa20d9a815fab822b59c022ba8f4e5'\n",
        "location = '51.87626460000001,-0.3717470999999932'\n",
        "exclude = 'exclude=minutely,hourly,daily,alerts,flags'\n",
        "units = 'si'\n",
        "endpoint = f'https://api.darksky.net/forecast/{key}/{location},{timestamp}?{exclude}&{units}'\n",
        "requests.get(endpoint).json()['currently']"
      ],
      "metadata": {
        "colab": {
          "base_uri": "https://localhost:8080/"
        },
        "id": "HzXHrx4eJ-zn",
        "outputId": "a276832b-4500-4db3-81e3-f0f2c71700d2"
      },
      "execution_count": 9,
      "outputs": [
        {
          "output_type": "execute_result",
          "data": {
            "text/plain": [
              "{'apparentTemperature': 5.4,\n",
              " 'cloudCover': 0.75,\n",
              " 'dewPoint': 5.95,\n",
              " 'humidity': 0.82,\n",
              " 'temperature': 8.86,\n",
              " 'time': 1546339684,\n",
              " 'uvIndex': 0,\n",
              " 'visibility': 10.003,\n",
              " 'windBearing': 288,\n",
              " 'windSpeed': 26.11}"
            ]
          },
          "metadata": {},
          "execution_count": 9
        }
      ]
    },
    {
      "cell_type": "markdown",
      "source": [
        "# Define Metadata Functions"
      ],
      "metadata": {
        "id": "sjPOIskZISwl"
      }
    },
    {
      "cell_type": "code",
      "execution_count": 5,
      "metadata": {
        "id": "y-yvg7sl4y0z"
      },
      "outputs": [],
      "source": [
        "from datetime import datetime\n",
        "import numpy as np\n",
        "import holidays\n",
        "import math\n",
        "import requests\n",
        "\n",
        "def epoch_to_utc(hour_in_unix_time):\n",
        "  return datetime.utcfromtimestamp(hour_in_unix_time)\n",
        "\n",
        "def get_month(unix_timestamp):\n",
        "  return unix_timestamp.month\n",
        "\n",
        "def get_day(unix_timestamp):\n",
        "  return unix_timestamp.weekday()\n",
        "\n",
        "def is_holiday(timestamp):\n",
        "  uk_holidays = holidays.UK()\n",
        "\n",
        "  if timestamp in uk_holidays:\n",
        "    return 1\n",
        "  else:\n",
        "    return 0\n",
        "\n",
        "def rescale(val, in_min, in_max, out_min, out_max):\n",
        "  return out_min + (val - in_min) * ((out_max - out_min) / (in_max - in_min))\n",
        "\n",
        "# Gets weather information using DarkSky API\n",
        "def get_weather(unix_timestamp, size = 100):\n",
        "  timestamp = str(unix_timestamp)\n",
        "  key = '00fa20d9a815fab822b59c022ba8f4e5'\n",
        "  location = '51.87626460000001,-0.3717470999999932'\n",
        "  exclude = 'exclude=minutely,hourly,daily,alerts,flags'\n",
        "  units = 'si'\n",
        "  endpoint = f'https://api.darksky.net/forecast/{key}/{location},{timestamp}?{exclude}&{units}'\n",
        "  response = requests.get(endpoint).json()['currently']\n",
        "\n",
        "  try:\n",
        "    temperature = np.reshape(rescale(response['temperature'], -30, 30, 0, 1), (1,1))\n",
        "  except:\n",
        "    temperature = np.reshape(rescale(0, -30, 30, 0, 1), (1,1))\n",
        "\n",
        "  try:\n",
        "    wind_bearing = np.reshape(response['windBearing']/360, (1,1))\n",
        "  except:\n",
        "    wind_bearing = np.reshape(0, (1,1))\n",
        "\n",
        "  try:\n",
        "    wind_speed = np.reshape(rescale(response['windSpeed'], 0, 30, 0, 1), (1,1))\n",
        "  except:\n",
        "    wind_speed = np.reshape(rescale(0, 0, 30, 0, 1), (1,1))\n",
        "\n",
        "  try:\n",
        "    visibility = np.reshape(rescale(response['visibility'], 0, 20, 0, 1), (1,1))\n",
        "  except:\n",
        "    visibility = np.reshape(rescale(0, 0, 20, 0, 1), (1,1))\n",
        "\n",
        "  try:\n",
        "    cloud_cover = np.reshape(rescale(response['cloudCover'], 0, 1, 0, 1), (1,1))\n",
        "  except:\n",
        "    cloud_cover = np.reshape(rescale(0, 0, 1, 0, 1), (1,1))\n",
        "\n",
        "  weather_metadata = np.concatenate((temperature, wind_bearing, wind_speed, visibility, cloud_cover), axis = 1)\n",
        "  return np.tile(weather_metadata, (size, 1))\n",
        "\n",
        "def spacer(units):\n",
        "  return np.zeros(units)\n",
        "\n",
        "def metadata(timestamp, size = 100, tiled = False):\n",
        "  utc_timestamp = epoch_to_utc(timestamp)\n",
        "\n",
        "  # Hot-encode day and month\n",
        "  months = np.zeros(12)\n",
        "  days = np.zeros(7)\n",
        "  months[get_month(utc_timestamp)-1] = 1\n",
        "  days[get_day(utc_timestamp)] = 1\n",
        "  months_tile = np.tile(months, (size, 1))\n",
        "  days_tile = np.tile(days, (size, 1))\n",
        "\n",
        "  # Hot-enconde if holiday is true\n",
        "  holiday_tile = np.tile(is_holiday(utc_timestamp), (size, 1))\n",
        "\n",
        "  # Weather\n",
        "  weather_tile = get_weather(timestamp, size=size)\n",
        "\n",
        "  # Spacer if needed\n",
        "  spacer_tile = np.tile(spacer(1), (size, 1))\n",
        "\n",
        "  tiled_metadata = np.concatenate((months_tile, days_tile, holiday_tile, weather_tile), axis = 1)\n",
        "\n",
        "  # Merge together\n",
        "  if tiled == True:\n",
        "    width = math.ceil(size/tiled_metadata.shape[-1])\n",
        "    tiled_metadata = np.tile(tiled_metadata, width)[:,:size]\n",
        "    return tiled_metadata\n",
        "  elif tiled == False:\n",
        "    return tiled_metadata[0]"
      ]
    },
    {
      "cell_type": "markdown",
      "source": [
        "# Test Sample"
      ],
      "metadata": {
        "id": "Xy1KAhCvKMMA"
      }
    },
    {
      "cell_type": "code",
      "source": [
        "# Plot as a tile of (100, 100)\n",
        "import matplotlib.pyplot as plt\n",
        "%config InlineBackend.figure_format = 'retina'\n",
        "\n",
        "plot_metadata = metadata(1546339684, tiled = True)\n",
        "plt.imshow(plot_metadata, origin='lower', cmap='plasma')\n",
        "plt.show()"
      ],
      "metadata": {
        "colab": {
          "base_uri": "https://localhost:8080/",
          "height": 265
        },
        "id": "wAW-4gy5ALAD",
        "outputId": "366b2b20-1724-46ba-bce6-700d701c8081"
      },
      "execution_count": 7,
      "outputs": [
        {
          "output_type": "display_data",
          "data": {
            "text/plain": [
              "<Figure size 432x288 with 1 Axes>"
            ],
            "image/png": "[encoded data removed]"
          },
          "metadata": {
            "image/png": {
              "width": 251,
              "height": 248
            },
            "needs_background": "light"
          }
        }
      ]
    },
    {
      "cell_type": "code",
      "source": [
        "# Check metadata shape\n",
        "metadata(1655991661).shape"
      ],
      "metadata": {
        "colab": {
          "base_uri": "https://localhost:8080/"
        },
        "id": "ffAkQH3fXqmM",
        "outputId": "4a702a88-7286-4b02-f04a-c320fa47d0a7"
      },
      "execution_count": 6,
      "outputs": [
        {
          "output_type": "execute_result",
          "data": {
            "text/plain": [
              "(25,)"
            ]
          },
          "metadata": {},
          "execution_count": 6
        }
      ]
    },
    {
      "cell_type": "markdown",
      "source": [
        "# Download Metadata"
      ],
      "metadata": {
        "id": "0on0CDutKRqX"
      }
    },
    {
      "cell_type": "code",
      "source": [
        "from datetime import timezone\n",
        "from datetime import datetime\n",
        "from tqdm import tqdm\n",
        "import numpy as np\n",
        "import os\n",
        "\n",
        "# Download data manually as needed\n",
        "year = 2019\n",
        "month = 9\n",
        "days = np.linspace(1,31,31)\n",
        "\n",
        "# Iterates through each day in a given month\n",
        "for day in tqdm(days):\n",
        "  unix_hour = int(datetime(year, month, int(day), 0, 0, 0).replace(tzinfo=timezone.utc).timestamp())\n",
        "  for i in range(0, 24):\n",
        "    str_year = str(year)\n",
        "    str_month = str(month).zfill(2)\n",
        "    str_day = str(int(day)).zfill(2)\n",
        "    saving_folder = f'/dataset/{str_year}-{str_month}/{str_year}-{str_month}-{str_day}/metadata'\n",
        "\n",
        "    if not os.path.exists(f'{saving_folder}'):\n",
        "      os.makedirs(f'{saving_folder}')\n",
        "\n",
        "    np.save(f'{saving_folder}/{str(unix_hour)}.npy', metadata(unix_hour))\n",
        "    unix_hour += 3600"
      ],
      "metadata": {
        "id": "y0Sb0O5qxM-1"
      },
      "execution_count": null,
      "outputs": []
    }
  ]
}