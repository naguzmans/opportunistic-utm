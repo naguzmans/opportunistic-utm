{
  "cells": [
    {
      "cell_type": "markdown",
      "metadata": {
        "id": "view-in-github",
        "colab_type": "text"
      },
      "source": [
        "<a href=\"https://colab.research.google.com/github/naguzmans/opportunistic-atm/blob/main/pso_model_3D.ipynb\" target=\"_parent\"><img src=\"https://colab.research.google.com/assets/colab-badge.svg\" alt=\"Open In Colab\"/></a>"
      ]
    },
    {
      "cell_type": "markdown",
      "metadata": {
        "id": "DACTkewtUwUc"
      },
      "source": [
        "<h2> 3D Particle Swarm Optimization </h2>"
      ]
    },
    {
      "cell_type": "code",
      "execution_count": 1,
      "metadata": {
        "id": "_WDYwoU-URDi"
      },
      "outputs": [],
      "source": [
        "import matplotlib.pyplot as plt\n",
        "import plotly.express as px\n",
        "import plotly.graph_objects as go\n",
        "import numpy as np\n",
        "from scipy import interpolate\n",
        "from tqdm import tqdm\n",
        "import random\n",
        "import warnings\n",
        "warnings.filterwarnings('ignore')\n",
        "%config InlineBackend.figure_format = 'retina'\n",
        "\n",
        "class Obstacle:\n",
        "  def __init__(self, x, y, z, r):\n",
        "    self.x = x\n",
        "    self.y = y\n",
        "    self.z = z\n",
        "    self.r = r\n",
        "\n",
        "class Particle:\n",
        "  def __init__(self, origin, destination, handles):\n",
        "    self.origin = origin\n",
        "    self.destination = destination\n",
        "    self.handles = handles\n",
        "\n",
        "    # Define x array\n",
        "    self.x, self.y, self.z = self.CreatePath(self.origin, self.destination)\n",
        "\n",
        "    # Define velocity\n",
        "    self.vx = np.zeros(handles+2)\n",
        "    self.vy = np.zeros(handles+2)\n",
        "    self.vz = np.zeros(handles+2)\n",
        "\n",
        "    # Calculate Cost\n",
        "    self.Cost()\n",
        "    \n",
        "    # Define Best\n",
        "    self.Best(self.x, self.y, self.z, self.xs, self.ys, self.zs, self.cost)\n",
        "\n",
        "  def Cost(self):\n",
        "\n",
        "    # Create spline\n",
        "    # ts = np.linspace(self.origin[0], self.destination[0], self.handles+2 )\n",
        "\n",
        "    if self.destination[0] > self.origin[0]:\n",
        "      ts = np.linspace(self.origin[0], self.destination[0], self.handles+2 )\n",
        "    else:\n",
        "      ts = np.linspace(self.destination[0], self.origin[0], self.handles+2 )\n",
        "\n",
        "    spline_x = interpolate.CubicSpline(ts, self.x)\n",
        "    spline_y = interpolate.CubicSpline(ts, self.y)\n",
        "    spline_z = interpolate.CubicSpline(ts, self.z)\n",
        "\n",
        "    ts2 = np.linspace(self.origin[0], self.destination[0], 100)\n",
        "    self.xs = spline_x(ts2)\n",
        "    self.ys = spline_y(ts2)\n",
        "    self.zs = spline_z(ts2)\n",
        "    # self.zs = (self.zs/self.zs.max()) * self.zlim\n",
        "\n",
        "    dsx = spline_x.derivative(nu=1)\n",
        "    dsy = spline_y.derivative(nu=1)\n",
        "    dsz = spline_z.derivative(nu=1)\n",
        "\n",
        "    self.dxs = dsx(ts2)\n",
        "    self.dys = dsy(ts2)\n",
        "    self.dzs = dsz(ts2)\n",
        "    self.L = np.sum(np.sqrt(self.dxs**2 + self.dys**2 + self.dzs**2))\n",
        "    \n",
        "    violation = 0\n",
        "    for i in range(0, len(obstacles)):\n",
        "      distance_to_obstacle = np.sqrt((self.xs-obstacles[i].x)**2+(self.ys-obstacles[i].y)**2+(self.zs-obstacles[i].z)**2)\n",
        "      v = 1-distance_to_obstacle/obstacles[i].r\n",
        "      for j in range(0,len(v)):\n",
        "        if v[j] < 0:\n",
        "          v[j] = 0\n",
        "      violation += np.mean(v)\n",
        "\n",
        "    # Z out-of-bounds violation\n",
        "    if any(i < 0 for i in self.zs):\n",
        "      violation = 1e10\n",
        "\n",
        "    # Calculate final cost\n",
        "    beta = 100\n",
        "    self.cost = self.L*(1+beta*violation)\n",
        "\n",
        "  def Best(self, x, y, z, xs, ys, zs, cost):\n",
        "    self.best_x = x\n",
        "    self.best_y = y\n",
        "    self.best_z = z\n",
        "\n",
        "    self.best_xs = xs\n",
        "    self.best_ys = ys\n",
        "    self.best_zs = zs\n",
        "\n",
        "    self.best_cost = cost\n",
        "\n",
        "  def CreatePath(self, start, end):\n",
        "    x = np.random.uniform(start[0], end[0], self.handles+2)\n",
        "    x[0] = start[0]\n",
        "    x[-1] = end[0]\n",
        "\n",
        "    y = np.random.uniform(start[1], end[1], self.handles+2)\n",
        "    y[0] = start[1]\n",
        "    y[-1] = end[1]\n",
        "\n",
        "    # z = np.random.uniform(start[2], end[2], self.handles+2)\n",
        "    # z[0] = start[2]\n",
        "    # z[-1] = end[2]\n",
        "    z = np.linspace(start[2], end[2], self.handles+2)\n",
        "    \n",
        "    return x,y,z\n",
        "\n",
        "class GlobalBest:\n",
        "  def __init__(self, x, y, z, xs, ys, zs, cost):\n",
        "    self.x = x\n",
        "    self.y = y\n",
        "    self.z = z\n",
        "    self.xs = xs\n",
        "    self.ys = ys\n",
        "    self.zs = zs\n",
        "    self.cost = cost\n",
        "\n",
        "# Plotting 3d-Spheres\n",
        "def ms(x, y, z, radius, resolution=10):\n",
        "    u, v = np.mgrid[0:2*np.pi:resolution*2j, 0:np.pi:resolution*1j]\n",
        "    X = radius * np.cos(u)*np.sin(v) + x\n",
        "    Y = radius * np.sin(u)*np.sin(v) + y\n",
        "    Z = radius * np.cos(v) + z\n",
        "    return (X, Y, Z)\n",
        "\n",
        "# Main\n",
        "def PSO(origin, destination, geometry, no_particles, handles, iterations, min_limit, max_limit):\n",
        "\n",
        "  # Create Particle Swarm\n",
        "  particles = []\n",
        "  for i in range(no_particles):\n",
        "    particles.append(Particle(origin, destination, handles))\n",
        "\n",
        "  # Initialize\n",
        "  global_best = GlobalBest(0,0,0,0,0,0,1e6)\n",
        "  for particle in particles:\n",
        "    if particle.cost < global_best.cost:\n",
        "      global_best.x = particle.x.copy()\n",
        "      global_best.y = particle.y.copy()\n",
        "      global_best.z = particle.z.copy()\n",
        "\n",
        "      global_best.xs = particle.xs.copy()\n",
        "      global_best.ys = particle.ys.copy()\n",
        "      global_best.zs = particle.zs.copy()\n",
        "\n",
        "      global_best.cost = particle.cost.copy()\n",
        "\n",
        "  # Particle Swarm Optimization\n",
        "  canvas_max_x = max_limit[0]\n",
        "  canvas_min_x = min_limit[0]\n",
        "\n",
        "  canvas_max_y = max_limit[1]\n",
        "  canvas_min_y = min_limit[1]\n",
        "\n",
        "  canvas_max_z = max_limit[2]\n",
        "  canvas_min_z = min_limit[2]\n",
        "\n",
        "  iterations = iterations\n",
        "  w = 1 \n",
        "  wdamp = .98\n",
        "  c1 = 1.5\n",
        "  c2 = 1.5\n",
        "  alpha = .1\n",
        "  vel_max_x = alpha*(canvas_max_x - canvas_min_x)\n",
        "  vel_min_x = -vel_max_x\n",
        "  vel_max_y = alpha*(canvas_max_y - canvas_min_y)\n",
        "  vel_min_y = -vel_max_y\n",
        "  vel_max_z = alpha*(canvas_max_z - canvas_min_z)\n",
        "  vel_min_z = -vel_max_z\n",
        "\n",
        "  for i in tqdm(range(0, iterations)):\n",
        "    \n",
        "    for particle in particles:\n",
        "\n",
        "      # X\n",
        "      particle.vx = w*particle.vx + \\\n",
        "                    c1*np.random.rand(1, handles+2).reshape(handles+2)*(particle.best_x-particle.x) + \\\n",
        "                    c2*np.random.rand(1, handles+2).reshape(handles+2)*(global_best.x-particle.x)\n",
        "      \n",
        "      particle.vx = np.maximum(particle.vx.copy(), vel_min_x)\n",
        "      particle.vx = np.minimum(particle.vx.copy(), vel_max_x)\n",
        "  \n",
        "      particle.x = np.add(particle.x, particle.vx, out=particle.x, casting='unsafe')\n",
        "\n",
        "      # Y\n",
        "      particle.vy = w*particle.vy + \\\n",
        "                    c1*np.random.rand(1, handles+2).reshape(handles+2)*(particle.best_y-particle.y) + \\\n",
        "                    c2*np.random.rand(1, handles+2).reshape(handles+2)*(global_best.y-particle.y)\n",
        "      \n",
        "      particle.vy = np.maximum(particle.vy.copy(), vel_min_y)\n",
        "      particle.vy = np.minimum(particle.vy.copy(), vel_max_y)\n",
        "\n",
        "      particle.y = np.add(particle.y, particle.vy, out=particle.y, casting='unsafe')\n",
        "\n",
        "      # Z\n",
        "      particle.vz = w*particle.vz + \\\n",
        "                    c1*np.random.rand(1, handles+2).reshape(handles+2)*(particle.best_z-particle.z) + \\\n",
        "                    c2*np.random.rand(1, handles+2).reshape(handles+2)*(global_best.z-particle.z)\n",
        "      \n",
        "      particle.vz = np.maximum(particle.vz.copy(), vel_min_z)\n",
        "      particle.vz = np.minimum(particle.vz.copy(), vel_max_z)\n",
        "\n",
        "      particle.z = np.add(particle.z, particle.vz, out=particle.z, casting='unsafe')\n",
        "\n",
        "      # Calculate cost\n",
        "      particle.Cost()\n",
        "      if particle.cost < particle.best_cost:\n",
        "        particle.best_x = particle.x.copy()\n",
        "        particle.best_y = particle.y.copy()\n",
        "        particle.best_z = particle.z.copy()\n",
        "\n",
        "        particle.best_xs = particle.xs.copy()\n",
        "        particle.best_ys = particle.ys.copy()\n",
        "        particle.best_zs = particle.zs.copy()\n",
        "\n",
        "        particle.best_cost = particle.cost.copy()\n",
        "\n",
        "      if particle.cost < global_best.cost:\n",
        "        global_best.x = particle.x.copy()\n",
        "        global_best.y = particle.y.copy()\n",
        "        global_best.z = particle.z.copy()\n",
        "\n",
        "        global_best.xs = particle.xs.copy()\n",
        "        global_best.ys = particle.ys.copy()\n",
        "        global_best.zs = particle.zs.copy()\n",
        "\n",
        "        global_best.cost = particle.cost.copy()\n",
        "\n",
        "    w = w * wdamp\n",
        "\n",
        "  print(f'\\nFinal Global Best Cost: {global_best.cost}')\n",
        "  return global_best.xs, global_best.ys, global_best.zs, global_best.cost\n"
      ]
    },
    {
      "cell_type": "markdown",
      "source": [
        "Define CDR"
      ],
      "metadata": {
        "id": "7B1qBKoigx2N"
      }
    },
    {
      "cell_type": "code",
      "execution_count": 2,
      "metadata": {
        "id": "DdXlE7Q5qjyt"
      },
      "outputs": [],
      "source": [
        "import numpy as np\n",
        "import matplotlib.pyplot as plt\n",
        "import pandas as pd\n",
        "from scipy.interpolate import interp1d\n",
        "\n",
        "class Drone:\n",
        "  def __init__(self, speed):\n",
        "    self.speed = speed\n",
        "  \n",
        "  def get_track(self, x, y, z):\n",
        "    self.x = x\n",
        "    self.y = y\n",
        "    self.z = z\n",
        "\n",
        "    length = 0\n",
        "    for i in range(0, len(x)):\n",
        "      try:\n",
        "        dx = x[i+1]-x[i]\n",
        "        dy = y[i+1]-y[i]\n",
        "        dz = z[i+1]-z[i]\n",
        "        dh = np.sqrt(dx**2+dy**2+dz**2)\n",
        "        length += dh\n",
        "      except:\n",
        "        break\n",
        "    length = round(length,1)\n",
        "\n",
        "    time = length/self.speed\n",
        "    time_vector = np.arange(0, round(time,2)*10 + 1)/10\n",
        "    xnew = np.linspace(x[0],x[-1],len(time_vector))\n",
        "    interp = interp1d(x, y)\n",
        "    yinterp = interp(xnew)\n",
        "    znew = np.linspace(z[0],z[-1],len(time_vector))\n",
        "    \n",
        "    df = pd.DataFrame({'time':time_vector, 'x':xnew, 'y':yinterp, 'z':znew})\n",
        "    df.x = df.x.round(2)\n",
        "    df.y = df.y.round(2)\n",
        "    df.z = df.z.round(2)\n",
        "    df['pos'] = df[['x','y','z']].apply(tuple, axis=1)\n",
        "\n",
        "    return df.drop(columns=['x', 'y', 'z'])\n",
        "\n",
        "  def update_speed(self, speed):\n",
        "    self.speed = speed\n",
        "    return self.get_track(self.x, self.y, self.z)\n",
        "\n",
        "class CDR():\n",
        "  def __init__(self):\n",
        "    self.master = []\n",
        "    self.drones = []\n",
        "    self.drone_index = 0\n",
        "\n",
        "  def add_drone(self, drone, track):\n",
        "    if len(self.master) == 0:\n",
        "      self.master = drone.get_track(track[0], track[1], track[2])\n",
        "      self.master.columns = ['time', f'drone_{self.drone_index}']\n",
        "      self.drones.append(drone)\n",
        "      self.drone_index += 1\n",
        "    else:\n",
        "      self.master = pd.concat([self.master.set_index('time'), drone.get_track(track[0], track[1], track[2]).set_index('time')], axis=1).reset_index()\n",
        "      self.master.columns = [*self.master.columns[:-1], f'drone_{self.drone_index}']\n",
        "      self.drones.append(drone)\n",
        "      self.clean()\n",
        "      self.drone_index += 1    \n",
        "\n",
        "  def update_speed(self, drone, to_speed):\n",
        "    self.master = pd.concat([self.master.set_index('time'), self.drones[drone].update_speed(to_speed).set_index('time')], axis=1).reset_index()\n",
        "    self.master = self.master.drop(columns=[f'drone_{drone}'])\n",
        "    self.master.columns = [*self.master.columns[:-1], f'drone_{drone}']\n",
        "    self.master = self.master.reindex(sorted(self.master.columns), axis=1)\n",
        "    time_column = self.master.pop('time')\n",
        "    self.master.insert(0, 'time', time_column)\n",
        "    self.clean()\n",
        "\n",
        "  def update_delay(self, drone, units):\n",
        "    self.master = self.master.reindex(range(len(self.master)+units))\n",
        "    self.master[f'drone_{drone}'] = self.master[f'drone_{drone}'].shift(units)\n",
        "    self.clean()\n",
        "    self.master['time'] = np.arange(0, len(self.master))/10\n",
        "\n",
        "  def clean(self):\n",
        "    self.master = self.master.ffill(axis=0)\n",
        "    self.master = self.master.bfill(axis=0)\n"
      ]
    },
    {
      "cell_type": "markdown",
      "source": [
        "Coordinator"
      ],
      "metadata": {
        "id": "WoT8etio4mLC"
      }
    },
    {
      "cell_type": "code",
      "source": [
        "origins = [(-5,-5,.5), (-5,-5,.5), (5,-5,.5), (5,-5,.5)]\n",
        "destinations = [(5,5,.5), (5,5,.5), (-5,5,.5), (-5,5,.5)]\n",
        "\n",
        "max_distance = .5\n",
        "n = len(origins)\n",
        "\n",
        "n_origins = []\n",
        "n_destinations = []\n",
        "for i in range(0, n):\n",
        "  for j in range(i+1, n):\n",
        "    # print(f'{i},{j}')\n",
        "    dist_origin = np.sqrt((origins[i][0]-origins[j][0])**2+(origins[i][1]-origins[j][1])**2+(origins[i][2]-origins[j][2])**2)\n",
        "    dist_destination = np.sqrt((destinations[i][0]-destinations[j][0])**2+(destinations[i][1]-destinations[j][1])**2+(destinations[i][2]-destinations[j][2])**2)\n",
        "    \n",
        "    if dist_origin <= max_distance and dist_destination <= max_distance:\n",
        "      n_origins.append(tuple(np.add(origins[i], origins[j])/2))\n",
        "      n_destinations.append(tuple(np.add(destinations[i], destinations[j])/2))\n",
        "    else:\n",
        "      n_origins.append(origins[i])\n",
        "      n_destinations.append(destinations[i])\n",
        "\n",
        "    # print(f'Distance Origin: {dist_origin}')\n",
        "    # print(f'Distance Destination: {dist_destination}')\n",
        "\n",
        "n_origins = pd.unique(n_origins)\n",
        "n_destinations = pd.unique(n_destinations)\n",
        "\n",
        "no_drones = []\n",
        "for k in range(0, len(n_origins)):\n",
        "  cumsum = 0\n",
        "  for m in range(0, len(origins)):\n",
        "    d = np.sqrt((n_origins[k][0]-origins[m][0])**2+(n_origins[k][1]-origins[m][1])**2+(n_origins[k][2]-origins[m][2])**2)\n",
        "    if d <= max_distance: cumsum += 1\n",
        "  no_drones.append(cumsum)"
      ],
      "metadata": {
        "id": "5AcKyRU-4l2r"
      },
      "execution_count": 22,
      "outputs": []
    },
    {
      "cell_type": "code",
      "source": [
        "n_origins"
      ],
      "metadata": {
        "colab": {
          "base_uri": "https://localhost:8080/"
        },
        "id": "GXgSflBYn3HR",
        "outputId": "922a3393-bbf3-4cb0-c10b-3599c5463eab"
      },
      "execution_count": 23,
      "outputs": [
        {
          "output_type": "execute_result",
          "data": {
            "text/plain": [
              "array([(-5.0, -5.0, 0.5), (5.0, -5.0, 0.5)], dtype=object)"
            ]
          },
          "metadata": {},
          "execution_count": 23
        }
      ]
    },
    {
      "cell_type": "code",
      "source": [
        "n_destinations"
      ],
      "metadata": {
        "colab": {
          "base_uri": "https://localhost:8080/"
        },
        "id": "cF1PMfS3n4pd",
        "outputId": "96ec808e-b13b-43ae-d5a2-c2027ce83fcb"
      },
      "execution_count": 24,
      "outputs": [
        {
          "output_type": "execute_result",
          "data": {
            "text/plain": [
              "array([(5.0, 5.0, 0.5), (-5.0, 5.0, 0.5)], dtype=object)"
            ]
          },
          "metadata": {},
          "execution_count": 24
        }
      ]
    },
    {
      "cell_type": "markdown",
      "source": [
        "PSO"
      ],
      "metadata": {
        "id": "Lr1LfqDf4pMj"
      }
    },
    {
      "cell_type": "code",
      "execution_count": 59,
      "metadata": {
        "colab": {
          "base_uri": "https://localhost:8080/"
        },
        "id": "IPX3MnSm9hQJ",
        "outputId": "d7b07463-df11-4a54-b0b0-e9dd849feca4"
      },
      "outputs": [
        {
          "output_type": "stream",
          "name": "stderr",
          "text": [
            "100%|██████████| 100/100 [00:13<00:00,  7.67it/s]\n"
          ]
        },
        {
          "output_type": "stream",
          "name": "stdout",
          "text": [
            "\n",
            "Final Global Best Cost: 147.30268686346642\n"
          ]
        },
        {
          "output_type": "stream",
          "name": "stderr",
          "text": [
            "100%|██████████| 100/100 [00:12<00:00,  7.70it/s]"
          ]
        },
        {
          "output_type": "stream",
          "name": "stdout",
          "text": [
            "\n",
            "Final Global Best Cost: 142.54554559741072\n"
          ]
        },
        {
          "output_type": "stream",
          "name": "stderr",
          "text": [
            "\n"
          ]
        }
      ],
      "source": [
        "# Create model obstacles\n",
        "bounds_x = (-10, 10)\n",
        "bounds_y = (-10, 10)\n",
        "bounds_z = (0, 3)\n",
        "\n",
        "obstacles = [Obstacle(2,2,0,1.5), \\\n",
        "             Obstacle(-2,-2,0,1.5), \\\n",
        "             Obstacle(2,-2,0,1.0), \\\n",
        "             Obstacle(-2,2,0,1.0)]\n",
        "\n",
        "# Create CDR\n",
        "cdr = CDR()\n",
        "\n",
        "# Run PSO\n",
        "data = []\n",
        "colors = ['red', 'blue', 'green']\n",
        "for i in range(0, len(n_origins)):\n",
        "  x, y, z, cost = PSO(origin=n_origins[i], destination=n_destinations[i], geometry=obstacles, no_particles=100, \\\n",
        "                    handles=3, iterations=100, min_limit=(bounds_x[0],bounds_y[0],bounds_z[0]), max_limit=(bounds_x[1],bounds_y[1],bounds_z[1]))\n",
        "\n",
        "  # Append best line\n",
        "  data.append(go.Scatter3d(x=x, y=y, z=z, mode='lines', name=f'Corridor {i}', line=dict(width=5, color=colors[i])))\n",
        "  \n",
        "  for j in range(0, len(no_drones)):\n",
        "    cdr.add_drone(drone=Drone(speed=5), track=(x,y,z))\n",
        "\n",
        "# Append 3d-spheres\n",
        "for j in range(0, len(obstacles)):\n",
        "    (x_pns_surface, y_pns_surface, z_pns_surface) = ms(obstacles[j].x, obstacles[j].y, obstacles[j].z, obstacles[j].r)\n",
        "    data.append(go.Surface(x=x_pns_surface, y=y_pns_surface, z=z_pns_surface, showscale=False, opacity=1))\n",
        "\n",
        "# Plot first frame of drones\n",
        "data.append(go.Scatter3d(\n",
        "            x=[cdr.master[f'drone_{m}'][0][0] for m in range(0,len(origins))],\n",
        "            y=[cdr.master[f'drone_{m}'][0][1] for m in range(0,len(origins))],\n",
        "            z=[cdr.master[f'drone_{m}'][0][2] for m in range(0,len(origins))],\n",
        "            name='Drone',\n",
        "            mode=\"markers\",\n",
        "            marker=dict(color=\"black\", size=5)))"
      ]
    },
    {
      "cell_type": "markdown",
      "source": [
        "Plot"
      ],
      "metadata": {
        "id": "a67aFy6EpJvp"
      }
    },
    {
      "cell_type": "code",
      "source": [
        "layout = go.Layout(scene=dict(\n",
        "  aspectmode='manual',\n",
        "  aspectratio=dict(x=1, y=(bounds_y[1]-bounds_y[0])/(bounds_x[1]-bounds_x[0]), z=(bounds_z[1]-bounds_z[0])/(bounds_x[1]-bounds_x[0])),\n",
        "  bgcolor='rgba(0,0,0,0)',\n",
        "  xaxis = dict(range=[bounds_x[0], bounds_x[1]], showgrid=True, gridcolor='rgba(0, 0, 0, .1)', backgroundcolor=\"rgba(0, 0, 0, 0)\", showticklabels=True),\n",
        "  yaxis = dict(range=[bounds_y[0], bounds_y[1]], showgrid=True, gridcolor='rgba(0, 0, 0, .1)', backgroundcolor=\"rgba(0, 0, 0, 0)\", showticklabels=True),\n",
        "  zaxis = dict(range=[bounds_z[0], bounds_z[1]], showgrid=True, gridcolor='rgba(0, 0, 0, .1)', backgroundcolor=\"rgba(0, 0, 0, 0)\", showticklabels=True)),\n",
        "  updatemenus=[dict(type=\"buttons\", buttons=[dict(label=\"Play\", method=\"animate\",args=[None, {'frame':{'duration':1}}])])]\n",
        "  )\n",
        "\n",
        "frames=[go.Frame(\n",
        "        data=[go.Scatter3d(\n",
        "            x=[cdr.master[f'drone_{m}'][k][0] for m in range(0,len(origins))],\n",
        "            y=[cdr.master[f'drone_{m}'][k][1] for m in range(0,len(origins))],\n",
        "            z=[cdr.master[f'drone_{m}'][k][2] for m in range(0,len(origins))],\n",
        "            name='Drone',\n",
        "            mode=\"markers\",\n",
        "            marker=dict(color=\"black\", size=5))], traces = [len(data)-1])\n",
        "\n",
        "        for k in range(len(cdr.master.drone_1))]\n",
        "\n",
        "fig = go.Figure(data=data, layout=layout, frames=frames)\n",
        "fig.show()"
      ],
      "metadata": {
        "colab": {
          "base_uri": "https://localhost:8080/",
          "height": 542
        },
        "id": "5sKZcaGClvb7",
        "outputId": "50790e47-dd51-44c6-8c49-e3dd9c7416f6"
      },
      "execution_count": 70,
      "outputs": [
        {
          "output_type": "display_data",
          "data": {
            "text/html": [
              "<html>\n",
              "<head><meta charset=\"utf-8\" /></head>\n",
              "<body>\n",
              "    <div>            <script src=\"https://cdnjs.cloudflare.com/ajax/libs/mathjax/2.7.5/MathJax.js?config=TeX-AMS-MML_SVG\"></script><script type=\"text/javascript\">if (window.MathJax) {MathJax.Hub.Config({SVG: {font: \"STIX-Web\"}});}</script>                <script type=\"text/javascript\">window.PlotlyConfig = {MathJaxConfig: 'local'};</script>\n",
              "        <script src=\"https://cdn.plot.ly/plotly-2.8.3.min.js\"></script>                <div id=\"61f3a498-a74f-4673-8a48-f65f105b6ad6\" class=\"plotly-graph-div\" style=\"height:525px; width:100%;\"></div>            <script type=\"text/javascript\">                                    window.PLOTLYENV=window.PLOTLYENV || {};                                    if (document.getElementById(\"61f3a498-a74f-4673-8a48-f65f105b6ad6\")) {                    Plotly.newPlot(                        \"61f3a498-a74f-4673-8a48-f65f105b6ad6\",                        [{\"line\":{\"color\":\"red\",\"width\":5},\"mode\":\"lines\",\"name\":\"Corridor 0\",\"x\":[-5.0,-4.928357758300495,-4.8560692381430215,-4.783148535054639,-4.709609744562405,-4.635466962193377,-4.560734283474609,-4.485425803933166,-4.409555619096097,-4.333137824490469,-4.256186515643331,-4.178715788081748,-4.100739737332773,-4.022272458923466,-3.943328048380884,-3.8639206012320853,-3.7840642130041267,-3.703772979224066,-3.623060995418961,-3.5419423571158704,-3.460431159841851,-3.378541499123961,-3.2962874704892573,-3.2136831694647987,-3.1307426915776415,-3.0474801323548455,-2.963909587323467,-2.880045152010564,-2.7959009219431934,-2.7114909926484145,-2.6268294596532846,-2.5419304184848603,-2.4568079646702006,-2.3714761937363624,-2.2859492012104043,-2.200241082619383,-2.1143659334903573,-2.028337849350384,-1.9421709257265214,-1.8558792581458268,-1.769476942135358,-1.6829780732221737,-1.59639674693333,-1.5097470587958854,-1.4230431043368978,-1.3362989790834254,-1.2495287785625246,-1.1627465983012537,-1.0759665338266706,-0.9892026806658331,-0.9024670904494381,-0.8157248051918669,-0.7288938572911893,-0.6418902352491134,-0.5546299275673475,-0.46702892274759805,-0.3790032092915735,-0.2904687757009819,-0.20134161047753155,-0.11153770212292874,-0.0209730391388821,0.0704363899729006,0.1627745967107107,0.2561255925728421,0.35057338905758617,0.4462019976632351,0.5430954298880808,0.6413376972304153,0.741012811188532,0.8422047832607223,0.9449976249452785,1.0494753477404917,1.1557219631446565,1.2638214826560634,1.373857917773005,1.4859152799937727,1.60007758081666,1.7164288317399592,1.8350530442619617,1.9560342298809585,2.079456400095246,2.2054035664031106,2.3339597403028476,2.4652089332927516,2.5992351568711105,2.7361224225362197,2.8759547417863685,3.01881612611985,3.164790587034959,3.3139621360299842,3.4664147846032187,3.622232544252958,3.781499426477489,3.9442994427751095,4.1107166046441055,4.2808349235827725,4.454738411089406,4.632511078662291,4.814236937799727,5.0],\"y\":[-5.0,-4.789918098848092,-4.584926580673878,-4.38492046333912,-4.189794764705566,-3.9994445026349794,-3.8137646949891106,-3.632650359629721,-3.4559965144185614,-3.2836981772173903,-3.115650365887964,-2.951748098292039,-2.791886392291371,-2.6359602657477144,-2.4838647365228272,-2.335494822478465,-2.190745541476384,-2.0495119113783393,-1.911688950046088,-1.777171675341386,-1.6458551051259886,-1.5176342572616532,-1.3924041496101347,-1.27005980003319,-1.1504962263925742,-1.0336084465500452,-0.9192914783673568,-0.8074403397062665,-0.6979500484285298,-0.5907156223959031,-0.485632079470142,-0.3825944375130033,-0.2814977143862422,-0.1822369279516152,-0.08470709607087885,0.011196763394211728,0.1055796325818994,0.19854649363042923,0.2902023286780443,0.3806521198629891,0.47000084932350716,0.5583534991978422,0.645815051624239,0.7324904887409412,0.8184847926861923,0.9039029455982355,0.9888499296153168,1.073430726875679,1.1577503195175662,1.241913689679222,1.326023169796282,1.4101201491444042,1.4941850738392641,1.5781957402939315,1.6621299449214737,1.7459654841349617,1.8296801543474634,1.9132517519720478,1.996658073421783,2.0798769151097396,2.1628860734489854,2.2456633448525896,2.3281865257336203,2.410433412505148,2.492381801580241,2.5740094893719676,2.6552942722933977,2.7362139467575983,2.8167463091776406,2.8968691559665927,2.9765602835375233,3.055797488303501,3.134558566677595,3.2128213150728753,3.2905635299024096,3.3677630075792666,3.4443975445165163,3.520444937127227,3.595882981824468,3.6706894750213066,3.7448422131308146,3.8183189925660583,3.891097609740107,3.9631558610660322,4.0344715429569,4.10502245182578,4.174786384085741,4.243741136149854,4.311864504431185,4.379134285342802,4.445528275297779,4.511024270709181,4.575600067990077,4.639233463553539,4.701902253812632,4.763584235180427,4.824257204069992,4.883898956894396,4.94248729006671,5.0],\"z\":[0.5,0.5,0.5,0.5,0.5,0.5,0.5,0.5,0.5,0.5,0.5,0.5,0.5,0.5,0.5,0.5,0.5,0.5,0.5,0.5,0.5,0.5,0.5,0.5,0.5,0.5,0.5,0.5,0.5,0.5,0.5,0.5,0.5,0.5,0.5,0.5,0.5,0.5,0.5,0.5,0.5,0.5,0.5,0.5,0.5,0.5,0.5,0.5,0.5,0.5,0.5,0.5,0.5,0.5,0.5,0.5,0.5,0.5,0.5,0.5,0.5,0.5,0.5,0.5,0.5,0.5,0.5,0.5,0.5,0.5,0.5,0.5,0.5,0.5,0.5,0.5,0.5,0.5,0.5,0.5,0.5,0.5,0.5,0.5,0.5,0.5,0.5,0.5,0.5,0.5,0.5,0.5,0.5,0.5,0.5,0.5,0.5,0.5,0.5,0.5],\"type\":\"scatter3d\"},{\"line\":{\"color\":\"blue\",\"width\":5},\"mode\":\"lines\",\"name\":\"Corridor 1\",\"x\":[-5.0,-4.983655459680605,-4.960938647613552,-4.932002886057459,-4.897001497270948,-4.856087803512637,-4.809415127041148,-4.757136790115101,-4.699406114993115,-4.636376423933809,-4.568201039195807,-4.495033283037724,-4.417026477718184,-4.334333945495806,-4.247109008629209,-4.155504989377015,-4.059675209997842,-3.959772992750312,-3.8559516598930426,-3.7483645336846565,-3.6371649363837726,-3.5225061902490107,-3.4045416175389915,-3.2834245405123346,-3.1593082814276596,-3.032346162543588,-2.902691506118739,-2.770497634411733,-2.6359178696811885,-2.4991055341857287,-2.360213950183971,-2.2193964399345365,-2.0768063256960443,-1.932596929727116,-1.7869215742863709,-1.6399335816324287,-1.4917862740239105,-1.3426329737194351,-1.1926270029776238,-1.041921684057096,-0.8906703392164714,-0.7390262907143721,-0.5871428608094149,-0.4351733717602219,-0.2832711458254129,-0.13158950526360916,0.019718227666571848,0.17049873070650862,0.32059868159758115,0.46986475808116934,0.6181452028216319,0.765324251711877,0.9113221338733535,1.0560606433504918,1.1994615741877215,1.3414467204294755,1.481937876120183,1.6208568353042745,1.7581253920261792,1.8936653403303303,2.0273984742611573,2.1592465878630906,2.2891314751805596,2.416974930257997,2.542698747139833,2.666224719870496,2.7874746424944186,2.906370309056029,3.0228335135997613,3.136786050170044,3.248149712811307,3.3568462955679816,3.4627975924844994,3.5659253976052896,3.6661515049747826,3.76339770863741,3.8575858026376006,3.9486375810197876,4.036474837828399,4.121019367107866,4.202192962902622,4.2799174192570915,4.3541145302157105,4.424706089822908,4.491613892123112,4.554759731160759,4.614065400980272,4.669452695626087,4.720843409142633,4.768159335574339,4.811322268965638,4.850254003360959,4.884876332804732,4.915111051341391,4.940879953015362,4.962104831871079,4.97870748195297,4.990609697305467,4.997733271973,5.0],\"y\":[5.0,4.925272290327721,4.84502476187117,4.759437812177428,4.668691838793577,4.5729672392667,4.47244441114388,4.367303751972202,4.257725659298746,4.143890530670595,4.025978763634834,3.9041707557385448,3.778646904528809,3.64958760755271,3.51717326235733,3.381584266489754,3.243001017497064,3.10160391292634,2.957573350324668,2.8110897272391306,2.662333441216809,2.5114848898047875,2.3587244705501473,2.204232580999973,2.048189618701346,1.8907759812013507,1.7321720660470674,1.5725582707855814,1.4121149929639736,1.2510226301293284,1.0894615798287268,0.9276122396092539,0.7656550070179904,0.6037702796020199,0.44213845490842596,0.2809399304842901,0.12035510387669646,-0.039435627367273816,-0.19825186570053605,-0.35591321357600914,-0.5122392734466097,-0.6670496477652531,-0.8201639389848598,-0.9714017495583454,-1.1205826819386269,-1.2675263385786204,-1.4120523219312457,-1.5539802344494187,-1.6931296785860563,-1.8293202567940765,-1.9623758181459232,-2.0922178839632117,-2.2188656478167177,-2.3423425498967494,-2.462672030393612,-2.579877529497615,-2.6939824873990634,-2.805010344288264,-2.9129845403555237,-3.017928515791151,-3.119865710785452,-3.2188195655287326,-3.3148135202113003,-3.4078710150234626,-3.498015490155526,-3.585270385797797,-3.669659142140583,-3.75120519937419,-3.829931997688927,-3.9058629772750986,-3.979021578323013,-4.049431241022976,-4.117115405565296,-4.182097512140279,-4.244401000938232,-4.304049312149462,-4.361065885964274,-4.41547416257298,-4.467297582165882,-4.5165595849332885,-4.563283611065508,-4.607493100752843,-4.6492114941856055,-4.688462231554099,-4.725268753048632,-4.75965449885951,-4.791642909177042,-4.821257424191533,-4.8485214840932915,-4.8734585290726224,-4.896091999319834,-4.916445335025234,-4.934541976379127,-4.950405363571822,-4.9640589367936245,-4.9755261362348415,-4.984830402085781,-4.99199517453675,-4.997043893778053,-5.0],\"z\":[0.5,0.5,0.5,0.5,0.5,0.5,0.5,0.5,0.5,0.5,0.5,0.5,0.5,0.5,0.5,0.5,0.5,0.5,0.5,0.5,0.5,0.5,0.5,0.5,0.5,0.5,0.5,0.5,0.5,0.5,0.5,0.5,0.5,0.5,0.5,0.5,0.5,0.5,0.5,0.5,0.5,0.5,0.5,0.5,0.5,0.5,0.5,0.5,0.5,0.5,0.5,0.5,0.5,0.5,0.5,0.5,0.5,0.5,0.5,0.5,0.5,0.5,0.5,0.5,0.5,0.5,0.5,0.5,0.5,0.5,0.5,0.5,0.5,0.5,0.5,0.5,0.5,0.5,0.5,0.5,0.5,0.5,0.5,0.5,0.5,0.5,0.5,0.5,0.5,0.5,0.5,0.5,0.5,0.5,0.5,0.5,0.5,0.5,0.5,0.5],\"type\":\"scatter3d\"},{\"opacity\":1,\"showscale\":false,\"x\":[[2.0,2.513030214988503,2.9641814145298087,3.299038105676658,3.4772116295183118,3.4772116295183118,3.299038105676658,2.964181414529809,2.513030214988503,2.0],[2.0,2.4852328228495097,2.9119394059896,3.228652637975114,3.3971722288391097,3.3971722288391097,3.2286526379751144,2.9119394059896004,2.4852328228495097,2.0],[2.0,2.4048529251917685,2.7608746126125885,3.025123592439004,3.165727537804357,3.165727537804357,3.0251235924390043,2.760874612612589,2.404852925191769,2.0],[2.0,2.2806009311491144,2.5273572487729554,2.7105064992306946,2.80795817992207,2.80795817992207,2.7105064992306946,2.5273572487729554,2.2806009311491144,2.0],[2.0,2.1259414722444014,2.236692544237955,2.3188950021864954,2.3626340164823567,2.3626340164823567,2.3188950021864954,2.2366925442379553,2.125941472244402,2.0],[2.0,1.9576343006387196,1.9203785298715408,1.8927262834896033,1.8780128305102604,1.8780128305102604,1.8927262834896033,1.9203785298715408,1.9576343006387196,2.0],[2.0,1.7939181099303891,1.6126927372479478,1.478182336499826,1.406610847178337,1.406610847178337,1.478182336499826,1.6126927372479478,1.7939181099303891,2.0],[2.0,1.652534089701095,1.3469776962349211,1.1201854301855878,0.9995117859360159,0.9995117859360159,1.1201854301855878,1.3469776962349207,1.6525340897010947,1.9999999999999998],[2.0,1.5488033923417897,1.1520277545198903,0.8575300842403784,0.7008311468616799,0.7008311468616799,0.8575300842403781,1.15202775451989,1.5488033923417894,1.9999999999999998],[2.0,1.4939668484589612,1.0489687632476972,0.7186790809149683,0.5429356117066584,0.5429356117066584,0.7186790809149681,1.048968763247697,1.493966848458961,1.9999999999999998],[2.0,1.4939668484589612,1.0489687632476972,0.7186790809149683,0.5429356117066584,0.5429356117066584,0.7186790809149681,1.048968763247697,1.493966848458961,1.9999999999999998],[2.0,1.5488033923417897,1.15202775451989,0.8575300842403781,0.7008311468616797,0.7008311468616797,0.8575300842403779,1.1520277545198898,1.5488033923417894,1.9999999999999998],[2.0,1.6525340897010947,1.3469776962349205,1.120185430185587,0.999511785936015,0.999511785936015,1.120185430185587,1.3469776962349203,1.6525340897010945,1.9999999999999998],[2.0,1.793918109930389,1.6126927372479472,1.4781823364998252,1.406610847178336,1.406610847178336,1.4781823364998252,1.6126927372479472,1.7939181099303887,2.0],[2.0,1.9576343006387193,1.9203785298715403,1.8927262834896026,1.8780128305102597,1.8780128305102597,1.8927262834896026,1.9203785298715403,1.9576343006387193,2.0],[2.0,2.1259414722444014,2.236692544237955,2.318895002186495,2.362634016482356,2.362634016482356,2.318895002186495,2.236692544237955,2.1259414722444014,2.0],[2.0,2.2806009311491144,2.5273572487729545,2.710506499230694,2.807958179922069,2.807958179922069,2.710506499230694,2.527357248772955,2.2806009311491144,2.0],[2.0,2.4048529251917685,2.7608746126125885,3.0251235924390034,3.165727537804357,3.165727537804357,3.025123592439004,2.760874612612589,2.4048529251917685,2.0],[2.0,2.4852328228495097,2.9119394059896,3.228652637975114,3.3971722288391097,3.3971722288391097,3.2286526379751144,2.9119394059896004,2.4852328228495097,2.0],[2.0,2.513030214988503,2.9641814145298087,3.299038105676658,3.4772116295183118,3.4772116295183118,3.299038105676658,2.964181414529809,2.513030214988503,2.0]],\"y\":[[2.0,2.0,2.0,2.0,2.0,2.0,2.0,2.0,2.0,2.0],[2.0,2.1665806384927317,2.31306919351485,2.4217969833898683,2.4796498320075813,2.4796498320075813,2.4217969833898683,2.31306919351485,2.1665806384927317,2.0],[2.0,2.315109680039852,2.592212482143315,2.797885718774907,2.907322162183167,2.907322162183167,2.7978857187749075,2.592212482143315,2.315109680039852,2.0],[2.0,2.4294916983241928,2.807180359208103,3.087511156058154,3.2366720575322963,3.2366720575322963,3.087511156058154,2.8071803592081035,2.429491698324193,2.0],[2.0,2.4973316268447667,2.9346777196589566,3.259287885108276,3.4320093465037234,3.4320093465037234,3.259287885108276,2.9346777196589566,2.497331626844767,2.0],[2.0,2.51127795670142,2.960888246165643,3.294601231942117,3.4721662028670637,3.4721662028670637,3.294601231942117,2.9608882461656436,2.5112779567014205,2.0],[2.0,2.469819386654581,2.882971621482942,3.189624447487197,3.352791008137523,3.352791008137523,3.1896244474871973,2.8829716214829424,2.469819386654581,2.0],[2.0,2.377448596064819,2.709371320896223,2.9557333952218476,3.0868199169610424,3.0868199169610424,2.955733395221848,2.7093713208962233,2.377448596064819,2.0],[2.0,2.2441753933730273,2.4588996306602606,2.618273799852624,2.7030750240332884,2.7030750240332884,2.618273799852624,2.4588996306602606,2.2441753933730277,2.0],[2.0,2.0844419980376694,2.1586990448808323,2.2138146447629103,2.243141042918502,2.243141042918502,2.2138146447629103,2.1586990448808328,2.0844419980376694,2.0],[2.0,1.9155580019623306,1.8413009551191677,1.7861853552370899,1.7568589570814983,1.7568589570814983,1.7861853552370899,1.8413009551191677,1.9155580019623306,2.0],[2.0,1.7558246066269727,1.5411003693397396,1.3817262001473762,1.296924975966712,1.296924975966712,1.381726200147376,1.5411003693397394,1.7558246066269725,2.0],[2.0,1.6225514039351814,1.2906286791037775,1.0442666047781528,0.9131800830389587,0.9131800830389587,1.0442666047781528,1.2906286791037773,1.622551403935181,1.9999999999999998],[2.0,1.5301806133454194,1.117028378517058,0.8103755525128031,0.6472089918624775,0.6472089918624775,0.8103755525128031,1.1170283785170578,1.530180613345419,1.9999999999999998],[2.0,1.48872204329858,1.0391117538343566,0.705398768057883,0.5278337971329363,0.5278337971329363,0.7053987680578828,1.0391117538343564,1.4887220432985795,1.9999999999999998],[2.0,1.5026683731552333,1.0653222803410434,0.7407121148917237,0.5679906534962764,0.5679906534962764,0.7407121148917235,1.065322280341043,1.502668373155233,1.9999999999999998],[2.0,1.5705083016758068,1.1928196407918965,0.9124888439418457,0.7633279424677035,0.7633279424677035,0.9124888439418455,1.1928196407918963,1.5705083016758068,1.9999999999999998],[2.0,1.684890319960148,1.4077875178566848,1.2021142812250922,1.0926778378168325,1.0926778378168325,1.202114281225092,1.4077875178566845,1.6848903199601477,1.9999999999999998],[2.0,1.8334193615072683,1.68693080648515,1.5782030166101313,1.5203501679924183,1.5203501679924183,1.5782030166101313,1.6869308064851498,1.8334193615072683,2.0],[2.0,1.9999999999999998,1.9999999999999998,1.9999999999999998,1.9999999999999996,1.9999999999999996,1.9999999999999998,1.9999999999999998,1.9999999999999998,2.0]],\"z\":[[1.5,1.4095389311788626,1.149066664678467,0.7500000000000002,0.2604722665003956,-0.26047226650039546,-0.7499999999999997,-1.1490666646784669,-1.4095389311788624,-1.5],[1.5,1.4095389311788626,1.149066664678467,0.7500000000000002,0.2604722665003956,-0.26047226650039546,-0.7499999999999997,-1.1490666646784669,-1.4095389311788624,-1.5],[1.5,1.4095389311788626,1.149066664678467,0.7500000000000002,0.2604722665003956,-0.26047226650039546,-0.7499999999999997,-1.1490666646784669,-1.4095389311788624,-1.5],[1.5,1.4095389311788626,1.149066664678467,0.7500000000000002,0.2604722665003956,-0.26047226650039546,-0.7499999999999997,-1.1490666646784669,-1.4095389311788624,-1.5],[1.5,1.4095389311788626,1.149066664678467,0.7500000000000002,0.2604722665003956,-0.26047226650039546,-0.7499999999999997,-1.1490666646784669,-1.4095389311788624,-1.5],[1.5,1.4095389311788626,1.149066664678467,0.7500000000000002,0.2604722665003956,-0.26047226650039546,-0.7499999999999997,-1.1490666646784669,-1.4095389311788624,-1.5],[1.5,1.4095389311788626,1.149066664678467,0.7500000000000002,0.2604722665003956,-0.26047226650039546,-0.7499999999999997,-1.1490666646784669,-1.4095389311788624,-1.5],[1.5,1.4095389311788626,1.149066664678467,0.7500000000000002,0.2604722665003956,-0.26047226650039546,-0.7499999999999997,-1.1490666646784669,-1.4095389311788624,-1.5],[1.5,1.4095389311788626,1.149066664678467,0.7500000000000002,0.2604722665003956,-0.26047226650039546,-0.7499999999999997,-1.1490666646784669,-1.4095389311788624,-1.5],[1.5,1.4095389311788626,1.149066664678467,0.7500000000000002,0.2604722665003956,-0.26047226650039546,-0.7499999999999997,-1.1490666646784669,-1.4095389311788624,-1.5],[1.5,1.4095389311788626,1.149066664678467,0.7500000000000002,0.2604722665003956,-0.26047226650039546,-0.7499999999999997,-1.1490666646784669,-1.4095389311788624,-1.5],[1.5,1.4095389311788626,1.149066664678467,0.7500000000000002,0.2604722665003956,-0.26047226650039546,-0.7499999999999997,-1.1490666646784669,-1.4095389311788624,-1.5],[1.5,1.4095389311788626,1.149066664678467,0.7500000000000002,0.2604722665003956,-0.26047226650039546,-0.7499999999999997,-1.1490666646784669,-1.4095389311788624,-1.5],[1.5,1.4095389311788626,1.149066664678467,0.7500000000000002,0.2604722665003956,-0.26047226650039546,-0.7499999999999997,-1.1490666646784669,-1.4095389311788624,-1.5],[1.5,1.4095389311788626,1.149066664678467,0.7500000000000002,0.2604722665003956,-0.26047226650039546,-0.7499999999999997,-1.1490666646784669,-1.4095389311788624,-1.5],[1.5,1.4095389311788626,1.149066664678467,0.7500000000000002,0.2604722665003956,-0.26047226650039546,-0.7499999999999997,-1.1490666646784669,-1.4095389311788624,-1.5],[1.5,1.4095389311788626,1.149066664678467,0.7500000000000002,0.2604722665003956,-0.26047226650039546,-0.7499999999999997,-1.1490666646784669,-1.4095389311788624,-1.5],[1.5,1.4095389311788626,1.149066664678467,0.7500000000000002,0.2604722665003956,-0.26047226650039546,-0.7499999999999997,-1.1490666646784669,-1.4095389311788624,-1.5],[1.5,1.4095389311788626,1.149066664678467,0.7500000000000002,0.2604722665003956,-0.26047226650039546,-0.7499999999999997,-1.1490666646784669,-1.4095389311788624,-1.5],[1.5,1.4095389311788626,1.149066664678467,0.7500000000000002,0.2604722665003956,-0.26047226650039546,-0.7499999999999997,-1.1490666646784669,-1.4095389311788624,-1.5]],\"type\":\"surface\"},{\"opacity\":1,\"showscale\":false,\"x\":[[-2.0,-1.486969785011497,-1.0358185854701911,-0.700961894323342,-0.522788370481688,-0.522788370481688,-0.700961894323342,-1.035818585470191,-1.4869697850114967,-1.9999999999999998],[-2.0,-1.5147671771504905,-1.0880605940104,-0.7713473620248859,-0.6028277711608903,-0.6028277711608903,-0.7713473620248856,-1.0880605940103996,-1.5147671771504903,-1.9999999999999998],[-2.0,-1.5951470748082315,-1.2391253873874113,-0.9748764075609961,-0.8342724621956428,-0.8342724621956428,-0.9748764075609959,-1.239125387387411,-1.5951470748082313,-1.9999999999999998],[-2.0,-1.7193990688508856,-1.4726427512270448,-1.2894935007693054,-1.1920418200779301,-1.1920418200779301,-1.2894935007693054,-1.4726427512270446,-1.7193990688508853,-2.0],[-2.0,-1.8740585277555983,-1.763307455762045,-1.6811049978135046,-1.6373659835176433,-1.6373659835176433,-1.6811049978135046,-1.763307455762045,-1.8740585277555983,-2.0],[-2.0,-2.0423656993612807,-2.079621470128459,-2.107273716510397,-2.1219871694897394,-2.1219871694897394,-2.107273716510397,-2.079621470128459,-2.0423656993612807,-2.0],[-2.0,-2.2060818900696106,-2.387307262752052,-2.521817663500174,-2.593389152821663,-2.593389152821663,-2.521817663500174,-2.3873072627520524,-2.206081890069611,-2.0],[-2.0,-2.3474659102989053,-2.653022303765079,-2.879814569814412,-3.000488214063984,-3.000488214063984,-2.879814569814412,-2.6530223037650793,-2.3474659102989053,-2.0],[-2.0,-2.4511966076582103,-2.8479722454801095,-3.1424699157596216,-3.29916885313832,-3.29916885313832,-3.142469915759622,-2.84797224548011,-2.4511966076582103,-2.0],[-2.0,-2.506033151541039,-2.9510312367523026,-3.2813209190850317,-3.4570643882933414,-3.4570643882933414,-3.281320919085032,-2.951031236752303,-2.506033151541039,-2.0],[-2.0,-2.506033151541039,-2.9510312367523026,-3.2813209190850317,-3.4570643882933414,-3.4570643882933414,-3.281320919085032,-2.951031236752303,-2.506033151541039,-2.0],[-2.0,-2.4511966076582103,-2.84797224548011,-3.142469915759622,-3.2991688531383203,-3.2991688531383203,-3.142469915759622,-2.8479722454801104,-2.4511966076582103,-2.0],[-2.0,-2.3474659102989053,-2.6530223037650797,-2.879814569814413,-3.000488214063985,-3.000488214063985,-2.879814569814413,-2.6530223037650797,-2.3474659102989057,-2.0],[-2.0,-2.206081890069611,-2.387307262752053,-2.5218176635001748,-2.593389152821664,-2.593389152821664,-2.5218176635001748,-2.387307262752053,-2.206081890069611,-2.0],[-2.0,-2.0423656993612807,-2.0796214701284597,-2.1072737165103974,-2.1219871694897403,-2.1219871694897403,-2.1072737165103974,-2.0796214701284597,-2.0423656993612807,-2.0],[-2.0,-1.8740585277555986,-1.7633074557620454,-1.681104997813505,-1.637365983517644,-1.637365983517644,-1.681104997813505,-1.7633074557620454,-1.8740585277555986,-2.0],[-2.0,-1.7193990688508858,-1.4726427512270452,-1.2894935007693058,-1.192041820077931,-1.192041820077931,-1.2894935007693058,-1.472642751227045,-1.7193990688508856,-2.0],[-2.0,-1.5951470748082315,-1.2391253873874115,-0.9748764075609964,-0.834272462195643,-0.834272462195643,-0.9748764075609961,-1.239125387387411,-1.5951470748082313,-1.9999999999999998],[-2.0,-1.5147671771504905,-1.0880605940104,-0.7713473620248859,-0.6028277711608903,-0.6028277711608903,-0.7713473620248856,-1.0880605940103996,-1.5147671771504903,-1.9999999999999998],[-2.0,-1.486969785011497,-1.0358185854701911,-0.700961894323342,-0.522788370481688,-0.522788370481688,-0.700961894323342,-1.035818585470191,-1.4869697850114967,-1.9999999999999998]],\"y\":[[-2.0,-2.0,-2.0,-2.0,-2.0,-2.0,-2.0,-2.0,-2.0,-2.0],[-2.0,-1.8334193615072685,-1.68693080648515,-1.5782030166101317,-1.5203501679924185,-1.5203501679924185,-1.5782030166101317,-1.68693080648515,-1.8334193615072683,-2.0],[-2.0,-1.6848903199601482,-1.407787517856685,-1.2021142812250927,-1.092677837816833,-1.092677837816833,-1.2021142812250925,-1.407787517856685,-1.684890319960148,-1.9999999999999998],[-2.0,-1.570508301675807,-1.1928196407918967,-0.9124888439418459,-0.7633279424677037,-0.7633279424677037,-0.9124888439418457,-1.1928196407918965,-1.5705083016758068,-1.9999999999999998],[-2.0,-1.5026683731552333,-1.0653222803410434,-0.740712114891724,-0.5679906534962766,-0.5679906534962766,-0.7407121148917237,-1.0653222803410434,-1.502668373155233,-1.9999999999999998],[-2.0,-1.48872204329858,-1.0391117538343566,-0.705398768057883,-0.5278337971329363,-0.5278337971329363,-0.7053987680578828,-1.0391117538343564,-1.4887220432985795,-1.9999999999999998],[-2.0,-1.5301806133454192,-1.117028378517058,-0.8103755525128029,-0.647208991862477,-0.647208991862477,-0.8103755525128027,-1.1170283785170576,-1.530180613345419,-1.9999999999999998],[-2.0,-1.622551403935181,-1.290628679103777,-1.0442666047781521,-0.9131800830389578,-0.9131800830389578,-1.044266604778152,-1.2906286791037767,-1.6225514039351807,-1.9999999999999998],[-2.0,-1.7558246066269725,-1.5411003693397394,-1.381726200147376,-1.2969249759667119,-1.2969249759667119,-1.381726200147376,-1.5411003693397394,-1.7558246066269725,-2.0],[-2.0,-1.9155580019623304,-1.8413009551191675,-1.7861853552370897,-1.7568589570814979,-1.7568589570814979,-1.7861853552370897,-1.8413009551191675,-1.9155580019623304,-2.0],[-2.0,-2.0844419980376694,-2.1586990448808323,-2.21381464476291,-2.2431410429185017,-2.2431410429185017,-2.21381464476291,-2.1586990448808323,-2.0844419980376694,-2.0],[-2.0,-2.2441753933730273,-2.4588996306602606,-2.6182737998526235,-2.703075024033288,-2.703075024033288,-2.618273799852624,-2.4588996306602606,-2.2441753933730277,-2.0],[-2.0,-2.3774485960648186,-2.7093713208962225,-2.955733395221847,-3.0868199169610415,-3.0868199169610415,-2.955733395221847,-2.7093713208962225,-2.377448596064819,-2.0],[-2.0,-2.4698193866545806,-2.882971621482942,-3.189624447487197,-3.3527910081375225,-3.3527910081375225,-3.189624447487197,-2.882971621482942,-2.469819386654581,-2.0],[-2.0,-2.51127795670142,-2.960888246165643,-3.294601231942117,-3.4721662028670637,-3.4721662028670637,-3.294601231942117,-2.9608882461656436,-2.5112779567014205,-2.0],[-2.0,-2.4973316268447667,-2.9346777196589566,-3.259287885108276,-3.4320093465037234,-3.4320093465037234,-3.2592878851082765,-2.934677719658957,-2.497331626844767,-2.0],[-2.0,-2.429491698324193,-2.8071803592081035,-3.087511156058154,-3.2366720575322967,-3.2366720575322967,-3.0875111560581545,-2.807180359208104,-2.429491698324193,-2.0],[-2.0,-2.315109680039852,-2.5922124821433155,-2.797885718774908,-2.9073221621831675,-2.9073221621831675,-2.797885718774908,-2.5922124821433155,-2.315109680039852,-2.0],[-2.0,-2.1665806384927317,-2.31306919351485,-2.4217969833898687,-2.4796498320075817,-2.4796498320075817,-2.4217969833898687,-2.31306919351485,-2.1665806384927317,-2.0],[-2.0,-2.0,-2.0000000000000004,-2.0000000000000004,-2.0000000000000004,-2.0000000000000004,-2.0000000000000004,-2.0000000000000004,-2.0,-2.0]],\"z\":[[1.5,1.4095389311788626,1.149066664678467,0.7500000000000002,0.2604722665003956,-0.26047226650039546,-0.7499999999999997,-1.1490666646784669,-1.4095389311788624,-1.5],[1.5,1.4095389311788626,1.149066664678467,0.7500000000000002,0.2604722665003956,-0.26047226650039546,-0.7499999999999997,-1.1490666646784669,-1.4095389311788624,-1.5],[1.5,1.4095389311788626,1.149066664678467,0.7500000000000002,0.2604722665003956,-0.26047226650039546,-0.7499999999999997,-1.1490666646784669,-1.4095389311788624,-1.5],[1.5,1.4095389311788626,1.149066664678467,0.7500000000000002,0.2604722665003956,-0.26047226650039546,-0.7499999999999997,-1.1490666646784669,-1.4095389311788624,-1.5],[1.5,1.4095389311788626,1.149066664678467,0.7500000000000002,0.2604722665003956,-0.26047226650039546,-0.7499999999999997,-1.1490666646784669,-1.4095389311788624,-1.5],[1.5,1.4095389311788626,1.149066664678467,0.7500000000000002,0.2604722665003956,-0.26047226650039546,-0.7499999999999997,-1.1490666646784669,-1.4095389311788624,-1.5],[1.5,1.4095389311788626,1.149066664678467,0.7500000000000002,0.2604722665003956,-0.26047226650039546,-0.7499999999999997,-1.1490666646784669,-1.4095389311788624,-1.5],[1.5,1.4095389311788626,1.149066664678467,0.7500000000000002,0.2604722665003956,-0.26047226650039546,-0.7499999999999997,-1.1490666646784669,-1.4095389311788624,-1.5],[1.5,1.4095389311788626,1.149066664678467,0.7500000000000002,0.2604722665003956,-0.26047226650039546,-0.7499999999999997,-1.1490666646784669,-1.4095389311788624,-1.5],[1.5,1.4095389311788626,1.149066664678467,0.7500000000000002,0.2604722665003956,-0.26047226650039546,-0.7499999999999997,-1.1490666646784669,-1.4095389311788624,-1.5],[1.5,1.4095389311788626,1.149066664678467,0.7500000000000002,0.2604722665003956,-0.26047226650039546,-0.7499999999999997,-1.1490666646784669,-1.4095389311788624,-1.5],[1.5,1.4095389311788626,1.149066664678467,0.7500000000000002,0.2604722665003956,-0.26047226650039546,-0.7499999999999997,-1.1490666646784669,-1.4095389311788624,-1.5],[1.5,1.4095389311788626,1.149066664678467,0.7500000000000002,0.2604722665003956,-0.26047226650039546,-0.7499999999999997,-1.1490666646784669,-1.4095389311788624,-1.5],[1.5,1.4095389311788626,1.149066664678467,0.7500000000000002,0.2604722665003956,-0.26047226650039546,-0.7499999999999997,-1.1490666646784669,-1.4095389311788624,-1.5],[1.5,1.4095389311788626,1.149066664678467,0.7500000000000002,0.2604722665003956,-0.26047226650039546,-0.7499999999999997,-1.1490666646784669,-1.4095389311788624,-1.5],[1.5,1.4095389311788626,1.149066664678467,0.7500000000000002,0.2604722665003956,-0.26047226650039546,-0.7499999999999997,-1.1490666646784669,-1.4095389311788624,-1.5],[1.5,1.4095389311788626,1.149066664678467,0.7500000000000002,0.2604722665003956,-0.26047226650039546,-0.7499999999999997,-1.1490666646784669,-1.4095389311788624,-1.5],[1.5,1.4095389311788626,1.149066664678467,0.7500000000000002,0.2604722665003956,-0.26047226650039546,-0.7499999999999997,-1.1490666646784669,-1.4095389311788624,-1.5],[1.5,1.4095389311788626,1.149066664678467,0.7500000000000002,0.2604722665003956,-0.26047226650039546,-0.7499999999999997,-1.1490666646784669,-1.4095389311788624,-1.5],[1.5,1.4095389311788626,1.149066664678467,0.7500000000000002,0.2604722665003956,-0.26047226650039546,-0.7499999999999997,-1.1490666646784669,-1.4095389311788624,-1.5]],\"type\":\"surface\"},{\"opacity\":1,\"showscale\":false,\"x\":[[2.0,2.342020143325669,2.6427876096865393,2.8660254037844384,2.984807753012208,2.984807753012208,2.866025403784439,2.6427876096865397,2.342020143325669,2.0],[2.0,2.3234885485663397,2.607959603993067,2.819101758650076,2.9314481525594065,2.9314481525594065,2.819101758650076,2.607959603993067,2.3234885485663397,2.0],[2.0,2.2699019501278457,2.5072497417417257,2.6834157282926694,2.7771516918695713,2.7771516918695713,2.6834157282926694,2.507249741741726,2.2699019501278457,2.0],[2.0,2.187067287432743,2.3515714991819703,2.4736709994871298,2.538638786614713,2.538638786614713,2.4736709994871298,2.3515714991819703,2.1870672874327433,2.0],[2.0,2.0839609814962676,2.15779502949197,2.21259666812433,2.241756010988238,2.241756010988238,2.21259666812433,2.15779502949197,2.0839609814962676,2.0],[2.0,1.971756200425813,1.9469190199143607,1.9284841889930688,1.9186752203401736,1.9186752203401736,1.9284841889930688,1.9469190199143607,1.971756200425813,2.0],[2.0,1.862612073286926,1.7417951581652986,1.6521215576665509,1.6044072314522246,1.6044072314522246,1.6521215576665507,1.7417951581652984,1.862612073286926,2.0],[2.0,1.76835605980073,1.5646517974899474,1.4134569534570587,1.3330078572906774,1.3330078572906774,1.4134569534570585,1.5646517974899472,1.7683560598007297,2.0],[2.0,1.6992022615611933,1.434685169679927,1.2383533894935854,1.1338874312411198,1.1338874312411198,1.2383533894935854,1.4346851696799265,1.699202261561193,2.0],[2.0,1.6626445656393076,1.365979175498465,1.1457860539433122,1.028623741137772,1.028623741137772,1.1457860539433122,1.3659791754984645,1.6626445656393074,1.9999999999999998],[2.0,1.6626445656393074,1.3659791754984647,1.1457860539433122,1.028623741137772,1.028623741137772,1.145786053943312,1.3659791754984645,1.6626445656393072,1.9999999999999998],[2.0,1.699202261561193,1.4346851696799268,1.2383533894935854,1.1338874312411198,1.1338874312411198,1.2383533894935854,1.4346851696799265,1.699202261561193,2.0],[2.0,1.7683560598007297,1.564651797489947,1.4134569534570582,1.3330078572906767,1.3330078572906767,1.413456953457058,1.564651797489947,1.7683560598007295,2.0],[2.0,1.8626120732869258,1.7417951581652982,1.6521215576665502,1.604407231452224,1.604407231452224,1.6521215576665502,1.741795158165298,1.8626120732869258,2.0],[2.0,1.971756200425813,1.9469190199143602,1.9284841889930684,1.9186752203401731,1.9186752203401731,1.9284841889930684,1.9469190199143602,1.971756200425813,2.0],[2.0,2.0839609814962676,2.15779502949197,2.2125966681243296,2.2417560109882375,2.2417560109882375,2.21259666812433,2.15779502949197,2.0839609814962676,2.0],[2.0,2.187067287432743,2.35157149918197,2.4736709994871293,2.5386387866147127,2.5386387866147127,2.4736709994871298,2.35157149918197,2.187067287432743,2.0],[2.0,2.2699019501278457,2.5072497417417257,2.683415728292669,2.7771516918695713,2.7771516918695713,2.683415728292669,2.5072497417417257,2.2699019501278457,2.0],[2.0,2.3234885485663397,2.607959603993067,2.819101758650076,2.9314481525594065,2.9314481525594065,2.819101758650076,2.607959603993067,2.3234885485663397,2.0],[2.0,2.342020143325669,2.6427876096865393,2.8660254037844384,2.984807753012208,2.984807753012208,2.866025403784439,2.6427876096865397,2.342020143325669,2.0]],\"y\":[[-2.0,-2.0,-2.0,-2.0,-2.0,-2.0,-2.0,-2.0,-2.0,-2.0],[-2.0,-1.8889462410048456,-1.7912872043234334,-1.718802011073421,-1.680233445328279,-1.680233445328279,-1.718802011073421,-1.7912872043234334,-1.8889462410048456,-2.0],[-2.0,-1.789926879973432,-1.6051916785711233,-1.468076187483395,-1.3951185585445554,-1.3951185585445554,-1.468076187483395,-1.6051916785711233,-1.789926879973432,-2.0],[-2.0,-1.7136722011172045,-1.461879760527931,-1.2749925626278973,-1.1755519616451358,-1.1755519616451358,-1.2749925626278973,-1.461879760527931,-1.7136722011172045,-2.0],[-2.0,-1.668445582103489,-1.3768815202273623,-1.1604747432611493,-1.0453271023308512,-1.0453271023308512,-1.1604747432611493,-1.376881520227362,-1.6684455821034887,-1.9999999999999998],[-2.0,-1.6591480288657199,-1.3594078358895711,-1.1369325120385887,-1.018555864755291,-1.018555864755291,-1.1369325120385887,-1.359407835889571,-1.6591480288657197,-1.9999999999999998],[-2.0,-1.6867870755636127,-1.4113522523447053,-1.2069170350085352,-1.098139327908318,-1.098139327908318,-1.206917035008535,-1.411352252344705,-1.6867870755636125,-1.9999999999999998],[-2.0,-1.748367602623454,-1.5270857860691847,-1.3628444031854348,-1.2754533886926387,-1.2754533886926387,-1.3628444031854348,-1.5270857860691844,-1.7483676026234538,-2.0],[-2.0,-1.8372164044179817,-1.6940669128931596,-1.5878174667649174,-1.5312833173111413,-1.5312833173111413,-1.5878174667649172,-1.6940669128931596,-1.8372164044179815,-2.0],[-2.0,-1.9437053346415536,-1.8942006367461117,-1.857456903491393,-1.8379059713876653,-1.8379059713876653,-1.857456903491393,-1.8942006367461117,-1.9437053346415536,-2.0],[-2.0,-2.0562946653584464,-2.105799363253888,-2.1425430965086067,-2.1620940286123345,-2.1620940286123345,-2.1425430965086067,-2.105799363253888,-2.0562946653584464,-2.0],[-2.0,-2.1627835955820185,-2.3059330871068404,-2.4121825332350824,-2.4687166826888585,-2.4687166826888585,-2.4121825332350824,-2.3059330871068404,-2.1627835955820185,-2.0],[-2.0,-2.2516323973765457,-2.472914213930815,-2.637155596814565,-2.724546611307361,-2.724546611307361,-2.637155596814565,-2.472914213930815,-2.2516323973765457,-2.0],[-2.0,-2.313212924436387,-2.5886477476552945,-2.7930829649914646,-2.901860672091682,-2.901860672091682,-2.7930829649914646,-2.588647747655295,-2.313212924436387,-2.0],[-2.0,-2.3408519711342803,-2.640592164110429,-2.8630674879614113,-2.981444135244709,-2.981444135244709,-2.8630674879614113,-2.640592164110429,-2.3408519711342803,-2.0],[-2.0,-2.3315544178965113,-2.6231184797726375,-2.8395252567388507,-2.954672897669149,-2.954672897669149,-2.8395252567388507,-2.623118479772638,-2.3315544178965113,-2.0],[-2.0,-2.2863277988827955,-2.538120239472069,-2.7250074373721027,-2.8244480383548645,-2.8244480383548645,-2.725007437372103,-2.538120239472069,-2.2863277988827955,-2.0],[-2.0,-2.210073120026568,-2.3948083214288767,-2.531923812516605,-2.604881441455445,-2.604881441455445,-2.531923812516605,-2.394808321428877,-2.210073120026568,-2.0],[-2.0,-2.1110537589951544,-2.2087127956765666,-2.281197988926579,-2.3197665546717214,-2.3197665546717214,-2.281197988926579,-2.2087127956765666,-2.1110537589951544,-2.0],[-2.0,-2.0,-2.0,-2.0,-2.0000000000000004,-2.0000000000000004,-2.0,-2.0,-2.0,-2.0]],\"z\":[[1.0,0.9396926207859084,0.766044443118978,0.5000000000000001,0.17364817766693041,-0.1736481776669303,-0.4999999999999998,-0.7660444431189779,-0.9396926207859083,-1.0],[1.0,0.9396926207859084,0.766044443118978,0.5000000000000001,0.17364817766693041,-0.1736481776669303,-0.4999999999999998,-0.7660444431189779,-0.9396926207859083,-1.0],[1.0,0.9396926207859084,0.766044443118978,0.5000000000000001,0.17364817766693041,-0.1736481776669303,-0.4999999999999998,-0.7660444431189779,-0.9396926207859083,-1.0],[1.0,0.9396926207859084,0.766044443118978,0.5000000000000001,0.17364817766693041,-0.1736481776669303,-0.4999999999999998,-0.7660444431189779,-0.9396926207859083,-1.0],[1.0,0.9396926207859084,0.766044443118978,0.5000000000000001,0.17364817766693041,-0.1736481776669303,-0.4999999999999998,-0.7660444431189779,-0.9396926207859083,-1.0],[1.0,0.9396926207859084,0.766044443118978,0.5000000000000001,0.17364817766693041,-0.1736481776669303,-0.4999999999999998,-0.7660444431189779,-0.9396926207859083,-1.0],[1.0,0.9396926207859084,0.766044443118978,0.5000000000000001,0.17364817766693041,-0.1736481776669303,-0.4999999999999998,-0.7660444431189779,-0.9396926207859083,-1.0],[1.0,0.9396926207859084,0.766044443118978,0.5000000000000001,0.17364817766693041,-0.1736481776669303,-0.4999999999999998,-0.7660444431189779,-0.9396926207859083,-1.0],[1.0,0.9396926207859084,0.766044443118978,0.5000000000000001,0.17364817766693041,-0.1736481776669303,-0.4999999999999998,-0.7660444431189779,-0.9396926207859083,-1.0],[1.0,0.9396926207859084,0.766044443118978,0.5000000000000001,0.17364817766693041,-0.1736481776669303,-0.4999999999999998,-0.7660444431189779,-0.9396926207859083,-1.0],[1.0,0.9396926207859084,0.766044443118978,0.5000000000000001,0.17364817766693041,-0.1736481776669303,-0.4999999999999998,-0.7660444431189779,-0.9396926207859083,-1.0],[1.0,0.9396926207859084,0.766044443118978,0.5000000000000001,0.17364817766693041,-0.1736481776669303,-0.4999999999999998,-0.7660444431189779,-0.9396926207859083,-1.0],[1.0,0.9396926207859084,0.766044443118978,0.5000000000000001,0.17364817766693041,-0.1736481776669303,-0.4999999999999998,-0.7660444431189779,-0.9396926207859083,-1.0],[1.0,0.9396926207859084,0.766044443118978,0.5000000000000001,0.17364817766693041,-0.1736481776669303,-0.4999999999999998,-0.7660444431189779,-0.9396926207859083,-1.0],[1.0,0.9396926207859084,0.766044443118978,0.5000000000000001,0.17364817766693041,-0.1736481776669303,-0.4999999999999998,-0.7660444431189779,-0.9396926207859083,-1.0],[1.0,0.9396926207859084,0.766044443118978,0.5000000000000001,0.17364817766693041,-0.1736481776669303,-0.4999999999999998,-0.7660444431189779,-0.9396926207859083,-1.0],[1.0,0.9396926207859084,0.766044443118978,0.5000000000000001,0.17364817766693041,-0.1736481776669303,-0.4999999999999998,-0.7660444431189779,-0.9396926207859083,-1.0],[1.0,0.9396926207859084,0.766044443118978,0.5000000000000001,0.17364817766693041,-0.1736481776669303,-0.4999999999999998,-0.7660444431189779,-0.9396926207859083,-1.0],[1.0,0.9396926207859084,0.766044443118978,0.5000000000000001,0.17364817766693041,-0.1736481776669303,-0.4999999999999998,-0.7660444431189779,-0.9396926207859083,-1.0],[1.0,0.9396926207859084,0.766044443118978,0.5000000000000001,0.17364817766693041,-0.1736481776669303,-0.4999999999999998,-0.7660444431189779,-0.9396926207859083,-1.0]],\"type\":\"surface\"},{\"opacity\":1,\"showscale\":false,\"x\":[[-2.0,-1.6579798566743313,-1.3572123903134607,-1.1339745962155614,-1.0151922469877919,-1.0151922469877919,-1.1339745962155612,-1.3572123903134605,-1.6579798566743311,-1.9999999999999998],[-2.0,-1.6765114514336603,-1.3920403960069332,-1.180898241349924,-1.0685518474405935,-1.0685518474405935,-1.1808982413499238,-1.3920403960069332,-1.67651145143366,-1.9999999999999998],[-2.0,-1.7300980498721543,-1.4927502582582743,-1.3165842717073306,-1.2228483081304284,-1.2228483081304284,-1.3165842717073306,-1.492750258258274,-1.730098049872154,-2.0],[-2.0,-1.812932712567257,-1.6484285008180297,-1.5263290005128702,-1.461361213385287,-1.461361213385287,-1.5263290005128702,-1.6484285008180297,-1.812932712567257,-2.0],[-2.0,-1.9160390185037321,-1.8422049705080301,-1.7874033318756697,-1.7582439890117623,-1.7582439890117623,-1.7874033318756697,-1.84220497050803,-1.9160390185037321,-2.0],[-2.0,-2.028243799574187,-2.0530809800856393,-2.071515811006931,-2.0813247796598264,-2.0813247796598264,-2.071515811006931,-2.0530809800856393,-2.028243799574187,-2.0],[-2.0,-2.1373879267130738,-2.2582048418347016,-2.347878442333449,-2.3955927685477754,-2.3955927685477754,-2.347878442333449,-2.2582048418347016,-2.1373879267130738,-2.0],[-2.0,-2.23164394019927,-2.4353482025100526,-2.5865430465429413,-2.6669921427093226,-2.6669921427093226,-2.5865430465429418,-2.4353482025100526,-2.23164394019927,-2.0],[-2.0,-2.3007977384388067,-2.565314830320073,-2.7616466105064146,-2.86611256875888,-2.86611256875888,-2.7616466105064146,-2.5653148303200735,-2.300797738438807,-2.0],[-2.0,-2.3373554343606924,-2.634020824501535,-2.8542139460566878,-2.971376258862228,-2.971376258862228,-2.8542139460566878,-2.6340208245015355,-2.337355434360693,-2.0],[-2.0,-2.3373554343606924,-2.634020824501535,-2.8542139460566878,-2.971376258862228,-2.971376258862228,-2.8542139460566878,-2.6340208245015355,-2.337355434360693,-2.0],[-2.0,-2.3007977384388067,-2.565314830320073,-2.7616466105064146,-2.86611256875888,-2.86611256875888,-2.7616466105064146,-2.5653148303200735,-2.300797738438807,-2.0],[-2.0,-2.23164394019927,-2.435348202510053,-2.5865430465429418,-2.666992142709323,-2.666992142709323,-2.5865430465429418,-2.435348202510053,-2.2316439401992705,-2.0],[-2.0,-2.137387926713074,-2.2582048418347016,-2.3478784423334496,-2.395592768547776,-2.395592768547776,-2.3478784423334496,-2.258204841834702,-2.137387926713074,-2.0],[-2.0,-2.028243799574187,-2.0530809800856398,-2.0715158110069316,-2.081324779659827,-2.081324779659827,-2.0715158110069316,-2.0530809800856398,-2.028243799574187,-2.0],[-2.0,-1.9160390185037324,-1.8422049705080303,-1.7874033318756701,-1.7582439890117627,-1.7582439890117627,-1.7874033318756701,-1.8422049705080301,-1.9160390185037324,-2.0],[-2.0,-1.8129327125672572,-1.6484285008180302,-1.5263290005128707,-1.4613612133852873,-1.4613612133852873,-1.5263290005128705,-1.64842850081803,-1.812932712567257,-2.0],[-2.0,-1.7300980498721543,-1.4927502582582743,-1.3165842717073308,-1.2228483081304287,-1.2228483081304287,-1.3165842717073308,-1.4927502582582741,-1.7300980498721543,-2.0],[-2.0,-1.6765114514336603,-1.3920403960069332,-1.180898241349924,-1.0685518474405935,-1.0685518474405935,-1.1808982413499238,-1.3920403960069332,-1.67651145143366,-1.9999999999999998],[-2.0,-1.6579798566743313,-1.3572123903134607,-1.1339745962155614,-1.0151922469877919,-1.0151922469877919,-1.1339745962155612,-1.3572123903134605,-1.6579798566743311,-1.9999999999999998]],\"y\":[[2.0,2.0,2.0,2.0,2.0,2.0,2.0,2.0,2.0,2.0],[2.0,2.1110537589951544,2.2087127956765666,2.281197988926579,2.319766554671721,2.319766554671721,2.281197988926579,2.2087127956765666,2.1110537589951544,2.0],[2.0,2.2100731200265678,2.3948083214288767,2.531923812516605,2.6048814414554444,2.6048814414554444,2.531923812516605,2.3948083214288767,2.210073120026568,2.0],[2.0,2.2863277988827955,2.538120239472069,2.7250074373721027,2.8244480383548645,2.8244480383548645,2.7250074373721027,2.538120239472069,2.2863277988827955,2.0],[2.0,2.3315544178965113,2.6231184797726375,2.8395252567388507,2.9546728976691488,2.9546728976691488,2.8395252567388507,2.623118479772638,2.3315544178965113,2.0],[2.0,2.3408519711342803,2.640592164110429,2.8630674879614113,2.981444135244709,2.981444135244709,2.8630674879614113,2.640592164110429,2.3408519711342803,2.0],[2.0,2.313212924436387,2.588647747655295,2.7930829649914646,2.901860672091682,2.901860672091682,2.793082964991465,2.588647747655295,2.3132129244363875,2.0],[2.0,2.251632397376546,2.4729142139308156,2.6371555968145652,2.7245466113073613,2.7245466113073613,2.6371555968145652,2.4729142139308156,2.251632397376546,2.0],[2.0,2.1627835955820185,2.3059330871068404,2.412182533235083,2.468716682688859,2.468716682688859,2.412182533235083,2.3059330871068404,2.1627835955820185,2.0],[2.0,2.0562946653584464,2.1057993632538885,2.1425430965086067,2.1620940286123345,2.1620940286123345,2.1425430965086067,2.1057993632538885,2.0562946653584464,2.0],[2.0,1.9437053346415538,1.894200636746112,1.8574569034913933,1.8379059713876655,1.8379059713876655,1.8574569034913933,1.8942006367461117,1.9437053346415536,2.0],[2.0,1.8372164044179817,1.6940669128931596,1.5878174667649176,1.5312833173111415,1.5312833173111415,1.5878174667649174,1.6940669128931596,1.8372164044179817,2.0],[2.0,1.7483676026234543,1.527085786069185,1.3628444031854352,1.2754533886926391,1.2754533886926391,1.3628444031854352,1.5270857860691849,1.748367602623454,2.0],[2.0,1.686787075563613,1.4113522523447055,1.2069170350085354,1.0981393279083183,1.0981393279083183,1.2069170350085354,1.411352252344705,1.6867870755636127,1.9999999999999998],[2.0,1.6591480288657199,1.3594078358895711,1.1369325120385887,1.018555864755291,1.018555864755291,1.1369325120385887,1.359407835889571,1.6591480288657197,1.9999999999999998],[2.0,1.6684455821034887,1.3768815202273623,1.1604747432611493,1.045327102330851,1.045327102330851,1.160474743261149,1.376881520227362,1.6684455821034887,1.9999999999999998],[2.0,1.7136722011172045,1.461879760527931,1.274992562627897,1.1755519616451355,1.1755519616451355,1.2749925626278968,1.4618797605279308,1.7136722011172045,2.0],[2.0,1.789926879973432,1.605191678571123,1.468076187483395,1.3951185585445551,1.3951185585445551,1.4680761874833947,1.605191678571123,1.7899268799734318,2.0],[2.0,1.8889462410048454,1.7912872043234334,1.718802011073421,1.6802334453282788,1.6802334453282788,1.7188020110734208,1.7912872043234331,1.8889462410048454,2.0],[2.0,2.0,1.9999999999999998,1.9999999999999998,1.9999999999999998,1.9999999999999998,1.9999999999999998,1.9999999999999998,2.0,2.0]],\"z\":[[1.0,0.9396926207859084,0.766044443118978,0.5000000000000001,0.17364817766693041,-0.1736481776669303,-0.4999999999999998,-0.7660444431189779,-0.9396926207859083,-1.0],[1.0,0.9396926207859084,0.766044443118978,0.5000000000000001,0.17364817766693041,-0.1736481776669303,-0.4999999999999998,-0.7660444431189779,-0.9396926207859083,-1.0],[1.0,0.9396926207859084,0.766044443118978,0.5000000000000001,0.17364817766693041,-0.1736481776669303,-0.4999999999999998,-0.7660444431189779,-0.9396926207859083,-1.0],[1.0,0.9396926207859084,0.766044443118978,0.5000000000000001,0.17364817766693041,-0.1736481776669303,-0.4999999999999998,-0.7660444431189779,-0.9396926207859083,-1.0],[1.0,0.9396926207859084,0.766044443118978,0.5000000000000001,0.17364817766693041,-0.1736481776669303,-0.4999999999999998,-0.7660444431189779,-0.9396926207859083,-1.0],[1.0,0.9396926207859084,0.766044443118978,0.5000000000000001,0.17364817766693041,-0.1736481776669303,-0.4999999999999998,-0.7660444431189779,-0.9396926207859083,-1.0],[1.0,0.9396926207859084,0.766044443118978,0.5000000000000001,0.17364817766693041,-0.1736481776669303,-0.4999999999999998,-0.7660444431189779,-0.9396926207859083,-1.0],[1.0,0.9396926207859084,0.766044443118978,0.5000000000000001,0.17364817766693041,-0.1736481776669303,-0.4999999999999998,-0.7660444431189779,-0.9396926207859083,-1.0],[1.0,0.9396926207859084,0.766044443118978,0.5000000000000001,0.17364817766693041,-0.1736481776669303,-0.4999999999999998,-0.7660444431189779,-0.9396926207859083,-1.0],[1.0,0.9396926207859084,0.766044443118978,0.5000000000000001,0.17364817766693041,-0.1736481776669303,-0.4999999999999998,-0.7660444431189779,-0.9396926207859083,-1.0],[1.0,0.9396926207859084,0.766044443118978,0.5000000000000001,0.17364817766693041,-0.1736481776669303,-0.4999999999999998,-0.7660444431189779,-0.9396926207859083,-1.0],[1.0,0.9396926207859084,0.766044443118978,0.5000000000000001,0.17364817766693041,-0.1736481776669303,-0.4999999999999998,-0.7660444431189779,-0.9396926207859083,-1.0],[1.0,0.9396926207859084,0.766044443118978,0.5000000000000001,0.17364817766693041,-0.1736481776669303,-0.4999999999999998,-0.7660444431189779,-0.9396926207859083,-1.0],[1.0,0.9396926207859084,0.766044443118978,0.5000000000000001,0.17364817766693041,-0.1736481776669303,-0.4999999999999998,-0.7660444431189779,-0.9396926207859083,-1.0],[1.0,0.9396926207859084,0.766044443118978,0.5000000000000001,0.17364817766693041,-0.1736481776669303,-0.4999999999999998,-0.7660444431189779,-0.9396926207859083,-1.0],[1.0,0.9396926207859084,0.766044443118978,0.5000000000000001,0.17364817766693041,-0.1736481776669303,-0.4999999999999998,-0.7660444431189779,-0.9396926207859083,-1.0],[1.0,0.9396926207859084,0.766044443118978,0.5000000000000001,0.17364817766693041,-0.1736481776669303,-0.4999999999999998,-0.7660444431189779,-0.9396926207859083,-1.0],[1.0,0.9396926207859084,0.766044443118978,0.5000000000000001,0.17364817766693041,-0.1736481776669303,-0.4999999999999998,-0.7660444431189779,-0.9396926207859083,-1.0],[1.0,0.9396926207859084,0.766044443118978,0.5000000000000001,0.17364817766693041,-0.1736481776669303,-0.4999999999999998,-0.7660444431189779,-0.9396926207859083,-1.0],[1.0,0.9396926207859084,0.766044443118978,0.5000000000000001,0.17364817766693041,-0.1736481776669303,-0.4999999999999998,-0.7660444431189779,-0.9396926207859083,-1.0]],\"type\":\"surface\"},{\"marker\":{\"color\":\"black\",\"size\":5},\"mode\":\"markers\",\"name\":\"Drone\",\"x\":[-5.0,-5.0,-5.0,-5.0],\"y\":[-5.0,-5.0,5.0,5.0],\"z\":[0.5,0.5,0.5,0.5],\"type\":\"scatter3d\"}],                        {\"scene\":{\"aspectmode\":\"manual\",\"aspectratio\":{\"x\":1,\"y\":1.0,\"z\":0.15},\"bgcolor\":\"rgba(0,0,0,0)\",\"xaxis\":{\"backgroundcolor\":\"rgba(0, 0, 0, 0)\",\"gridcolor\":\"rgba(0, 0, 0, .1)\",\"range\":[-10,10],\"showgrid\":true,\"showticklabels\":true},\"yaxis\":{\"backgroundcolor\":\"rgba(0, 0, 0, 0)\",\"gridcolor\":\"rgba(0, 0, 0, .1)\",\"range\":[-10,10],\"showgrid\":true,\"showticklabels\":true},\"zaxis\":{\"backgroundcolor\":\"rgba(0, 0, 0, 0)\",\"gridcolor\":\"rgba(0, 0, 0, .1)\",\"range\":[0,3],\"showgrid\":true,\"showticklabels\":true}},\"updatemenus\":[{\"buttons\":[{\"args\":[null,{\"frame\":{\"duration\":1}}],\"label\":\"Play\",\"method\":\"animate\"}],\"type\":\"buttons\"}],\"template\":{\"data\":{\"bar\":[{\"error_x\":{\"color\":\"#2a3f5f\"},\"error_y\":{\"color\":\"#2a3f5f\"},\"marker\":{\"line\":{\"color\":\"#E5ECF6\",\"width\":0.5},\"pattern\":{\"fillmode\":\"overlay\",\"size\":10,\"solidity\":0.2}},\"type\":\"bar\"}],\"barpolar\":[{\"marker\":{\"line\":{\"color\":\"#E5ECF6\",\"width\":0.5},\"pattern\":{\"fillmode\":\"overlay\",\"size\":10,\"solidity\":0.2}},\"type\":\"barpolar\"}],\"carpet\":[{\"aaxis\":{\"endlinecolor\":\"#2a3f5f\",\"gridcolor\":\"white\",\"linecolor\":\"white\",\"minorgridcolor\":\"white\",\"startlinecolor\":\"#2a3f5f\"},\"baxis\":{\"endlinecolor\":\"#2a3f5f\",\"gridcolor\":\"white\",\"linecolor\":\"white\",\"minorgridcolor\":\"white\",\"startlinecolor\":\"#2a3f5f\"},\"type\":\"carpet\"}],\"choropleth\":[{\"colorbar\":{\"outlinewidth\":0,\"ticks\":\"\"},\"type\":\"choropleth\"}],\"contour\":[{\"colorbar\":{\"outlinewidth\":0,\"ticks\":\"\"},\"colorscale\":[[0.0,\"#0d0887\"],[0.1111111111111111,\"#46039f\"],[0.2222222222222222,\"#7201a8\"],[0.3333333333333333,\"#9c179e\"],[0.4444444444444444,\"#bd3786\"],[0.5555555555555556,\"#d8576b\"],[0.6666666666666666,\"#ed7953\"],[0.7777777777777778,\"#fb9f3a\"],[0.8888888888888888,\"#fdca26\"],[1.0,\"#f0f921\"]],\"type\":\"contour\"}],\"contourcarpet\":[{\"colorbar\":{\"outlinewidth\":0,\"ticks\":\"\"},\"type\":\"contourcarpet\"}],\"heatmap\":[{\"colorbar\":{\"outlinewidth\":0,\"ticks\":\"\"},\"colorscale\":[[0.0,\"#0d0887\"],[0.1111111111111111,\"#46039f\"],[0.2222222222222222,\"#7201a8\"],[0.3333333333333333,\"#9c179e\"],[0.4444444444444444,\"#bd3786\"],[0.5555555555555556,\"#d8576b\"],[0.6666666666666666,\"#ed7953\"],[0.7777777777777778,\"#fb9f3a\"],[0.8888888888888888,\"#fdca26\"],[1.0,\"#f0f921\"]],\"type\":\"heatmap\"}],\"heatmapgl\":[{\"colorbar\":{\"outlinewidth\":0,\"ticks\":\"\"},\"colorscale\":[[0.0,\"#0d0887\"],[0.1111111111111111,\"#46039f\"],[0.2222222222222222,\"#7201a8\"],[0.3333333333333333,\"#9c179e\"],[0.4444444444444444,\"#bd3786\"],[0.5555555555555556,\"#d8576b\"],[0.6666666666666666,\"#ed7953\"],[0.7777777777777778,\"#fb9f3a\"],[0.8888888888888888,\"#fdca26\"],[1.0,\"#f0f921\"]],\"type\":\"heatmapgl\"}],\"histogram\":[{\"marker\":{\"pattern\":{\"fillmode\":\"overlay\",\"size\":10,\"solidity\":0.2}},\"type\":\"histogram\"}],\"histogram2d\":[{\"colorbar\":{\"outlinewidth\":0,\"ticks\":\"\"},\"colorscale\":[[0.0,\"#0d0887\"],[0.1111111111111111,\"#46039f\"],[0.2222222222222222,\"#7201a8\"],[0.3333333333333333,\"#9c179e\"],[0.4444444444444444,\"#bd3786\"],[0.5555555555555556,\"#d8576b\"],[0.6666666666666666,\"#ed7953\"],[0.7777777777777778,\"#fb9f3a\"],[0.8888888888888888,\"#fdca26\"],[1.0,\"#f0f921\"]],\"type\":\"histogram2d\"}],\"histogram2dcontour\":[{\"colorbar\":{\"outlinewidth\":0,\"ticks\":\"\"},\"colorscale\":[[0.0,\"#0d0887\"],[0.1111111111111111,\"#46039f\"],[0.2222222222222222,\"#7201a8\"],[0.3333333333333333,\"#9c179e\"],[0.4444444444444444,\"#bd3786\"],[0.5555555555555556,\"#d8576b\"],[0.6666666666666666,\"#ed7953\"],[0.7777777777777778,\"#fb9f3a\"],[0.8888888888888888,\"#fdca26\"],[1.0,\"#f0f921\"]],\"type\":\"histogram2dcontour\"}],\"mesh3d\":[{\"colorbar\":{\"outlinewidth\":0,\"ticks\":\"\"},\"type\":\"mesh3d\"}],\"parcoords\":[{\"line\":{\"colorbar\":{\"outlinewidth\":0,\"ticks\":\"\"}},\"type\":\"parcoords\"}],\"pie\":[{\"automargin\":true,\"type\":\"pie\"}],\"scatter\":[{\"marker\":{\"colorbar\":{\"outlinewidth\":0,\"ticks\":\"\"}},\"type\":\"scatter\"}],\"scatter3d\":[{\"line\":{\"colorbar\":{\"outlinewidth\":0,\"ticks\":\"\"}},\"marker\":{\"colorbar\":{\"outlinewidth\":0,\"ticks\":\"\"}},\"type\":\"scatter3d\"}],\"scattercarpet\":[{\"marker\":{\"colorbar\":{\"outlinewidth\":0,\"ticks\":\"\"}},\"type\":\"scattercarpet\"}],\"scattergeo\":[{\"marker\":{\"colorbar\":{\"outlinewidth\":0,\"ticks\":\"\"}},\"type\":\"scattergeo\"}],\"scattergl\":[{\"marker\":{\"colorbar\":{\"outlinewidth\":0,\"ticks\":\"\"}},\"type\":\"scattergl\"}],\"scattermapbox\":[{\"marker\":{\"colorbar\":{\"outlinewidth\":0,\"ticks\":\"\"}},\"type\":\"scattermapbox\"}],\"scatterpolar\":[{\"marker\":{\"colorbar\":{\"outlinewidth\":0,\"ticks\":\"\"}},\"type\":\"scatterpolar\"}],\"scatterpolargl\":[{\"marker\":{\"colorbar\":{\"outlinewidth\":0,\"ticks\":\"\"}},\"type\":\"scatterpolargl\"}],\"scatterternary\":[{\"marker\":{\"colorbar\":{\"outlinewidth\":0,\"ticks\":\"\"}},\"type\":\"scatterternary\"}],\"surface\":[{\"colorbar\":{\"outlinewidth\":0,\"ticks\":\"\"},\"colorscale\":[[0.0,\"#0d0887\"],[0.1111111111111111,\"#46039f\"],[0.2222222222222222,\"#7201a8\"],[0.3333333333333333,\"#9c179e\"],[0.4444444444444444,\"#bd3786\"],[0.5555555555555556,\"#d8576b\"],[0.6666666666666666,\"#ed7953\"],[0.7777777777777778,\"#fb9f3a\"],[0.8888888888888888,\"#fdca26\"],[1.0,\"#f0f921\"]],\"type\":\"surface\"}],\"table\":[{\"cells\":{\"fill\":{\"color\":\"#EBF0F8\"},\"line\":{\"color\":\"white\"}},\"header\":{\"fill\":{\"color\":\"#C8D4E3\"},\"line\":{\"color\":\"white\"}},\"type\":\"table\"}]},\"layout\":{\"annotationdefaults\":{\"arrowcolor\":\"#2a3f5f\",\"arrowhead\":0,\"arrowwidth\":1},\"autotypenumbers\":\"strict\",\"coloraxis\":{\"colorbar\":{\"outlinewidth\":0,\"ticks\":\"\"}},\"colorscale\":{\"diverging\":[[0,\"#8e0152\"],[0.1,\"#c51b7d\"],[0.2,\"#de77ae\"],[0.3,\"#f1b6da\"],[0.4,\"#fde0ef\"],[0.5,\"#f7f7f7\"],[0.6,\"#e6f5d0\"],[0.7,\"#b8e186\"],[0.8,\"#7fbc41\"],[0.9,\"#4d9221\"],[1,\"#276419\"]],\"sequential\":[[0.0,\"#0d0887\"],[0.1111111111111111,\"#46039f\"],[0.2222222222222222,\"#7201a8\"],[0.3333333333333333,\"#9c179e\"],[0.4444444444444444,\"#bd3786\"],[0.5555555555555556,\"#d8576b\"],[0.6666666666666666,\"#ed7953\"],[0.7777777777777778,\"#fb9f3a\"],[0.8888888888888888,\"#fdca26\"],[1.0,\"#f0f921\"]],\"sequentialminus\":[[0.0,\"#0d0887\"],[0.1111111111111111,\"#46039f\"],[0.2222222222222222,\"#7201a8\"],[0.3333333333333333,\"#9c179e\"],[0.4444444444444444,\"#bd3786\"],[0.5555555555555556,\"#d8576b\"],[0.6666666666666666,\"#ed7953\"],[0.7777777777777778,\"#fb9f3a\"],[0.8888888888888888,\"#fdca26\"],[1.0,\"#f0f921\"]]},\"colorway\":[\"#636efa\",\"#EF553B\",\"#00cc96\",\"#ab63fa\",\"#FFA15A\",\"#19d3f3\",\"#FF6692\",\"#B6E880\",\"#FF97FF\",\"#FECB52\"],\"font\":{\"color\":\"#2a3f5f\"},\"geo\":{\"bgcolor\":\"white\",\"lakecolor\":\"white\",\"landcolor\":\"#E5ECF6\",\"showlakes\":true,\"showland\":true,\"subunitcolor\":\"white\"},\"hoverlabel\":{\"align\":\"left\"},\"hovermode\":\"closest\",\"mapbox\":{\"style\":\"light\"},\"paper_bgcolor\":\"white\",\"plot_bgcolor\":\"#E5ECF6\",\"polar\":{\"angularaxis\":{\"gridcolor\":\"white\",\"linecolor\":\"white\",\"ticks\":\"\"},\"bgcolor\":\"#E5ECF6\",\"radialaxis\":{\"gridcolor\":\"white\",\"linecolor\":\"white\",\"ticks\":\"\"}},\"scene\":{\"xaxis\":{\"backgroundcolor\":\"#E5ECF6\",\"gridcolor\":\"white\",\"gridwidth\":2,\"linecolor\":\"white\",\"showbackground\":true,\"ticks\":\"\",\"zerolinecolor\":\"white\"},\"yaxis\":{\"backgroundcolor\":\"#E5ECF6\",\"gridcolor\":\"white\",\"gridwidth\":2,\"linecolor\":\"white\",\"showbackground\":true,\"ticks\":\"\",\"zerolinecolor\":\"white\"},\"zaxis\":{\"backgroundcolor\":\"#E5ECF6\",\"gridcolor\":\"white\",\"gridwidth\":2,\"linecolor\":\"white\",\"showbackground\":true,\"ticks\":\"\",\"zerolinecolor\":\"white\"}},\"shapedefaults\":{\"line\":{\"color\":\"#2a3f5f\"}},\"ternary\":{\"aaxis\":{\"gridcolor\":\"white\",\"linecolor\":\"white\",\"ticks\":\"\"},\"baxis\":{\"gridcolor\":\"white\",\"linecolor\":\"white\",\"ticks\":\"\"},\"bgcolor\":\"#E5ECF6\",\"caxis\":{\"gridcolor\":\"white\",\"linecolor\":\"white\",\"ticks\":\"\"}},\"title\":{\"x\":0.05},\"xaxis\":{\"automargin\":true,\"gridcolor\":\"white\",\"linecolor\":\"white\",\"ticks\":\"\",\"title\":{\"standoff\":15},\"zerolinecolor\":\"white\",\"zerolinewidth\":2},\"yaxis\":{\"automargin\":true,\"gridcolor\":\"white\",\"linecolor\":\"white\",\"ticks\":\"\",\"title\":{\"standoff\":15},\"zerolinecolor\":\"white\",\"zerolinewidth\":2}}}},                        {\"responsive\": true}                    ).then(function(){\n",
              "                            Plotly.addFrames('61f3a498-a74f-4673-8a48-f65f105b6ad6', [{\"data\":[{\"marker\":{\"color\":\"black\",\"size\":5},\"mode\":\"markers\",\"name\":\"Drone\",\"x\":[-5.0,-5.0,-5.0,-5.0],\"y\":[-5.0,-5.0,5.0,5.0],\"z\":[0.5,0.5,0.5,0.5],\"type\":\"scatter3d\"}],\"traces\":[6]},{\"data\":[{\"marker\":{\"color\":\"black\",\"size\":5},\"mode\":\"markers\",\"name\":\"Drone\",\"x\":[-4.33,-5.0,-4.52,-5.0],\"y\":[-3.28,-5.0,3.95,5.0],\"z\":[0.5,0.5,0.5,0.5],\"type\":\"scatter3d\"}],\"traces\":[6]},{\"data\":[{\"marker\":{\"color\":\"black\",\"size\":5},\"mode\":\"markers\",\"name\":\"Drone\",\"x\":[-3.67,-5.0,-4.05,-5.0],\"y\":[-1.99,-5.0,3.23,5.0],\"z\":[0.5,0.5,0.5,0.5],\"type\":\"scatter3d\"}],\"traces\":[6]},{\"data\":[{\"marker\":{\"color\":\"black\",\"size\":5},\"mode\":\"markers\",\"name\":\"Drone\",\"x\":[-3.0,-5.0,-3.57,-5.0],\"y\":[-0.97,-5.0,2.58,5.0],\"z\":[0.5,0.5,0.5,0.5],\"type\":\"scatter3d\"}],\"traces\":[6]},{\"data\":[{\"marker\":{\"color\":\"black\",\"size\":5},\"mode\":\"markers\",\"name\":\"Drone\",\"x\":[-2.33,-5.0,-3.1,-5.0],\"y\":[-0.14,-5.0,1.97,5.0],\"z\":[0.5,0.5,0.5,0.5],\"type\":\"scatter3d\"}],\"traces\":[6]},{\"data\":[{\"marker\":{\"color\":\"black\",\"size\":5},\"mode\":\"markers\",\"name\":\"Drone\",\"x\":[-1.67,-5.0,-2.62,-5.0],\"y\":[0.57,-5.0,1.39,5.0],\"z\":[0.5,0.5,0.5,0.5],\"type\":\"scatter3d\"}],\"traces\":[6]},{\"data\":[{\"marker\":{\"color\":\"black\",\"size\":5},\"mode\":\"markers\",\"name\":\"Drone\",\"x\":[-1.0,-4.33,-2.14,-4.52],\"y\":[1.23,-3.28,0.84,3.95],\"z\":[0.5,0.5,0.5,0.5],\"type\":\"scatter3d\"}],\"traces\":[6]},{\"data\":[{\"marker\":{\"color\":\"black\",\"size\":5},\"mode\":\"markers\",\"name\":\"Drone\",\"x\":[-0.33,-3.67,-1.67,-4.05],\"y\":[1.87,-1.99,0.31,3.23],\"z\":[0.5,0.5,0.5,0.5],\"type\":\"scatter3d\"}],\"traces\":[6]},{\"data\":[{\"marker\":{\"color\":\"black\",\"size\":5},\"mode\":\"markers\",\"name\":\"Drone\",\"x\":[0.33,-3.0,-1.19,-3.57],\"y\":[2.48,-0.97,-0.2,2.58],\"z\":[0.5,0.5,0.5,0.5],\"type\":\"scatter3d\"}],\"traces\":[6]},{\"data\":[{\"marker\":{\"color\":\"black\",\"size\":5},\"mode\":\"markers\",\"name\":\"Drone\",\"x\":[1.0,-2.33,-0.71,-3.1],\"y\":[3.02,-0.14,-0.69,1.97],\"z\":[0.5,0.5,0.5,0.5],\"type\":\"scatter3d\"}],\"traces\":[6]},{\"data\":[{\"marker\":{\"color\":\"black\",\"size\":5},\"mode\":\"markers\",\"name\":\"Drone\",\"x\":[1.67,-1.67,-0.24,-2.62],\"y\":[3.49,0.57,-1.16,1.39],\"z\":[0.5,0.5,0.5,0.5],\"type\":\"scatter3d\"}],\"traces\":[6]},{\"data\":[{\"marker\":{\"color\":\"black\",\"size\":5},\"mode\":\"markers\",\"name\":\"Drone\",\"x\":[2.33,-1.0,0.24,-2.14],\"y\":[3.89,1.23,-1.62,0.84],\"z\":[0.5,0.5,0.5,0.5],\"type\":\"scatter3d\"}],\"traces\":[6]},{\"data\":[{\"marker\":{\"color\":\"black\",\"size\":5},\"mode\":\"markers\",\"name\":\"Drone\",\"x\":[3.0,-0.33,0.71,-1.67],\"y\":[4.23,1.87,-2.05,0.31],\"z\":[0.5,0.5,0.5,0.5],\"type\":\"scatter3d\"}],\"traces\":[6]},{\"data\":[{\"marker\":{\"color\":\"black\",\"size\":5},\"mode\":\"markers\",\"name\":\"Drone\",\"x\":[3.67,0.33,1.19,-1.19],\"y\":[4.53,2.48,-2.46,-0.2],\"z\":[0.5,0.5,0.5,0.5],\"type\":\"scatter3d\"}],\"traces\":[6]},{\"data\":[{\"marker\":{\"color\":\"black\",\"size\":5},\"mode\":\"markers\",\"name\":\"Drone\",\"x\":[4.33,1.0,1.67,-0.71],\"y\":[4.78,3.02,-2.84,-0.69],\"z\":[0.5,0.5,0.5,0.5],\"type\":\"scatter3d\"}],\"traces\":[6]},{\"data\":[{\"marker\":{\"color\":\"black\",\"size\":5},\"mode\":\"markers\",\"name\":\"Drone\",\"x\":[5.0,1.67,2.14,-0.24],\"y\":[5.0,3.49,-3.21,-1.16],\"z\":[0.5,0.5,0.5,0.5],\"type\":\"scatter3d\"}],\"traces\":[6]},{\"data\":[{\"marker\":{\"color\":\"black\",\"size\":5},\"mode\":\"markers\",\"name\":\"Drone\",\"x\":[5.0,2.33,2.62,0.24],\"y\":[5.0,3.89,-3.55,-1.62],\"z\":[0.5,0.5,0.5,0.5],\"type\":\"scatter3d\"}],\"traces\":[6]},{\"data\":[{\"marker\":{\"color\":\"black\",\"size\":5},\"mode\":\"markers\",\"name\":\"Drone\",\"x\":[5.0,3.0,3.1,0.71],\"y\":[5.0,4.23,-3.88,-2.05],\"z\":[0.5,0.5,0.5,0.5],\"type\":\"scatter3d\"}],\"traces\":[6]},{\"data\":[{\"marker\":{\"color\":\"black\",\"size\":5},\"mode\":\"markers\",\"name\":\"Drone\",\"x\":[5.0,3.67,3.57,1.19],\"y\":[5.0,4.53,-4.19,-2.46],\"z\":[0.5,0.5,0.5,0.5],\"type\":\"scatter3d\"}],\"traces\":[6]},{\"data\":[{\"marker\":{\"color\":\"black\",\"size\":5},\"mode\":\"markers\",\"name\":\"Drone\",\"x\":[5.0,4.33,4.05,1.67],\"y\":[5.0,4.78,-4.47,-2.84],\"z\":[0.5,0.5,0.5,0.5],\"type\":\"scatter3d\"}],\"traces\":[6]},{\"data\":[{\"marker\":{\"color\":\"black\",\"size\":5},\"mode\":\"markers\",\"name\":\"Drone\",\"x\":[5.0,5.0,4.52,2.14],\"y\":[5.0,5.0,-4.74,-3.21],\"z\":[0.5,0.5,0.5,0.5],\"type\":\"scatter3d\"}],\"traces\":[6]},{\"data\":[{\"marker\":{\"color\":\"black\",\"size\":5},\"mode\":\"markers\",\"name\":\"Drone\",\"x\":[5.0,5.0,5.0,2.62],\"y\":[5.0,5.0,-5.0,-3.55],\"z\":[0.5,0.5,0.5,0.5],\"type\":\"scatter3d\"}],\"traces\":[6]},{\"data\":[{\"marker\":{\"color\":\"black\",\"size\":5},\"mode\":\"markers\",\"name\":\"Drone\",\"x\":[5.0,5.0,5.0,3.1],\"y\":[5.0,5.0,-5.0,-3.88],\"z\":[0.5,0.5,0.5,0.5],\"type\":\"scatter3d\"}],\"traces\":[6]},{\"data\":[{\"marker\":{\"color\":\"black\",\"size\":5},\"mode\":\"markers\",\"name\":\"Drone\",\"x\":[5.0,5.0,5.0,3.57],\"y\":[5.0,5.0,-5.0,-4.19],\"z\":[0.5,0.5,0.5,0.5],\"type\":\"scatter3d\"}],\"traces\":[6]},{\"data\":[{\"marker\":{\"color\":\"black\",\"size\":5},\"mode\":\"markers\",\"name\":\"Drone\",\"x\":[5.0,5.0,5.0,4.05],\"y\":[5.0,5.0,-5.0,-4.47],\"z\":[0.5,0.5,0.5,0.5],\"type\":\"scatter3d\"}],\"traces\":[6]},{\"data\":[{\"marker\":{\"color\":\"black\",\"size\":5},\"mode\":\"markers\",\"name\":\"Drone\",\"x\":[5.0,5.0,5.0,4.52],\"y\":[5.0,5.0,-5.0,-4.74],\"z\":[0.5,0.5,0.5,0.5],\"type\":\"scatter3d\"}],\"traces\":[6]},{\"data\":[{\"marker\":{\"color\":\"black\",\"size\":5},\"mode\":\"markers\",\"name\":\"Drone\",\"x\":[5.0,5.0,5.0,5.0],\"y\":[5.0,5.0,-5.0,-5.0],\"z\":[0.5,0.5,0.5,0.5],\"type\":\"scatter3d\"}],\"traces\":[6]},{\"data\":[{\"marker\":{\"color\":\"black\",\"size\":5},\"mode\":\"markers\",\"name\":\"Drone\",\"x\":[5.0,5.0,5.0,5.0],\"y\":[5.0,5.0,-5.0,-5.0],\"z\":[0.5,0.5,0.5,0.5],\"type\":\"scatter3d\"}],\"traces\":[6]},{\"data\":[{\"marker\":{\"color\":\"black\",\"size\":5},\"mode\":\"markers\",\"name\":\"Drone\",\"x\":[5.0,5.0,5.0,5.0],\"y\":[5.0,5.0,-5.0,-5.0],\"z\":[0.5,0.5,0.5,0.5],\"type\":\"scatter3d\"}],\"traces\":[6]},{\"data\":[{\"marker\":{\"color\":\"black\",\"size\":5},\"mode\":\"markers\",\"name\":\"Drone\",\"x\":[5.0,5.0,5.0,5.0],\"y\":[5.0,5.0,-5.0,-5.0],\"z\":[0.5,0.5,0.5,0.5],\"type\":\"scatter3d\"}],\"traces\":[6]},{\"data\":[{\"marker\":{\"color\":\"black\",\"size\":5},\"mode\":\"markers\",\"name\":\"Drone\",\"x\":[5.0,5.0,5.0,5.0],\"y\":[5.0,5.0,-5.0,-5.0],\"z\":[0.5,0.5,0.5,0.5],\"type\":\"scatter3d\"}],\"traces\":[6]},{\"data\":[{\"marker\":{\"color\":\"black\",\"size\":5},\"mode\":\"markers\",\"name\":\"Drone\",\"x\":[5.0,5.0,5.0,5.0],\"y\":[5.0,5.0,-5.0,-5.0],\"z\":[0.5,0.5,0.5,0.5],\"type\":\"scatter3d\"}],\"traces\":[6]},{\"data\":[{\"marker\":{\"color\":\"black\",\"size\":5},\"mode\":\"markers\",\"name\":\"Drone\",\"x\":[5.0,5.0,5.0,5.0],\"y\":[5.0,5.0,-5.0,-5.0],\"z\":[0.5,0.5,0.5,0.5],\"type\":\"scatter3d\"}],\"traces\":[6]},{\"data\":[{\"marker\":{\"color\":\"black\",\"size\":5},\"mode\":\"markers\",\"name\":\"Drone\",\"x\":[5.0,5.0,5.0,5.0],\"y\":[5.0,5.0,-5.0,-5.0],\"z\":[0.5,0.5,0.5,0.5],\"type\":\"scatter3d\"}],\"traces\":[6]},{\"data\":[{\"marker\":{\"color\":\"black\",\"size\":5},\"mode\":\"markers\",\"name\":\"Drone\",\"x\":[5.0,5.0,5.0,5.0],\"y\":[5.0,5.0,-5.0,-5.0],\"z\":[0.5,0.5,0.5,0.5],\"type\":\"scatter3d\"}],\"traces\":[6]},{\"data\":[{\"marker\":{\"color\":\"black\",\"size\":5},\"mode\":\"markers\",\"name\":\"Drone\",\"x\":[5.0,5.0,5.0,5.0],\"y\":[5.0,5.0,-5.0,-5.0],\"z\":[0.5,0.5,0.5,0.5],\"type\":\"scatter3d\"}],\"traces\":[6]},{\"data\":[{\"marker\":{\"color\":\"black\",\"size\":5},\"mode\":\"markers\",\"name\":\"Drone\",\"x\":[5.0,5.0,5.0,5.0],\"y\":[5.0,5.0,-5.0,-5.0],\"z\":[0.5,0.5,0.5,0.5],\"type\":\"scatter3d\"}],\"traces\":[6]},{\"data\":[{\"marker\":{\"color\":\"black\",\"size\":5},\"mode\":\"markers\",\"name\":\"Drone\",\"x\":[5.0,5.0,5.0,5.0],\"y\":[5.0,5.0,-5.0,-5.0],\"z\":[0.5,0.5,0.5,0.5],\"type\":\"scatter3d\"}],\"traces\":[6]},{\"data\":[{\"marker\":{\"color\":\"black\",\"size\":5},\"mode\":\"markers\",\"name\":\"Drone\",\"x\":[5.0,5.0,5.0,5.0],\"y\":[5.0,5.0,-5.0,-5.0],\"z\":[0.5,0.5,0.5,0.5],\"type\":\"scatter3d\"}],\"traces\":[6]},{\"data\":[{\"marker\":{\"color\":\"black\",\"size\":5},\"mode\":\"markers\",\"name\":\"Drone\",\"x\":[5.0,5.0,5.0,5.0],\"y\":[5.0,5.0,-5.0,-5.0],\"z\":[0.5,0.5,0.5,0.5],\"type\":\"scatter3d\"}],\"traces\":[6]},{\"data\":[{\"marker\":{\"color\":\"black\",\"size\":5},\"mode\":\"markers\",\"name\":\"Drone\",\"x\":[5.0,5.0,5.0,5.0],\"y\":[5.0,5.0,-5.0,-5.0],\"z\":[0.5,0.5,0.5,0.5],\"type\":\"scatter3d\"}],\"traces\":[6]},{\"data\":[{\"marker\":{\"color\":\"black\",\"size\":5},\"mode\":\"markers\",\"name\":\"Drone\",\"x\":[5.0,5.0,5.0,5.0],\"y\":[5.0,5.0,-5.0,-5.0],\"z\":[0.5,0.5,0.5,0.5],\"type\":\"scatter3d\"}],\"traces\":[6]},{\"data\":[{\"marker\":{\"color\":\"black\",\"size\":5},\"mode\":\"markers\",\"name\":\"Drone\",\"x\":[5.0,5.0,5.0,5.0],\"y\":[5.0,5.0,-5.0,-5.0],\"z\":[0.5,0.5,0.5,0.5],\"type\":\"scatter3d\"}],\"traces\":[6]},{\"data\":[{\"marker\":{\"color\":\"black\",\"size\":5},\"mode\":\"markers\",\"name\":\"Drone\",\"x\":[5.0,5.0,5.0,5.0],\"y\":[5.0,5.0,-5.0,-5.0],\"z\":[0.5,0.5,0.5,0.5],\"type\":\"scatter3d\"}],\"traces\":[6]},{\"data\":[{\"marker\":{\"color\":\"black\",\"size\":5},\"mode\":\"markers\",\"name\":\"Drone\",\"x\":[5.0,5.0,5.0,5.0],\"y\":[5.0,5.0,-5.0,-5.0],\"z\":[0.5,0.5,0.5,0.5],\"type\":\"scatter3d\"}],\"traces\":[6]},{\"data\":[{\"marker\":{\"color\":\"black\",\"size\":5},\"mode\":\"markers\",\"name\":\"Drone\",\"x\":[5.0,5.0,5.0,5.0],\"y\":[5.0,5.0,-5.0,-5.0],\"z\":[0.5,0.5,0.5,0.5],\"type\":\"scatter3d\"}],\"traces\":[6]},{\"data\":[{\"marker\":{\"color\":\"black\",\"size\":5},\"mode\":\"markers\",\"name\":\"Drone\",\"x\":[5.0,5.0,5.0,5.0],\"y\":[5.0,5.0,-5.0,-5.0],\"z\":[0.5,0.5,0.5,0.5],\"type\":\"scatter3d\"}],\"traces\":[6]},{\"data\":[{\"marker\":{\"color\":\"black\",\"size\":5},\"mode\":\"markers\",\"name\":\"Drone\",\"x\":[5.0,5.0,5.0,5.0],\"y\":[5.0,5.0,-5.0,-5.0],\"z\":[0.5,0.5,0.5,0.5],\"type\":\"scatter3d\"}],\"traces\":[6]},{\"data\":[{\"marker\":{\"color\":\"black\",\"size\":5},\"mode\":\"markers\",\"name\":\"Drone\",\"x\":[5.0,5.0,5.0,5.0],\"y\":[5.0,5.0,-5.0,-5.0],\"z\":[0.5,0.5,0.5,0.5],\"type\":\"scatter3d\"}],\"traces\":[6]},{\"data\":[{\"marker\":{\"color\":\"black\",\"size\":5},\"mode\":\"markers\",\"name\":\"Drone\",\"x\":[5.0,5.0,5.0,5.0],\"y\":[5.0,5.0,-5.0,-5.0],\"z\":[0.5,0.5,0.5,0.5],\"type\":\"scatter3d\"}],\"traces\":[6]},{\"data\":[{\"marker\":{\"color\":\"black\",\"size\":5},\"mode\":\"markers\",\"name\":\"Drone\",\"x\":[5.0,5.0,5.0,5.0],\"y\":[5.0,5.0,-5.0,-5.0],\"z\":[0.5,0.5,0.5,0.5],\"type\":\"scatter3d\"}],\"traces\":[6]},{\"data\":[{\"marker\":{\"color\":\"black\",\"size\":5},\"mode\":\"markers\",\"name\":\"Drone\",\"x\":[5.0,5.0,5.0,5.0],\"y\":[5.0,5.0,-5.0,-5.0],\"z\":[0.5,0.5,0.5,0.5],\"type\":\"scatter3d\"}],\"traces\":[6]},{\"data\":[{\"marker\":{\"color\":\"black\",\"size\":5},\"mode\":\"markers\",\"name\":\"Drone\",\"x\":[5.0,5.0,5.0,5.0],\"y\":[5.0,5.0,-5.0,-5.0],\"z\":[0.5,0.5,0.5,0.5],\"type\":\"scatter3d\"}],\"traces\":[6]},{\"data\":[{\"marker\":{\"color\":\"black\",\"size\":5},\"mode\":\"markers\",\"name\":\"Drone\",\"x\":[5.0,5.0,5.0,5.0],\"y\":[5.0,5.0,-5.0,-5.0],\"z\":[0.5,0.5,0.5,0.5],\"type\":\"scatter3d\"}],\"traces\":[6]},{\"data\":[{\"marker\":{\"color\":\"black\",\"size\":5},\"mode\":\"markers\",\"name\":\"Drone\",\"x\":[5.0,5.0,5.0,5.0],\"y\":[5.0,5.0,-5.0,-5.0],\"z\":[0.5,0.5,0.5,0.5],\"type\":\"scatter3d\"}],\"traces\":[6]},{\"data\":[{\"marker\":{\"color\":\"black\",\"size\":5},\"mode\":\"markers\",\"name\":\"Drone\",\"x\":[5.0,5.0,5.0,5.0],\"y\":[5.0,5.0,-5.0,-5.0],\"z\":[0.5,0.5,0.5,0.5],\"type\":\"scatter3d\"}],\"traces\":[6]},{\"data\":[{\"marker\":{\"color\":\"black\",\"size\":5},\"mode\":\"markers\",\"name\":\"Drone\",\"x\":[5.0,5.0,5.0,5.0],\"y\":[5.0,5.0,-5.0,-5.0],\"z\":[0.5,0.5,0.5,0.5],\"type\":\"scatter3d\"}],\"traces\":[6]},{\"data\":[{\"marker\":{\"color\":\"black\",\"size\":5},\"mode\":\"markers\",\"name\":\"Drone\",\"x\":[5.0,5.0,5.0,5.0],\"y\":[5.0,5.0,-5.0,-5.0],\"z\":[0.5,0.5,0.5,0.5],\"type\":\"scatter3d\"}],\"traces\":[6]},{\"data\":[{\"marker\":{\"color\":\"black\",\"size\":5},\"mode\":\"markers\",\"name\":\"Drone\",\"x\":[5.0,5.0,5.0,5.0],\"y\":[5.0,5.0,-5.0,-5.0],\"z\":[0.5,0.5,0.5,0.5],\"type\":\"scatter3d\"}],\"traces\":[6]},{\"data\":[{\"marker\":{\"color\":\"black\",\"size\":5},\"mode\":\"markers\",\"name\":\"Drone\",\"x\":[5.0,5.0,5.0,5.0],\"y\":[5.0,5.0,-5.0,-5.0],\"z\":[0.5,0.5,0.5,0.5],\"type\":\"scatter3d\"}],\"traces\":[6]},{\"data\":[{\"marker\":{\"color\":\"black\",\"size\":5},\"mode\":\"markers\",\"name\":\"Drone\",\"x\":[5.0,5.0,5.0,5.0],\"y\":[5.0,5.0,-5.0,-5.0],\"z\":[0.5,0.5,0.5,0.5],\"type\":\"scatter3d\"}],\"traces\":[6]},{\"data\":[{\"marker\":{\"color\":\"black\",\"size\":5},\"mode\":\"markers\",\"name\":\"Drone\",\"x\":[5.0,5.0,5.0,5.0],\"y\":[5.0,5.0,-5.0,-5.0],\"z\":[0.5,0.5,0.5,0.5],\"type\":\"scatter3d\"}],\"traces\":[6]},{\"data\":[{\"marker\":{\"color\":\"black\",\"size\":5},\"mode\":\"markers\",\"name\":\"Drone\",\"x\":[5.0,5.0,5.0,5.0],\"y\":[5.0,5.0,-5.0,-5.0],\"z\":[0.5,0.5,0.5,0.5],\"type\":\"scatter3d\"}],\"traces\":[6]},{\"data\":[{\"marker\":{\"color\":\"black\",\"size\":5},\"mode\":\"markers\",\"name\":\"Drone\",\"x\":[5.0,5.0,5.0,5.0],\"y\":[5.0,5.0,-5.0,-5.0],\"z\":[0.5,0.5,0.5,0.5],\"type\":\"scatter3d\"}],\"traces\":[6]},{\"data\":[{\"marker\":{\"color\":\"black\",\"size\":5},\"mode\":\"markers\",\"name\":\"Drone\",\"x\":[5.0,5.0,5.0,5.0],\"y\":[5.0,5.0,-5.0,-5.0],\"z\":[0.5,0.5,0.5,0.5],\"type\":\"scatter3d\"}],\"traces\":[6]},{\"data\":[{\"marker\":{\"color\":\"black\",\"size\":5},\"mode\":\"markers\",\"name\":\"Drone\",\"x\":[5.0,5.0,5.0,5.0],\"y\":[5.0,5.0,-5.0,-5.0],\"z\":[0.5,0.5,0.5,0.5],\"type\":\"scatter3d\"}],\"traces\":[6]},{\"data\":[{\"marker\":{\"color\":\"black\",\"size\":5},\"mode\":\"markers\",\"name\":\"Drone\",\"x\":[5.0,5.0,5.0,5.0],\"y\":[5.0,5.0,-5.0,-5.0],\"z\":[0.5,0.5,0.5,0.5],\"type\":\"scatter3d\"}],\"traces\":[6]},{\"data\":[{\"marker\":{\"color\":\"black\",\"size\":5},\"mode\":\"markers\",\"name\":\"Drone\",\"x\":[5.0,5.0,5.0,5.0],\"y\":[5.0,5.0,-5.0,-5.0],\"z\":[0.5,0.5,0.5,0.5],\"type\":\"scatter3d\"}],\"traces\":[6]},{\"data\":[{\"marker\":{\"color\":\"black\",\"size\":5},\"mode\":\"markers\",\"name\":\"Drone\",\"x\":[5.0,5.0,5.0,5.0],\"y\":[5.0,5.0,-5.0,-5.0],\"z\":[0.5,0.5,0.5,0.5],\"type\":\"scatter3d\"}],\"traces\":[6]},{\"data\":[{\"marker\":{\"color\":\"black\",\"size\":5},\"mode\":\"markers\",\"name\":\"Drone\",\"x\":[5.0,5.0,5.0,5.0],\"y\":[5.0,5.0,-5.0,-5.0],\"z\":[0.5,0.5,0.5,0.5],\"type\":\"scatter3d\"}],\"traces\":[6]},{\"data\":[{\"marker\":{\"color\":\"black\",\"size\":5},\"mode\":\"markers\",\"name\":\"Drone\",\"x\":[5.0,5.0,5.0,5.0],\"y\":[5.0,5.0,-5.0,-5.0],\"z\":[0.5,0.5,0.5,0.5],\"type\":\"scatter3d\"}],\"traces\":[6]},{\"data\":[{\"marker\":{\"color\":\"black\",\"size\":5},\"mode\":\"markers\",\"name\":\"Drone\",\"x\":[5.0,5.0,5.0,5.0],\"y\":[5.0,5.0,-5.0,-5.0],\"z\":[0.5,0.5,0.5,0.5],\"type\":\"scatter3d\"}],\"traces\":[6]},{\"data\":[{\"marker\":{\"color\":\"black\",\"size\":5},\"mode\":\"markers\",\"name\":\"Drone\",\"x\":[5.0,5.0,5.0,5.0],\"y\":[5.0,5.0,-5.0,-5.0],\"z\":[0.5,0.5,0.5,0.5],\"type\":\"scatter3d\"}],\"traces\":[6]},{\"data\":[{\"marker\":{\"color\":\"black\",\"size\":5},\"mode\":\"markers\",\"name\":\"Drone\",\"x\":[5.0,5.0,5.0,5.0],\"y\":[5.0,5.0,-5.0,-5.0],\"z\":[0.5,0.5,0.5,0.5],\"type\":\"scatter3d\"}],\"traces\":[6]},{\"data\":[{\"marker\":{\"color\":\"black\",\"size\":5},\"mode\":\"markers\",\"name\":\"Drone\",\"x\":[5.0,5.0,5.0,5.0],\"y\":[5.0,5.0,-5.0,-5.0],\"z\":[0.5,0.5,0.5,0.5],\"type\":\"scatter3d\"}],\"traces\":[6]},{\"data\":[{\"marker\":{\"color\":\"black\",\"size\":5},\"mode\":\"markers\",\"name\":\"Drone\",\"x\":[5.0,5.0,5.0,5.0],\"y\":[5.0,5.0,-5.0,-5.0],\"z\":[0.5,0.5,0.5,0.5],\"type\":\"scatter3d\"}],\"traces\":[6]},{\"data\":[{\"marker\":{\"color\":\"black\",\"size\":5},\"mode\":\"markers\",\"name\":\"Drone\",\"x\":[5.0,5.0,5.0,5.0],\"y\":[5.0,5.0,-5.0,-5.0],\"z\":[0.5,0.5,0.5,0.5],\"type\":\"scatter3d\"}],\"traces\":[6]},{\"data\":[{\"marker\":{\"color\":\"black\",\"size\":5},\"mode\":\"markers\",\"name\":\"Drone\",\"x\":[5.0,5.0,5.0,5.0],\"y\":[5.0,5.0,-5.0,-5.0],\"z\":[0.5,0.5,0.5,0.5],\"type\":\"scatter3d\"}],\"traces\":[6]},{\"data\":[{\"marker\":{\"color\":\"black\",\"size\":5},\"mode\":\"markers\",\"name\":\"Drone\",\"x\":[5.0,5.0,5.0,5.0],\"y\":[5.0,5.0,-5.0,-5.0],\"z\":[0.5,0.5,0.5,0.5],\"type\":\"scatter3d\"}],\"traces\":[6]},{\"data\":[{\"marker\":{\"color\":\"black\",\"size\":5},\"mode\":\"markers\",\"name\":\"Drone\",\"x\":[5.0,5.0,5.0,5.0],\"y\":[5.0,5.0,-5.0,-5.0],\"z\":[0.5,0.5,0.5,0.5],\"type\":\"scatter3d\"}],\"traces\":[6]},{\"data\":[{\"marker\":{\"color\":\"black\",\"size\":5},\"mode\":\"markers\",\"name\":\"Drone\",\"x\":[5.0,5.0,5.0,5.0],\"y\":[5.0,5.0,-5.0,-5.0],\"z\":[0.5,0.5,0.5,0.5],\"type\":\"scatter3d\"}],\"traces\":[6]},{\"data\":[{\"marker\":{\"color\":\"black\",\"size\":5},\"mode\":\"markers\",\"name\":\"Drone\",\"x\":[5.0,5.0,5.0,5.0],\"y\":[5.0,5.0,-5.0,-5.0],\"z\":[0.5,0.5,0.5,0.5],\"type\":\"scatter3d\"}],\"traces\":[6]},{\"data\":[{\"marker\":{\"color\":\"black\",\"size\":5},\"mode\":\"markers\",\"name\":\"Drone\",\"x\":[5.0,5.0,5.0,5.0],\"y\":[5.0,5.0,-5.0,-5.0],\"z\":[0.5,0.5,0.5,0.5],\"type\":\"scatter3d\"}],\"traces\":[6]},{\"data\":[{\"marker\":{\"color\":\"black\",\"size\":5},\"mode\":\"markers\",\"name\":\"Drone\",\"x\":[5.0,5.0,5.0,5.0],\"y\":[5.0,5.0,-5.0,-5.0],\"z\":[0.5,0.5,0.5,0.5],\"type\":\"scatter3d\"}],\"traces\":[6]},{\"data\":[{\"marker\":{\"color\":\"black\",\"size\":5},\"mode\":\"markers\",\"name\":\"Drone\",\"x\":[5.0,5.0,5.0,5.0],\"y\":[5.0,5.0,-5.0,-5.0],\"z\":[0.5,0.5,0.5,0.5],\"type\":\"scatter3d\"}],\"traces\":[6]}]);\n",
              "                        }).then(function(){\n",
              "                            \n",
              "var gd = document.getElementById('61f3a498-a74f-4673-8a48-f65f105b6ad6');\n",
              "var x = new MutationObserver(function (mutations, observer) {{\n",
              "        var display = window.getComputedStyle(gd).display;\n",
              "        if (!display || display === 'none') {{\n",
              "            console.log([gd, 'removed!']);\n",
              "            Plotly.purge(gd);\n",
              "            observer.disconnect();\n",
              "        }}\n",
              "}});\n",
              "\n",
              "// Listen for the removal of the full notebook cells\n",
              "var notebookContainer = gd.closest('#notebook-container');\n",
              "if (notebookContainer) {{\n",
              "    x.observe(notebookContainer, {childList: true});\n",
              "}}\n",
              "\n",
              "// Listen for the clearing of the current output cell\n",
              "var outputEl = gd.closest('.output');\n",
              "if (outputEl) {{\n",
              "    x.observe(outputEl, {childList: true});\n",
              "}}\n",
              "\n",
              "                        })                };                            </script>        </div>\n",
              "</body>\n",
              "</html>"
            ]
          },
          "metadata": {}
        }
      ]
    },
    {
      "cell_type": "code",
      "source": [
        "cdr.update_speed(drone=0, to_speed=10)\n",
        "cdr.update_speed(drone=1, to_speed=10)\n",
        "\n",
        "cdr.update_speed(drone=2, to_speed=7)\n",
        "cdr.update_speed(drone=3, to_speed=7)\n",
        "\n",
        "cdr.update_delay(drone=1, units=5)\n",
        "cdr.update_delay(drone=3, units=5)"
      ],
      "metadata": {
        "id": "6yCp8UVGppkA"
      },
      "execution_count": 69,
      "outputs": []
    },
    {
      "cell_type": "code",
      "source": [
        "cdr.master"
      ],
      "metadata": {
        "id": "QRW-v5Q5uucC"
      },
      "execution_count": null,
      "outputs": []
    }
  ],
  "metadata": {
    "colab": {
      "collapsed_sections": [],
      "name": "pso_model_3D.ipynb",
      "provenance": [],
      "authorship_tag": "ABX9TyOeWM4Yl6yT3JH9f+5eyUKV",
      "include_colab_link": true
    },
    "kernelspec": {
      "display_name": "Python 3",
      "name": "python3"
    },
    "language_info": {
      "name": "python"
    }
  },
  "nbformat": 4,
  "nbformat_minor": 0
}