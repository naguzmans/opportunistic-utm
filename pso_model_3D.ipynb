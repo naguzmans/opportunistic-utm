{
  "cells": [
    {
      "cell_type": "markdown",
      "metadata": {
        "id": "view-in-github",
        "colab_type": "text"
      },
      "source": [
        "<a href=\"https://colab.research.google.com/github/naguzmans/opportunistic-atm/blob/main/pso_model_3D.ipynb\" target=\"_parent\"><img src=\"https://colab.research.google.com/assets/colab-badge.svg\" alt=\"Open In Colab\"/></a>"
      ]
    },
    {
      "cell_type": "markdown",
      "metadata": {
        "id": "DACTkewtUwUc"
      },
      "source": [
        "<h2> 3D Particle Swarm Optimization </h2>"
      ]
    },
    {
      "cell_type": "code",
      "execution_count": 1,
      "metadata": {
        "id": "_WDYwoU-URDi"
      },
      "outputs": [],
      "source": [
        "import matplotlib.pyplot as plt\n",
        "import plotly.express as px\n",
        "import plotly.graph_objects as go\n",
        "import numpy as np\n",
        "from scipy import interpolate\n",
        "from tqdm import tqdm\n",
        "import random\n",
        "import warnings\n",
        "warnings.filterwarnings('ignore')\n",
        "%config InlineBackend.figure_format = 'retina'\n",
        "\n",
        "class Obstacle:\n",
        "  def __init__(self, x, y, z, r):\n",
        "    self.x = x\n",
        "    self.y = y\n",
        "    self.z = z\n",
        "    self.r = r\n",
        "\n",
        "class Particle:\n",
        "  def __init__(self, origin, destination, handles):\n",
        "    self.origin = origin\n",
        "    self.destination = destination\n",
        "    self.handles = handles\n",
        "\n",
        "    # Define x array\n",
        "    self.x, self.y, self.z = self.CreatePath(self.origin, self.destination)\n",
        "\n",
        "    # Define velocity\n",
        "    self.vx = np.zeros(handles+2)\n",
        "    self.vy = np.zeros(handles+2)\n",
        "    self.vz = np.zeros(handles+2)\n",
        "\n",
        "    # Calculate Cost\n",
        "    self.Cost()\n",
        "    \n",
        "    # Define Best\n",
        "    self.Best(self.x, self.y, self.z, self.xs, self.ys, self.zs, self.cost)\n",
        "\n",
        "  def Cost(self):\n",
        "\n",
        "    # Create spline\n",
        "    # ts = np.linspace(self.origin[0], self.destination[0], self.handles+2 )\n",
        "\n",
        "    if self.destination[0] > self.origin[0]:\n",
        "      ts = np.linspace(self.origin[0], self.destination[0], self.handles+2 )\n",
        "    else:\n",
        "      ts = np.linspace(self.destination[0], self.origin[0], self.handles+2 )\n",
        "\n",
        "    spline_x = interpolate.CubicSpline(ts, self.x)\n",
        "    spline_y = interpolate.CubicSpline(ts, self.y)\n",
        "    spline_z = interpolate.CubicSpline(ts, self.z)\n",
        "\n",
        "    ts2 = np.linspace(self.origin[0], self.destination[0], 100)\n",
        "    self.xs = spline_x(ts2)\n",
        "    self.ys = spline_y(ts2)\n",
        "    self.zs = spline_z(ts2)\n",
        "    # self.zs = (self.zs/self.zs.max()) * self.zlim\n",
        "\n",
        "    dsx = spline_x.derivative(nu=1)\n",
        "    dsy = spline_y.derivative(nu=1)\n",
        "    dsz = spline_z.derivative(nu=1)\n",
        "\n",
        "    self.dxs = dsx(ts2)\n",
        "    self.dys = dsy(ts2)\n",
        "    self.dzs = dsz(ts2)\n",
        "    self.L = np.sum(np.sqrt(self.dxs**2 + self.dys**2 + self.dzs**2))\n",
        "    \n",
        "    violation = 0\n",
        "    for i in range(0, len(obstacles)):\n",
        "      distance_to_obstacle = np.sqrt((self.xs-obstacles[i].x)**2+(self.ys-obstacles[i].y)**2+(self.zs-obstacles[i].z)**2)\n",
        "      v = 1-distance_to_obstacle/obstacles[i].r\n",
        "      for j in range(0,len(v)):\n",
        "        if v[j] < 0:\n",
        "          v[j] = 0\n",
        "      violation += np.mean(v)\n",
        "\n",
        "    # Z out-of-bounds violation\n",
        "    if any(i < 0 for i in self.zs):\n",
        "      violation = 1e10\n",
        "\n",
        "    # Calculate final cost\n",
        "    beta = 100\n",
        "    self.cost = self.L*(1+beta*violation)\n",
        "\n",
        "  def Best(self, x, y, z, xs, ys, zs, cost):\n",
        "    self.best_x = x\n",
        "    self.best_y = y\n",
        "    self.best_z = z\n",
        "\n",
        "    self.best_xs = xs\n",
        "    self.best_ys = ys\n",
        "    self.best_zs = zs\n",
        "\n",
        "    self.best_cost = cost\n",
        "\n",
        "  def CreatePath(self, start, end):\n",
        "    x = np.random.uniform(start[0], end[0], self.handles+2)\n",
        "    x[0] = start[0]\n",
        "    x[-1] = end[0]\n",
        "\n",
        "    y = np.random.uniform(start[1], end[1], self.handles+2)\n",
        "    y[0] = start[1]\n",
        "    y[-1] = end[1]\n",
        "\n",
        "    # z = np.random.uniform(start[2], end[2], self.handles+2)\n",
        "    # z[0] = start[2]\n",
        "    # z[-1] = end[2]\n",
        "    z = np.linspace(start[2], end[2], self.handles+2)\n",
        "    \n",
        "    return x,y,z\n",
        "\n",
        "class GlobalBest:\n",
        "  def __init__(self, x, y, z, xs, ys, zs, cost):\n",
        "    self.x = x\n",
        "    self.y = y\n",
        "    self.z = z\n",
        "    self.xs = xs\n",
        "    self.ys = ys\n",
        "    self.zs = zs\n",
        "    self.cost = cost\n",
        "\n",
        "# Plotting 3d-Spheres\n",
        "def ms(x, y, z, radius, resolution=10):\n",
        "    u, v = np.mgrid[0:2*np.pi:resolution*2j, 0:np.pi:resolution*1j]\n",
        "    X = radius * np.cos(u)*np.sin(v) + x\n",
        "    Y = radius * np.sin(u)*np.sin(v) + y\n",
        "    Z = radius * np.cos(v) + z\n",
        "    return (X, Y, Z)\n",
        "\n",
        "# Main\n",
        "def PSO(origin, destination, geometry, no_particles, handles, iterations, min_limit, max_limit):\n",
        "\n",
        "  # Create Particle Swarm\n",
        "  particles = []\n",
        "  for i in range(no_particles):\n",
        "    particles.append(Particle(origin, destination, handles))\n",
        "\n",
        "  # Initialize\n",
        "  global_best = GlobalBest(0,0,0,0,0,0,1e6)\n",
        "  for particle in particles:\n",
        "    if particle.cost < global_best.cost:\n",
        "      global_best.x = particle.x.copy()\n",
        "      global_best.y = particle.y.copy()\n",
        "      global_best.z = particle.z.copy()\n",
        "\n",
        "      global_best.xs = particle.xs.copy()\n",
        "      global_best.ys = particle.ys.copy()\n",
        "      global_best.zs = particle.zs.copy()\n",
        "\n",
        "      global_best.cost = particle.cost.copy()\n",
        "\n",
        "  # Particle Swarm Optimization\n",
        "  canvas_max_x = max_limit[0]\n",
        "  canvas_min_x = min_limit[0]\n",
        "\n",
        "  canvas_max_y = max_limit[1]\n",
        "  canvas_min_y = min_limit[1]\n",
        "\n",
        "  canvas_max_z = max_limit[2]\n",
        "  canvas_min_z = min_limit[2]\n",
        "\n",
        "  iterations = iterations\n",
        "  w = 1 \n",
        "  wdamp = .98\n",
        "  c1 = 1.5\n",
        "  c2 = 1.5\n",
        "  alpha = .1\n",
        "  vel_max_x = alpha*(canvas_max_x - canvas_min_x)\n",
        "  vel_min_x = -vel_max_x\n",
        "  vel_max_y = alpha*(canvas_max_y - canvas_min_y)\n",
        "  vel_min_y = -vel_max_y\n",
        "  vel_max_z = alpha*(canvas_max_z - canvas_min_z)\n",
        "  vel_min_z = -vel_max_z\n",
        "\n",
        "  for i in tqdm(range(0, iterations)):\n",
        "    \n",
        "    for particle in particles:\n",
        "\n",
        "      # X\n",
        "      particle.vx = w*particle.vx + \\\n",
        "                    c1*np.random.rand(1, handles+2).reshape(handles+2)*(particle.best_x-particle.x) + \\\n",
        "                    c2*np.random.rand(1, handles+2).reshape(handles+2)*(global_best.x-particle.x)\n",
        "      \n",
        "      particle.vx = np.maximum(particle.vx.copy(), vel_min_x)\n",
        "      particle.vx = np.minimum(particle.vx.copy(), vel_max_x)\n",
        "  \n",
        "      particle.x = np.add(particle.x, particle.vx, out=particle.x, casting='unsafe')\n",
        "\n",
        "      # Y\n",
        "      particle.vy = w*particle.vy + \\\n",
        "                    c1*np.random.rand(1, handles+2).reshape(handles+2)*(particle.best_y-particle.y) + \\\n",
        "                    c2*np.random.rand(1, handles+2).reshape(handles+2)*(global_best.y-particle.y)\n",
        "      \n",
        "      particle.vy = np.maximum(particle.vy.copy(), vel_min_y)\n",
        "      particle.vy = np.minimum(particle.vy.copy(), vel_max_y)\n",
        "\n",
        "      particle.y = np.add(particle.y, particle.vy, out=particle.y, casting='unsafe')\n",
        "\n",
        "      # Z\n",
        "      particle.vz = w*particle.vz + \\\n",
        "                    c1*np.random.rand(1, handles+2).reshape(handles+2)*(particle.best_z-particle.z) + \\\n",
        "                    c2*np.random.rand(1, handles+2).reshape(handles+2)*(global_best.z-particle.z)\n",
        "      \n",
        "      particle.vz = np.maximum(particle.vz.copy(), vel_min_z)\n",
        "      particle.vz = np.minimum(particle.vz.copy(), vel_max_z)\n",
        "\n",
        "      particle.z = np.add(particle.z, particle.vz, out=particle.z, casting='unsafe')\n",
        "\n",
        "      # Calculate cost\n",
        "      particle.Cost()\n",
        "      if particle.cost < particle.best_cost:\n",
        "        particle.best_x = particle.x.copy()\n",
        "        particle.best_y = particle.y.copy()\n",
        "        particle.best_z = particle.z.copy()\n",
        "\n",
        "        particle.best_xs = particle.xs.copy()\n",
        "        particle.best_ys = particle.ys.copy()\n",
        "        particle.best_zs = particle.zs.copy()\n",
        "\n",
        "        particle.best_cost = particle.cost.copy()\n",
        "\n",
        "      if particle.cost < global_best.cost:\n",
        "        global_best.x = particle.x.copy()\n",
        "        global_best.y = particle.y.copy()\n",
        "        global_best.z = particle.z.copy()\n",
        "\n",
        "        global_best.xs = particle.xs.copy()\n",
        "        global_best.ys = particle.ys.copy()\n",
        "        global_best.zs = particle.zs.copy()\n",
        "\n",
        "        global_best.cost = particle.cost.copy()\n",
        "\n",
        "    w = w * wdamp\n",
        "\n",
        "  print(f'\\nFinal Global Best Cost: {global_best.cost}')\n",
        "  return global_best.xs, global_best.ys, global_best.zs, global_best.cost\n"
      ]
    },
    {
      "cell_type": "markdown",
      "source": [
        "Define CDR"
      ],
      "metadata": {
        "id": "7B1qBKoigx2N"
      }
    },
    {
      "cell_type": "code",
      "execution_count": 2,
      "metadata": {
        "id": "DdXlE7Q5qjyt"
      },
      "outputs": [],
      "source": [
        "import numpy as np\n",
        "import matplotlib.pyplot as plt\n",
        "import pandas as pd\n",
        "from scipy.interpolate import interp1d\n",
        "\n",
        "class Drone:\n",
        "  def __init__(self, speed):\n",
        "    self.speed = speed\n",
        "  \n",
        "  def get_track(self, x, y, z):\n",
        "    self.x = x\n",
        "    self.y = y\n",
        "    self.z = z\n",
        "\n",
        "    length = 0\n",
        "    for i in range(0, len(x)):\n",
        "      try:\n",
        "        dx = x[i+1]-x[i]\n",
        "        dy = y[i+1]-y[i]\n",
        "        dz = z[i+1]-z[i]\n",
        "        dh = np.sqrt(dx**2+dy**2+dz**2)\n",
        "        length += dh\n",
        "      except:\n",
        "        break\n",
        "    length = round(length,1)\n",
        "\n",
        "    time = length/self.speed\n",
        "    time_vector = np.arange(0, round(time,2)*10 + 1)/10\n",
        "    xnew = np.linspace(x[0],x[-1],len(time_vector))\n",
        "    interp = interp1d(x, y)\n",
        "    yinterp = interp(xnew)\n",
        "    znew = np.linspace(z[0],z[-1],len(time_vector))\n",
        "    \n",
        "    df = pd.DataFrame({'time':time_vector, 'x':xnew, 'y':yinterp, 'z':znew})\n",
        "    df.x = df.x.round(2)\n",
        "    df.y = df.y.round(2)\n",
        "    df.z = df.z.round(2)\n",
        "    df['pos'] = df[['x','y','z']].apply(tuple, axis=1)\n",
        "\n",
        "    return df.drop(columns=['x', 'y', 'z'])\n",
        "\n",
        "  def update_speed(self, speed):\n",
        "    self.speed = speed\n",
        "    return self.get_track(self.x, self.y, self.z)\n",
        "\n",
        "class CDR():\n",
        "  def __init__(self):\n",
        "    self.master = []\n",
        "    self.drones = []\n",
        "    self.drone_index = 0\n",
        "\n",
        "  def add_drone(self, drone, track):\n",
        "    if len(self.master) == 0:\n",
        "      self.master = drone.get_track(track[0], track[1], track[2])\n",
        "      self.master.columns = ['time', f'drone_{self.drone_index}']\n",
        "      self.drones.append(drone)\n",
        "      self.drone_index += 1\n",
        "    else:\n",
        "      self.master = pd.concat([self.master.set_index('time'), drone.get_track(track[0], track[1], track[2]).set_index('time')], axis=1).reset_index()\n",
        "      self.master.columns = [*self.master.columns[:-1], f'drone_{self.drone_index}']\n",
        "      self.drones.append(drone)\n",
        "      self.clean()\n",
        "      self.drone_index += 1    \n",
        "\n",
        "  def update_speed(self, drone, to_speed):\n",
        "    self.master = pd.concat([self.master.set_index('time'), self.drones[drone].update_speed(to_speed).set_index('time')], axis=1).reset_index()\n",
        "    self.master = self.master.drop(columns=[f'drone_{drone}'])\n",
        "    self.master.columns = [*self.master.columns[:-1], f'drone_{drone}']\n",
        "    self.master = self.master.reindex(sorted(self.master.columns), axis=1)\n",
        "    time_column = self.master.pop('time')\n",
        "    self.master.insert(0, 'time', time_column)\n",
        "    self.clean()\n",
        "\n",
        "  def update_delay(self, drone, units):\n",
        "    self.master = self.master.reindex(range(len(self.master)+units))\n",
        "    self.master[f'drone_{drone}'] = self.master[f'drone_{drone}'].shift(units)\n",
        "    self.clean()\n",
        "    self.master['time'] = np.arange(0, len(self.master))/10\n",
        "\n",
        "  def clean(self):\n",
        "    self.master = self.master.ffill(axis=0)\n",
        "    self.master = self.master.bfill(axis=0)\n"
      ]
    },
    {
      "cell_type": "markdown",
      "source": [
        "Coordinator"
      ],
      "metadata": {
        "id": "WoT8etio4mLC"
      }
    },
    {
      "cell_type": "code",
      "source": [
        "origins = [(-5,-5,.5), (-5,-5,.5), (5,-5,.5), (5,-5,.5)]\n",
        "destinations = [(5,5,.5), (5,5,.5), (-5,5,.5), (-5,5,.5)]\n",
        "\n",
        "max_distance = .5\n",
        "n = len(origins)\n",
        "\n",
        "n_origins = []\n",
        "n_destinations = []\n",
        "for i in range(0, n):\n",
        "  for j in range(i+1, n):\n",
        "    # print(f'{i},{j}')\n",
        "    dist_origin = np.sqrt((origins[i][0]-origins[j][0])**2+(origins[i][1]-origins[j][1])**2+(origins[i][2]-origins[j][2])**2)\n",
        "    dist_destination = np.sqrt((destinations[i][0]-destinations[j][0])**2+(destinations[i][1]-destinations[j][1])**2+(destinations[i][2]-destinations[j][2])**2)\n",
        "    \n",
        "    if dist_origin <= max_distance and dist_destination <= max_distance:\n",
        "      n_origins.append(tuple(np.add(origins[i], origins[j])/2))\n",
        "      n_destinations.append(tuple(np.add(destinations[i], destinations[j])/2))\n",
        "    else:\n",
        "      n_origins.append(origins[i])\n",
        "      n_destinations.append(destinations[i])\n",
        "\n",
        "    # print(f'Distance Origin: {dist_origin}')\n",
        "    # print(f'Distance Destination: {dist_destination}')\n",
        "\n",
        "n_origins = pd.unique(n_origins)\n",
        "n_destinations = pd.unique(n_destinations)\n",
        "\n",
        "no_drones = []\n",
        "for k in range(0, len(n_origins)):\n",
        "  cumsum = 0\n",
        "  for m in range(0, len(origins)):\n",
        "    d = np.sqrt((n_origins[k][0]-origins[m][0])**2+(n_origins[k][1]-origins[m][1])**2+(n_origins[k][2]-origins[m][2])**2)\n",
        "    if d <= max_distance: cumsum += 1\n",
        "  no_drones.append(cumsum)"
      ],
      "metadata": {
        "id": "5AcKyRU-4l2r"
      },
      "execution_count": 22,
      "outputs": []
    },
    {
      "cell_type": "code",
      "source": [
        "n_origins"
      ],
      "metadata": {
        "colab": {
          "base_uri": "https://localhost:8080/"
        },
        "id": "GXgSflBYn3HR",
        "outputId": "922a3393-bbf3-4cb0-c10b-3599c5463eab"
      },
      "execution_count": 23,
      "outputs": [
        {
          "output_type": "execute_result",
          "data": {
            "text/plain": [
              "array([(-5.0, -5.0, 0.5), (5.0, -5.0, 0.5)], dtype=object)"
            ]
          },
          "metadata": {},
          "execution_count": 23
        }
      ]
    },
    {
      "cell_type": "code",
      "source": [
        "n_destinations"
      ],
      "metadata": {
        "colab": {
          "base_uri": "https://localhost:8080/"
        },
        "id": "cF1PMfS3n4pd",
        "outputId": "96ec808e-b13b-43ae-d5a2-c2027ce83fcb"
      },
      "execution_count": 24,
      "outputs": [
        {
          "output_type": "execute_result",
          "data": {
            "text/plain": [
              "array([(5.0, 5.0, 0.5), (-5.0, 5.0, 0.5)], dtype=object)"
            ]
          },
          "metadata": {},
          "execution_count": 24
        }
      ]
    },
    {
      "cell_type": "markdown",
      "source": [
        "PSO"
      ],
      "metadata": {
        "id": "Lr1LfqDf4pMj"
      }
    },
    {
      "cell_type": "code",
      "execution_count": 59,
      "metadata": {
        "colab": {
          "base_uri": "https://localhost:8080/"
        },
        "id": "IPX3MnSm9hQJ",
        "outputId": "d7b07463-df11-4a54-b0b0-e9dd849feca4"
      },
      "outputs": [
        {
          "output_type": "stream",
          "name": "stderr",
          "text": [
            "100%|██████████| 100/100 [00:13<00:00,  7.67it/s]\n"
          ]
        },
        {
          "output_type": "stream",
          "name": "stdout",
          "text": [
            "\n",
            "Final Global Best Cost: 147.30268686346642\n"
          ]
        },
        {
          "output_type": "stream",
          "name": "stderr",
          "text": [
            "100%|██████████| 100/100 [00:12<00:00,  7.70it/s]"
          ]
        },
        {
          "output_type": "stream",
          "name": "stdout",
          "text": [
            "\n",
            "Final Global Best Cost: 142.54554559741072\n"
          ]
        },
        {
          "output_type": "stream",
          "name": "stderr",
          "text": [
            "\n"
          ]
        }
      ],
      "source": [
        "# Create model obstacles\n",
        "bounds_x = (-10, 10)\n",
        "bounds_y = (-10, 10)\n",
        "bounds_z = (0, 3)\n",
        "\n",
        "obstacles = [Obstacle(2,2,0,1.5), \\\n",
        "             Obstacle(-2,-2,0,1.5), \\\n",
        "             Obstacle(2,-2,0,1.0), \\\n",
        "             Obstacle(-2,2,0,1.0)]\n",
        "\n",
        "# Create CDR\n",
        "cdr = CDR()\n",
        "\n",
        "# Run PSO\n",
        "data = []\n",
        "colors = ['red', 'blue', 'green']\n",
        "for i in range(0, len(n_origins)):\n",
        "  x, y, z, cost = PSO(origin=n_origins[i], destination=n_destinations[i], geometry=obstacles, no_particles=100, \\\n",
        "                    handles=3, iterations=100, min_limit=(bounds_x[0],bounds_y[0],bounds_z[0]), max_limit=(bounds_x[1],bounds_y[1],bounds_z[1]))\n",
        "\n",
        "  # Append best line\n",
        "  data.append(go.Scatter3d(x=x, y=y, z=z, mode='lines', name=f'Corridor {i}', line=dict(width=5, color=colors[i])))\n",
        "  \n",
        "  for j in range(0, len(no_drones)):\n",
        "    cdr.add_drone(drone=Drone(speed=5), track=(x,y,z))\n",
        "\n",
        "# Append 3d-spheres\n",
        "for j in range(0, len(obstacles)):\n",
        "    (x_pns_surface, y_pns_surface, z_pns_surface) = ms(obstacles[j].x, obstacles[j].y, obstacles[j].z, obstacles[j].r)\n",
        "    data.append(go.Surface(x=x_pns_surface, y=y_pns_surface, z=z_pns_surface, showscale=False, opacity=1))\n",
        "\n",
        "# Plot first frame of drones\n",
        "data.append(go.Scatter3d(\n",
        "            x=[cdr.master[f'drone_{m}'][0][0] for m in range(0,len(origins))],\n",
        "            y=[cdr.master[f'drone_{m}'][0][1] for m in range(0,len(origins))],\n",
        "            z=[cdr.master[f'drone_{m}'][0][2] for m in range(0,len(origins))],\n",
        "            name='Drone',\n",
        "            mode=\"markers\",\n",
        "            marker=dict(color=\"black\", size=5)))"
      ]
    },
    {
      "cell_type": "markdown",
      "source": [
        "Plot"
      ],
      "metadata": {
        "id": "a67aFy6EpJvp"
      }
    },
    {
      "cell_type": "code",
      "source": [
        "layout = go.Layout(scene=dict(\n",
        "  aspectmode='manual',\n",
        "  aspectratio=dict(x=1, y=(bounds_y[1]-bounds_y[0])/(bounds_x[1]-bounds_x[0]), z=(bounds_z[1]-bounds_z[0])/(bounds_x[1]-bounds_x[0])),\n",
        "  bgcolor='rgba(0,0,0,0)',\n",
        "  xaxis = dict(range=[bounds_x[0], bounds_x[1]], showgrid=True, gridcolor='rgba(0, 0, 0, .1)', backgroundcolor=\"rgba(0, 0, 0, 0)\", showticklabels=True),\n",
        "  yaxis = dict(range=[bounds_y[0], bounds_y[1]], showgrid=True, gridcolor='rgba(0, 0, 0, .1)', backgroundcolor=\"rgba(0, 0, 0, 0)\", showticklabels=True),\n",
        "  zaxis = dict(range=[bounds_z[0], bounds_z[1]], showgrid=True, gridcolor='rgba(0, 0, 0, .1)', backgroundcolor=\"rgba(0, 0, 0, 0)\", showticklabels=True)),\n",
        "  updatemenus=[dict(type=\"buttons\", buttons=[dict(label=\"Play\", method=\"animate\",args=[None, {'frame':{'duration':1}}])])]\n",
        "  )\n",
        "\n",
        "frames=[go.Frame(\n",
        "        data=[go.Scatter3d(\n",
        "            x=[cdr.master[f'drone_{m}'][k][0] for m in range(0,len(origins))],\n",
        "            y=[cdr.master[f'drone_{m}'][k][1] for m in range(0,len(origins))],\n",
        "            z=[cdr.master[f'drone_{m}'][k][2] for m in range(0,len(origins))],\n",
        "            name='Drone',\n",
        "            mode=\"markers\",\n",
        "            marker=dict(color=\"black\", size=5))], traces = [len(data)-1])\n",
        "\n",
        "        for k in range(len(cdr.master.drone_1))]\n",
        "\n",
        "fig = go.Figure(data=data, layout=layout, frames=frames)\n",
        "fig.show()"
      ],
      "metadata": {
        "id": "5sKZcaGClvb7"
      },
      "execution_count": null,
      "outputs": []
    },
    {
      "cell_type": "code",
      "source": [
        "cdr.update_speed(drone=0, to_speed=10)\n",
        "cdr.update_speed(drone=1, to_speed=10)\n",
        "\n",
        "cdr.update_speed(drone=2, to_speed=7)\n",
        "cdr.update_speed(drone=3, to_speed=7)\n",
        "\n",
        "cdr.update_delay(drone=1, units=5)\n",
        "cdr.update_delay(drone=3, units=5)"
      ],
      "metadata": {
        "id": "6yCp8UVGppkA"
      },
      "execution_count": 69,
      "outputs": []
    },
    {
      "cell_type": "code",
      "source": [
        "cdr.master"
      ],
      "metadata": {
        "id": "QRW-v5Q5uucC"
      },
      "execution_count": null,
      "outputs": []
    }
  ],
  "metadata": {
    "colab": {
      "collapsed_sections": [],
      "name": "pso_model_3D.ipynb",
      "provenance": [],
      "authorship_tag": "ABX9TyOeWM4Yl6yT3JH9f+5eyUKV",
      "include_colab_link": true
    },
    "kernelspec": {
      "display_name": "Python 3",
      "name": "python3"
    },
    "language_info": {
      "name": "python"
    }
  },
  "nbformat": 4,
  "nbformat_minor": 0
}