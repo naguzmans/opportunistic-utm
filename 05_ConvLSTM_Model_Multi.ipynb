{
  "nbformat": 4,
  "nbformat_minor": 0,
  "metadata": {
    "colab": {
      "name": "05_ConvLSTM_Model_Multi.ipynb",
      "provenance": [],
      "collapsed_sections": [],
      "machine_shape": "hm",
      "authorship_tag": "ABX9TyMKBqFrs1crIdHvbrNHZQXE",
      "include_colab_link": true
    },
    "kernelspec": {
      "name": "python3",
      "display_name": "Python 3"
    },
    "language_info": {
      "name": "python"
    },
    "accelerator": "GPU",
    "gpuClass": "standard"
  },
  "cells": [
    {
      "cell_type": "markdown",
      "metadata": {
        "id": "view-in-github",
        "colab_type": "text"
      },
      "source": [
        "<a href=\"https://colab.research.google.com/github/naguzmans/opportunistic-atm/blob/master/05_ConvLSTM_Model_Multi.ipynb\" target=\"_parent\"><img src=\"https://colab.research.google.com/assets/colab-badge.svg\" alt=\"Open In Colab\"/></a>"
      ]
    },
    {
      "cell_type": "markdown",
      "source": [
        "# Mount Drive"
      ],
      "metadata": {
        "id": "A-eXfDSKXdnC"
      }
    },
    {
      "cell_type": "code",
      "execution_count": 1,
      "metadata": {
        "colab": {
          "base_uri": "https://localhost:8080/"
        },
        "id": "Zcmvby6oW54H",
        "outputId": "2af0c455-47c9-4398-d16d-3ccc3d98c78d"
      },
      "outputs": [
        {
          "output_type": "stream",
          "name": "stdout",
          "text": [
            "Mounted at /content/drive\n",
            "/content/drive/MyDrive/opportunistic-utm\n"
          ]
        }
      ],
      "source": [
        "from google.colab import drive\n",
        "drive.mount('/content/drive')\n",
        "%cd /content/drive/MyDrive/opportunistic-utm"
      ]
    },
    {
      "cell_type": "markdown",
      "source": [
        "# Check GPU"
      ],
      "metadata": {
        "id": "Tqh_oZgxs6J9"
      }
    },
    {
      "cell_type": "code",
      "source": [
        "!nvidia-smi -L  "
      ],
      "metadata": {
        "colab": {
          "base_uri": "https://localhost:8080/"
        },
        "id": "-bhfUvZ0xzij",
        "outputId": "2d3db7f2-e3de-4e00-ce0d-b2fd69182f3c"
      },
      "execution_count": null,
      "outputs": [
        {
          "output_type": "stream",
          "name": "stdout",
          "text": [
            "GPU 0: Tesla T4 (UUID: GPU-4e16028f-71de-41e8-d0d9-c7dfa9c79426)\n"
          ]
        }
      ]
    },
    {
      "cell_type": "code",
      "source": [
        "!nvidia-smi"
      ],
      "metadata": {
        "colab": {
          "base_uri": "https://localhost:8080/"
        },
        "id": "6yjWNDv_qioA",
        "outputId": "fe923ac4-2db5-4b6f-da6d-11718b9efe82"
      },
      "execution_count": null,
      "outputs": [
        {
          "output_type": "stream",
          "name": "stdout",
          "text": [
            "Wed Jul 20 17:17:16 2022       \n",
            "+-----------------------------------------------------------------------------+\n",
            "| NVIDIA-SMI 460.32.03    Driver Version: 460.32.03    CUDA Version: 11.2     |\n",
            "|-------------------------------+----------------------+----------------------+\n",
            "| GPU  Name        Persistence-M| Bus-Id        Disp.A | Volatile Uncorr. ECC |\n",
            "| Fan  Temp  Perf  Pwr:Usage/Cap|         Memory-Usage | GPU-Util  Compute M. |\n",
            "|                               |                      |               MIG M. |\n",
            "|===============================+======================+======================|\n",
            "|   0  Tesla T4            Off  | 00000000:00:04.0 Off |                    0 |\n",
            "| N/A   36C    P8     9W /  70W |      0MiB / 15109MiB |      0%      Default |\n",
            "|                               |                      |                  N/A |\n",
            "+-------------------------------+----------------------+----------------------+\n",
            "                                                                               \n",
            "+-----------------------------------------------------------------------------+\n",
            "| Processes:                                                                  |\n",
            "|  GPU   GI   CI        PID   Type   Process name                  GPU Memory |\n",
            "|        ID   ID                                                   Usage      |\n",
            "|=============================================================================|\n",
            "|  No running processes found                                                 |\n",
            "+-----------------------------------------------------------------------------+\n"
          ]
        }
      ]
    },
    {
      "cell_type": "markdown",
      "source": [
        "# Define SARMSE Metric"
      ],
      "metadata": {
        "id": "lUo31bu5Y6L0"
      }
    },
    {
      "cell_type": "code",
      "source": [
        "# Spatially Averaged Root Mean Square\n",
        "def SARMSE(original, predicted):\n",
        "  layer_rmse = np.sqrt(np.sum(np.square(original-predicted)/100**2, axis=(0,1)))\n",
        "  return np.sum(layer_rmse)/original.shape[-1] # divided by # of channels"
      ],
      "metadata": {
        "id": "1-3hwXuZY5sX"
      },
      "execution_count": null,
      "outputs": []
    },
    {
      "cell_type": "markdown",
      "source": [
        "# ConvLSTM Model"
      ],
      "metadata": {
        "id": "gl91PExwcdOm"
      }
    },
    {
      "cell_type": "markdown",
      "source": [
        "**Dependencies**"
      ],
      "metadata": {
        "id": "DMkkuxQ9ciVh"
      }
    },
    {
      "cell_type": "code",
      "source": [
        "import numpy as np\n",
        "import matplotlib.pyplot as plt\n",
        "import tensorflow as tf\n",
        "from tensorflow import keras\n",
        "from tensorflow.keras import layers\n",
        "from tensorflow.keras.layers import Flatten, GRU, Dropout, TimeDistributed, MaxPooling3D"
      ],
      "metadata": {
        "id": "m3pH5akCceho"
      },
      "execution_count": null,
      "outputs": []
    },
    {
      "cell_type": "markdown",
      "source": [
        "**Custom Keras Loss Function**"
      ],
      "metadata": {
        "id": "3ThbeX8XcnCm"
      }
    },
    {
      "cell_type": "code",
      "source": [
        "from keras import backend as K\n",
        "\n",
        "def custom_sarmse(y_true, y_pred):\n",
        "  # print(f'True shape: {y_true.shape}')\n",
        "  # print(f'Pred shape: {y_pred.shape}')\n",
        "  a = K.square(y_true - y_pred + 1e-10)\n",
        "  b = K.sum(a, [2,3], keepdims=True)\n",
        "  c = K.sqrt(b)\n",
        "  d = K.sum(c)/(100*20)\n",
        "  return d"
      ],
      "metadata": {
        "id": "STRThcwAcpdA"
      },
      "execution_count": null,
      "outputs": []
    },
    {
      "cell_type": "markdown",
      "source": [
        "**Model**"
      ],
      "metadata": {
        "id": "oLZMZemMcxpo"
      }
    },
    {
      "cell_type": "code",
      "source": [
        "# Construct the input layer with no definite frame size.\n",
        "inp = layers.Input(shape=(None, 100, 100, 20))\n",
        "minp = layers.Input(shape=(None, 25))\n",
        "\n",
        "def repeat_tabular(x_tab):\n",
        "  h = x_tab[:, :, :, None, None]\n",
        "  h = tf.tile(h, [1, 1, 4, 100, 1]) \n",
        "  return h\n",
        "  \n",
        "a = layers.ConvLSTM2D(\n",
        "    filters=32,\n",
        "    kernel_size=(3, 3),\n",
        "    dilation_rate=(1, 1),\n",
        "    padding=\"same\",\n",
        "    return_sequences=True,\n",
        "    activation=\"relu\",\n",
        "    data_format='channels_last'\n",
        ")(inp)\n",
        "\n",
        "b = layers.ConvLSTM2D(\n",
        "    filters=16,\n",
        "    kernel_size=(5, 5),\n",
        "    dilation_rate=(1, 1),\n",
        "    padding=\"same\",\n",
        "    return_sequences=True,\n",
        "    activation=\"relu\",\n",
        "    data_format='channels_last'\n",
        ")(inp)\n",
        "\n",
        "c = layers.ConvLSTM2D(\n",
        "    filters=16,\n",
        "    kernel_size=(1, 1),\n",
        "    dilation_rate=(1, 1),\n",
        "    padding=\"same\",\n",
        "    return_sequences=True,\n",
        "    activation=\"relu\",\n",
        "    data_format='channels_last'\n",
        ")(inp)\n",
        "\n",
        "y = tf.keras.layers.LSTM(64, return_sequences=True)(minp)\n",
        "y = layers.Lambda(repeat_tabular)(minp)\n",
        "\n",
        "x = tf.keras.layers.Concatenate()([a, b, c, y])\n",
        "x = TimeDistributed(layers.BatchNormalization())(x)\n",
        "# x = TimeDistributed(layers.Dropout(0.1))(x)\n",
        "\n",
        "x = layers.ConvLSTM2D(\n",
        "    filters=20,\n",
        "    kernel_size=(3, 3),\n",
        "    padding=\"same\",\n",
        "    return_sequences=True,\n",
        "    activation=\"sigmoid\",\n",
        "    data_format='channels_last'\n",
        ")(x)\n",
        "\n",
        "model = keras.models.Model(inputs = [inp, minp], outputs = x)\n",
        "model.compile(\n",
        "    loss=custom_sarmse, optimizer=keras.optimizers.Adam(), run_eagerly=False,\n",
        ")\n",
        "\n",
        "model.summary()"
      ],
      "metadata": {
        "colab": {
          "base_uri": "https://localhost:8080/"
        },
        "id": "PWAtxV2M9QFt",
        "outputId": "b59a4617-134e-4168-ec5b-76b4c78be336"
      },
      "execution_count": null,
      "outputs": [
        {
          "output_type": "stream",
          "name": "stdout",
          "text": [
            "Model: \"model\"\n",
            "__________________________________________________________________________________________________\n",
            " Layer (type)                   Output Shape         Param #     Connected to                     \n",
            "==================================================================================================\n",
            " input_1 (InputLayer)           [(None, None, 100,   0           []                               \n",
            "                                100, 20)]                                                         \n",
            "                                                                                                  \n",
            " input_2 (InputLayer)           [(None, None, 25)]   0           []                               \n",
            "                                                                                                  \n",
            " conv_lstm2d (ConvLSTM2D)       (None, None, 100, 1  60032       ['input_1[0][0]']                \n",
            "                                00, 32)                                                           \n",
            "                                                                                                  \n",
            " conv_lstm2d_1 (ConvLSTM2D)     (None, None, 100, 1  57664       ['input_1[0][0]']                \n",
            "                                00, 16)                                                           \n",
            "                                                                                                  \n",
            " conv_lstm2d_2 (ConvLSTM2D)     (None, None, 100, 1  2368        ['input_1[0][0]']                \n",
            "                                00, 16)                                                           \n",
            "                                                                                                  \n",
            " lambda (Lambda)                (None, None, 100, 1  0           ['input_2[0][0]']                \n",
            "                                00, 1)                                                            \n",
            "                                                                                                  \n",
            " concatenate (Concatenate)      (None, None, 100, 1  0           ['conv_lstm2d[0][0]',            \n",
            "                                00, 65)                           'conv_lstm2d_1[0][0]',          \n",
            "                                                                  'conv_lstm2d_2[0][0]',          \n",
            "                                                                  'lambda[0][0]']                 \n",
            "                                                                                                  \n",
            " time_distributed (TimeDistribu  (None, None, 100, 1  260        ['concatenate[0][0]']            \n",
            " ted)                           00, 65)                                                           \n",
            "                                                                                                  \n",
            " conv_lstm2d_3 (ConvLSTM2D)     (None, None, 100, 1  61280       ['time_distributed[0][0]']       \n",
            "                                00, 20)                                                           \n",
            "                                                                                                  \n",
            "==================================================================================================\n",
            "Total params: 181,604\n",
            "Trainable params: 181,474\n",
            "Non-trainable params: 130\n",
            "__________________________________________________________________________________________________\n"
          ]
        }
      ]
    },
    {
      "cell_type": "markdown",
      "source": [
        "**Train model**"
      ],
      "metadata": {
        "id": "ZqCCmeGydE_0"
      }
    },
    {
      "cell_type": "code",
      "source": [
        "import glob\n",
        "\n",
        "# List of folders with data\n",
        "files_list = []\n",
        "for filename in glob.iglob(f'dataset/00_results/daily_masked/*.npy', recursive=False):\n",
        "  files_list.append(filename)\n",
        "\n",
        "files_list = np.sort(files_list).tolist()\n",
        "print(f'Number of Files: {len(files_list)}')"
      ],
      "metadata": {
        "colab": {
          "base_uri": "https://localhost:8080/"
        },
        "id": "lQ0JNGz-xSdG",
        "outputId": "3390ae58-72b5-4196-ed32-e5956f8cb0ce"
      },
      "execution_count": null,
      "outputs": [
        {
          "output_type": "stream",
          "name": "stdout",
          "text": [
            "Number of Files: 365\n"
          ]
        }
      ]
    },
    {
      "cell_type": "code",
      "source": [
        "from tensorflow.keras.utils import Sequence\n",
        "import numpy as np   \n",
        "tf.config.run_functions_eagerly(True)\n",
        "\n",
        "def shift_array(data, metadata, shift=1):\n",
        "  xdata = data[:, 0 : data.shape[1] - shift, :, :]\n",
        "  xmetadata = metadata[:, 0 : metadata.shape[1] - shift, :]\n",
        "\n",
        "  ydata = data[:, shift : data.shape[1], :, :]\n",
        "  ymetadata = metadata[:, shift : metadata.shape[1], :]\n",
        "\n",
        "  return [xdata, xmetadata], [ydata, ymetadata]\n",
        "\n",
        "class DataGenerator(Sequence):\n",
        "  def __init__(self, files_list, batch_size):\n",
        "    self.files_list = files_list\n",
        "    self.batch_size = batch_size\n",
        "\n",
        "  def __len__(self):\n",
        "    return int(np.ceil(len(self.files_list) / float(self.batch_size)))\n",
        "\n",
        "  def __getitem__(self, idx):\n",
        "    batch_list = self.files_list[idx * self.batch_size:(idx + 1) * self.batch_size]\n",
        "    data_array = np.empty((1,24,100,100,20))\n",
        "    metadata_array = np.empty((1,24,25))\n",
        "\n",
        "    for file in batch_list:\n",
        "      data_file = np.load(file)\n",
        "      data_array = np.concatenate((data_array, np.expand_dims(data_file, axis=0)), axis=0)\n",
        "\n",
        "      metadata_file = np.load(file.replace('masked', 'metadata'))\n",
        "      metadata_array = np.concatenate((metadata_array, np.expand_dims(metadata_file, axis=0)), axis=0)\n",
        "\n",
        "    return shift_array(data_array[1:], metadata_array[1:])\n",
        "\n",
        "train_gen = DataGenerator(files_list[0:300], 4)\n",
        "val_gen = DataGenerator(files_list[300:330], 4)"
      ],
      "metadata": {
        "id": "djeeRjk5fzYn"
      },
      "execution_count": null,
      "outputs": []
    },
    {
      "cell_type": "code",
      "source": [
        "# Define some callbacks to improve training.\n",
        "early_stopping = keras.callbacks.EarlyStopping(monitor=\"val_loss\", patience=5)\n",
        "reduce_lr = keras.callbacks.ReduceLROnPlateau(monitor=\"val_loss\", patience=5)\n",
        "\n",
        "# Fit the model to the training data.\n",
        "history = model.fit(\n",
        "    train_gen,\n",
        "    epochs=15,\n",
        "    validation_data=val_gen,\n",
        "    callbacks=[early_stopping, reduce_lr]\n",
        ")"
      ],
      "metadata": {
        "id": "AsI12L609d1y",
        "colab": {
          "base_uri": "https://localhost:8080/",
          "height": 371
        },
        "outputId": "34882b0f-a845-4f26-8ea9-072c3111bf49"
      },
      "execution_count": null,
      "outputs": [
        {
          "output_type": "error",
          "ename": "OSError",
          "evalue": "ignored",
          "traceback": [
            "\u001b[0;31m---------------------------------------------------------------------------\u001b[0m",
            "\u001b[0;31mOSError\u001b[0m                                   Traceback (most recent call last)",
            "\u001b[0;32m<ipython-input-11-6fbc48929248>\u001b[0m in \u001b[0;36m<module>\u001b[0;34m()\u001b[0m\n\u001b[1;32m      8\u001b[0m     \u001b[0mepochs\u001b[0m\u001b[0;34m=\u001b[0m\u001b[0;36m15\u001b[0m\u001b[0;34m,\u001b[0m\u001b[0;34m\u001b[0m\u001b[0;34m\u001b[0m\u001b[0m\n\u001b[1;32m      9\u001b[0m     \u001b[0mvalidation_data\u001b[0m\u001b[0;34m=\u001b[0m\u001b[0mval_gen\u001b[0m\u001b[0;34m,\u001b[0m\u001b[0;34m\u001b[0m\u001b[0;34m\u001b[0m\u001b[0m\n\u001b[0;32m---> 10\u001b[0;31m     \u001b[0mcallbacks\u001b[0m\u001b[0;34m=\u001b[0m\u001b[0;34m[\u001b[0m\u001b[0mearly_stopping\u001b[0m\u001b[0;34m,\u001b[0m \u001b[0mreduce_lr\u001b[0m\u001b[0;34m]\u001b[0m\u001b[0;34m\u001b[0m\u001b[0;34m\u001b[0m\u001b[0m\n\u001b[0m\u001b[1;32m     11\u001b[0m )\n",
            "\u001b[0;32m/usr/local/lib/python3.7/dist-packages/keras/utils/traceback_utils.py\u001b[0m in \u001b[0;36merror_handler\u001b[0;34m(*args, **kwargs)\u001b[0m\n\u001b[1;32m     65\u001b[0m     \u001b[0;32mexcept\u001b[0m \u001b[0mException\u001b[0m \u001b[0;32mas\u001b[0m \u001b[0me\u001b[0m\u001b[0;34m:\u001b[0m  \u001b[0;31m# pylint: disable=broad-except\u001b[0m\u001b[0;34m\u001b[0m\u001b[0;34m\u001b[0m\u001b[0m\n\u001b[1;32m     66\u001b[0m       \u001b[0mfiltered_tb\u001b[0m \u001b[0;34m=\u001b[0m \u001b[0m_process_traceback_frames\u001b[0m\u001b[0;34m(\u001b[0m\u001b[0me\u001b[0m\u001b[0;34m.\u001b[0m\u001b[0m__traceback__\u001b[0m\u001b[0;34m)\u001b[0m\u001b[0;34m\u001b[0m\u001b[0;34m\u001b[0m\u001b[0m\n\u001b[0;32m---> 67\u001b[0;31m       \u001b[0;32mraise\u001b[0m \u001b[0me\u001b[0m\u001b[0;34m.\u001b[0m\u001b[0mwith_traceback\u001b[0m\u001b[0;34m(\u001b[0m\u001b[0mfiltered_tb\u001b[0m\u001b[0;34m)\u001b[0m \u001b[0;32mfrom\u001b[0m \u001b[0;32mNone\u001b[0m\u001b[0;34m\u001b[0m\u001b[0;34m\u001b[0m\u001b[0m\n\u001b[0m\u001b[1;32m     68\u001b[0m     \u001b[0;32mfinally\u001b[0m\u001b[0;34m:\u001b[0m\u001b[0;34m\u001b[0m\u001b[0;34m\u001b[0m\u001b[0m\n\u001b[1;32m     69\u001b[0m       \u001b[0;32mdel\u001b[0m \u001b[0mfiltered_tb\u001b[0m\u001b[0;34m\u001b[0m\u001b[0;34m\u001b[0m\u001b[0m\n",
            "\u001b[0;32m<ipython-input-10-2c511c4b6bfe>\u001b[0m in \u001b[0;36m__getitem__\u001b[0;34m(self, idx)\u001b[0m\n\u001b[1;32m     26\u001b[0m \u001b[0;34m\u001b[0m\u001b[0m\n\u001b[1;32m     27\u001b[0m     \u001b[0;32mfor\u001b[0m \u001b[0mfile\u001b[0m \u001b[0;32min\u001b[0m \u001b[0mbatch_list\u001b[0m\u001b[0;34m:\u001b[0m\u001b[0;34m\u001b[0m\u001b[0;34m\u001b[0m\u001b[0m\n\u001b[0;32m---> 28\u001b[0;31m       \u001b[0mdata_file\u001b[0m \u001b[0;34m=\u001b[0m \u001b[0mnp\u001b[0m\u001b[0;34m.\u001b[0m\u001b[0mload\u001b[0m\u001b[0;34m(\u001b[0m\u001b[0mfile\u001b[0m\u001b[0;34m)\u001b[0m\u001b[0;34m\u001b[0m\u001b[0;34m\u001b[0m\u001b[0m\n\u001b[0m\u001b[1;32m     29\u001b[0m       \u001b[0mdata_array\u001b[0m \u001b[0;34m=\u001b[0m \u001b[0mnp\u001b[0m\u001b[0;34m.\u001b[0m\u001b[0mconcatenate\u001b[0m\u001b[0;34m(\u001b[0m\u001b[0;34m(\u001b[0m\u001b[0mdata_array\u001b[0m\u001b[0;34m,\u001b[0m \u001b[0mnp\u001b[0m\u001b[0;34m.\u001b[0m\u001b[0mexpand_dims\u001b[0m\u001b[0;34m(\u001b[0m\u001b[0mdata_file\u001b[0m\u001b[0;34m,\u001b[0m \u001b[0maxis\u001b[0m\u001b[0;34m=\u001b[0m\u001b[0;36m0\u001b[0m\u001b[0;34m)\u001b[0m\u001b[0;34m)\u001b[0m\u001b[0;34m,\u001b[0m \u001b[0maxis\u001b[0m\u001b[0;34m=\u001b[0m\u001b[0;36m0\u001b[0m\u001b[0;34m)\u001b[0m\u001b[0;34m\u001b[0m\u001b[0;34m\u001b[0m\u001b[0m\n\u001b[1;32m     30\u001b[0m \u001b[0;34m\u001b[0m\u001b[0m\n",
            "\u001b[0;32m/usr/local/lib/python3.7/dist-packages/numpy/lib/npyio.py\u001b[0m in \u001b[0;36mload\u001b[0;34m(file, mmap_mode, allow_pickle, fix_imports, encoding)\u001b[0m\n\u001b[1;32m    449\u001b[0m             \u001b[0;32mexcept\u001b[0m \u001b[0mException\u001b[0m \u001b[0;32mas\u001b[0m \u001b[0me\u001b[0m\u001b[0;34m:\u001b[0m\u001b[0;34m\u001b[0m\u001b[0;34m\u001b[0m\u001b[0m\n\u001b[1;32m    450\u001b[0m                 raise IOError(\n\u001b[0;32m--> 451\u001b[0;31m                     \"Failed to interpret file %s as a pickle\" % repr(file)) from e\n\u001b[0m\u001b[1;32m    452\u001b[0m \u001b[0;34m\u001b[0m\u001b[0m\n\u001b[1;32m    453\u001b[0m \u001b[0;34m\u001b[0m\u001b[0m\n",
            "\u001b[0;32m/usr/lib/python3.7/contextlib.py\u001b[0m in \u001b[0;36m__exit__\u001b[0;34m(self, *exc_details)\u001b[0m\n\u001b[1;32m    522\u001b[0m                 \u001b[0;31m# set-up context\u001b[0m\u001b[0;34m\u001b[0m\u001b[0;34m\u001b[0m\u001b[0;34m\u001b[0m\u001b[0m\n\u001b[1;32m    523\u001b[0m                 \u001b[0mfixed_ctx\u001b[0m \u001b[0;34m=\u001b[0m \u001b[0mexc_details\u001b[0m\u001b[0;34m[\u001b[0m\u001b[0;36m1\u001b[0m\u001b[0;34m]\u001b[0m\u001b[0;34m.\u001b[0m\u001b[0m__context__\u001b[0m\u001b[0;34m\u001b[0m\u001b[0;34m\u001b[0m\u001b[0m\n\u001b[0;32m--> 524\u001b[0;31m                 \u001b[0;32mraise\u001b[0m \u001b[0mexc_details\u001b[0m\u001b[0;34m[\u001b[0m\u001b[0;36m1\u001b[0m\u001b[0;34m]\u001b[0m\u001b[0;34m\u001b[0m\u001b[0;34m\u001b[0m\u001b[0m\n\u001b[0m\u001b[1;32m    525\u001b[0m             \u001b[0;32mexcept\u001b[0m \u001b[0mBaseException\u001b[0m\u001b[0;34m:\u001b[0m\u001b[0;34m\u001b[0m\u001b[0;34m\u001b[0m\u001b[0m\n\u001b[1;32m    526\u001b[0m                 \u001b[0mexc_details\u001b[0m\u001b[0;34m[\u001b[0m\u001b[0;36m1\u001b[0m\u001b[0;34m]\u001b[0m\u001b[0;34m.\u001b[0m\u001b[0m__context__\u001b[0m \u001b[0;34m=\u001b[0m \u001b[0mfixed_ctx\u001b[0m\u001b[0;34m\u001b[0m\u001b[0;34m\u001b[0m\u001b[0m\n",
            "\u001b[0;32m/usr/lib/python3.7/contextlib.py\u001b[0m in \u001b[0;36m__exit__\u001b[0;34m(self, *exc_details)\u001b[0m\n\u001b[1;32m    507\u001b[0m             \u001b[0;32massert\u001b[0m \u001b[0mis_sync\u001b[0m\u001b[0;34m\u001b[0m\u001b[0;34m\u001b[0m\u001b[0m\n\u001b[1;32m    508\u001b[0m             \u001b[0;32mtry\u001b[0m\u001b[0;34m:\u001b[0m\u001b[0;34m\u001b[0m\u001b[0;34m\u001b[0m\u001b[0m\n\u001b[0;32m--> 509\u001b[0;31m                 \u001b[0;32mif\u001b[0m \u001b[0mcb\u001b[0m\u001b[0;34m(\u001b[0m\u001b[0;34m*\u001b[0m\u001b[0mexc_details\u001b[0m\u001b[0;34m)\u001b[0m\u001b[0;34m:\u001b[0m\u001b[0;34m\u001b[0m\u001b[0;34m\u001b[0m\u001b[0m\n\u001b[0m\u001b[1;32m    510\u001b[0m                     \u001b[0msuppressed_exc\u001b[0m \u001b[0;34m=\u001b[0m \u001b[0;32mTrue\u001b[0m\u001b[0;34m\u001b[0m\u001b[0;34m\u001b[0m\u001b[0m\n\u001b[1;32m    511\u001b[0m                     \u001b[0mpending_raise\u001b[0m \u001b[0;34m=\u001b[0m \u001b[0;32mFalse\u001b[0m\u001b[0;34m\u001b[0m\u001b[0;34m\u001b[0m\u001b[0m\n",
            "\u001b[0;32m/usr/lib/python3.7/contextlib.py\u001b[0m in \u001b[0;36m_exit_wrapper\u001b[0;34m(exc_type, exc, tb)\u001b[0m\n\u001b[1;32m    375\u001b[0m     \u001b[0;32mdef\u001b[0m \u001b[0m_create_exit_wrapper\u001b[0m\u001b[0;34m(\u001b[0m\u001b[0mcm\u001b[0m\u001b[0;34m,\u001b[0m \u001b[0mcm_exit\u001b[0m\u001b[0;34m)\u001b[0m\u001b[0;34m:\u001b[0m\u001b[0;34m\u001b[0m\u001b[0;34m\u001b[0m\u001b[0m\n\u001b[1;32m    376\u001b[0m         \u001b[0;32mdef\u001b[0m \u001b[0m_exit_wrapper\u001b[0m\u001b[0;34m(\u001b[0m\u001b[0mexc_type\u001b[0m\u001b[0;34m,\u001b[0m \u001b[0mexc\u001b[0m\u001b[0;34m,\u001b[0m \u001b[0mtb\u001b[0m\u001b[0;34m)\u001b[0m\u001b[0;34m:\u001b[0m\u001b[0;34m\u001b[0m\u001b[0;34m\u001b[0m\u001b[0m\n\u001b[0;32m--> 377\u001b[0;31m             \u001b[0;32mreturn\u001b[0m \u001b[0mcm_exit\u001b[0m\u001b[0;34m(\u001b[0m\u001b[0mcm\u001b[0m\u001b[0;34m,\u001b[0m \u001b[0mexc_type\u001b[0m\u001b[0;34m,\u001b[0m \u001b[0mexc\u001b[0m\u001b[0;34m,\u001b[0m \u001b[0mtb\u001b[0m\u001b[0;34m)\u001b[0m\u001b[0;34m\u001b[0m\u001b[0;34m\u001b[0m\u001b[0m\n\u001b[0m\u001b[1;32m    378\u001b[0m         \u001b[0;32mreturn\u001b[0m \u001b[0m_exit_wrapper\u001b[0m\u001b[0;34m\u001b[0m\u001b[0;34m\u001b[0m\u001b[0m\n\u001b[1;32m    379\u001b[0m \u001b[0;34m\u001b[0m\u001b[0m\n",
            "\u001b[0;31mOSError\u001b[0m: [Errno 107] Transport endpoint is not connected"
          ]
        }
      ]
    },
    {
      "cell_type": "code",
      "source": [
        "%config InlineBackend.figure_format = 'retina'\n",
        "\n",
        "fig, ax = plt.subplots(figsize=(8,5))\n",
        "plt.plot(history.history['loss'])\n",
        "plt.plot(history.history['val_loss'])\n",
        "plt.title('', fontweight='bold')\n",
        "plt.ylabel('Loss', fontsize=12)\n",
        "plt.xlabel('Epoch',fontsize=12)\n",
        "plt.legend(['Training', 'Validation'], loc='upper right')\n",
        "plt.axis('on')\n",
        "plt.grid('on', alpha=.2)\n",
        "plt.show()"
      ],
      "metadata": {
        "colab": {
          "base_uri": "https://localhost:8080/",
          "height": 240
        },
        "id": "lHvniMA84FHM",
        "outputId": "61bec0b7-93aa-40d1-e9fa-3a7b3be30131"
      },
      "execution_count": null,
      "outputs": [
        {
          "output_type": "error",
          "ename": "NameError",
          "evalue": "ignored",
          "traceback": [
            "\u001b[0;31m---------------------------------------------------------------------------\u001b[0m",
            "\u001b[0;31mNameError\u001b[0m                                 Traceback (most recent call last)",
            "\u001b[0;32m<ipython-input-1-ee42fedddf1d>\u001b[0m in \u001b[0;36m<module>\u001b[0;34m()\u001b[0m\n\u001b[1;32m      1\u001b[0m \u001b[0mget_ipython\u001b[0m\u001b[0;34m(\u001b[0m\u001b[0;34m)\u001b[0m\u001b[0;34m.\u001b[0m\u001b[0mmagic\u001b[0m\u001b[0;34m(\u001b[0m\u001b[0;34m\"config InlineBackend.figure_format = 'retina'\"\u001b[0m\u001b[0;34m)\u001b[0m\u001b[0;34m\u001b[0m\u001b[0;34m\u001b[0m\u001b[0m\n\u001b[1;32m      2\u001b[0m \u001b[0;34m\u001b[0m\u001b[0m\n\u001b[0;32m----> 3\u001b[0;31m \u001b[0mfig\u001b[0m\u001b[0;34m,\u001b[0m \u001b[0max\u001b[0m \u001b[0;34m=\u001b[0m \u001b[0mplt\u001b[0m\u001b[0;34m.\u001b[0m\u001b[0msubplots\u001b[0m\u001b[0;34m(\u001b[0m\u001b[0mfigsize\u001b[0m\u001b[0;34m=\u001b[0m\u001b[0;34m(\u001b[0m\u001b[0;36m8\u001b[0m\u001b[0;34m,\u001b[0m\u001b[0;36m5\u001b[0m\u001b[0;34m)\u001b[0m\u001b[0;34m)\u001b[0m\u001b[0;34m\u001b[0m\u001b[0;34m\u001b[0m\u001b[0m\n\u001b[0m\u001b[1;32m      4\u001b[0m \u001b[0mplt\u001b[0m\u001b[0;34m.\u001b[0m\u001b[0mplot\u001b[0m\u001b[0;34m(\u001b[0m\u001b[0mhistory\u001b[0m\u001b[0;34m.\u001b[0m\u001b[0mhistory\u001b[0m\u001b[0;34m[\u001b[0m\u001b[0;34m'loss'\u001b[0m\u001b[0;34m]\u001b[0m\u001b[0;34m)\u001b[0m\u001b[0;34m\u001b[0m\u001b[0;34m\u001b[0m\u001b[0m\n\u001b[1;32m      5\u001b[0m \u001b[0mplt\u001b[0m\u001b[0;34m.\u001b[0m\u001b[0mplot\u001b[0m\u001b[0;34m(\u001b[0m\u001b[0mhistory\u001b[0m\u001b[0;34m.\u001b[0m\u001b[0mhistory\u001b[0m\u001b[0;34m[\u001b[0m\u001b[0;34m'val_loss'\u001b[0m\u001b[0;34m]\u001b[0m\u001b[0;34m)\u001b[0m\u001b[0;34m\u001b[0m\u001b[0;34m\u001b[0m\u001b[0m\n",
            "\u001b[0;31mNameError\u001b[0m: name 'plt' is not defined"
          ]
        }
      ]
    },
    {
      "cell_type": "markdown",
      "source": [
        "# Metrics and Visualization"
      ],
      "metadata": {
        "id": "9RYIYA_ndK0Q"
      }
    },
    {
      "cell_type": "markdown",
      "source": [
        "**Compare truth vs prediction**"
      ],
      "metadata": {
        "id": "A7UYV6LodX0r"
      }
    },
    {
      "cell_type": "code",
      "source": [
        "# Flattens multichannel array\n",
        "def flatten_array(input_array):\n",
        "  len_array = input_array.shape[-1]\n",
        "  levels_array = []\n",
        "  for i in range(0, len_array):\n",
        "    level = input_array[:, :, i]*((i+1)/len_array)\n",
        "    levels_array.append(level)\n",
        "  \n",
        "  levels_array = np.array(levels_array)\n",
        "  levels_array = np.moveaxis(levels_array, 0, -1)\n",
        "\n",
        "  return np.amax(levels_array, axis=2)"
      ],
      "metadata": {
        "id": "NRNf1kqpdrz0"
      },
      "execution_count": null,
      "outputs": []
    },
    {
      "cell_type": "code",
      "source": [
        "# Load average flights array\n",
        "flights_average = np.load(f'dataset/00_results/flights_average_365.npy')\n",
        "flights_average.shape"
      ],
      "metadata": {
        "colab": {
          "base_uri": "https://localhost:8080/"
        },
        "id": "vE4u87gVuGNV",
        "outputId": "ac72f05c-43f7-42c4-a215-fc050ec8326b"
      },
      "execution_count": null,
      "outputs": [
        {
          "output_type": "execute_result",
          "data": {
            "text/plain": [
              "(1, 100, 100, 20)"
            ]
          },
          "metadata": {},
          "execution_count": 17
        }
      ]
    },
    {
      "cell_type": "code",
      "source": [
        "# Select a random example from the validation dataset.\n",
        "hour = 0\n",
        "file = 'dataset/00_results/daily_masked/20190324.npy'\n",
        "example = np.load(file)\n",
        "mexample = np.load(file.replace('masked', 'metadata'))\n",
        "\n",
        "# Pick the first/last ten frames from the example.\n",
        "frames = example[:10, ...]\n",
        "mframes = mexample[:10, ...]\n",
        "original_frames = example[10:, ...]\n",
        "\n",
        "new_prediction = model.predict([np.expand_dims(frames, axis=0), np.expand_dims(mframes, axis=0)])\n",
        "new_prediction = np.squeeze(new_prediction, axis=0)\n",
        "predicted_frame = np.expand_dims(new_prediction[-1, ...], axis=0)\n",
        "predicted_frame = np.where(predicted_frame > 0, 1, 0)\n",
        "\n",
        "fig = plt.figure(figsize=(10, 10))\n",
        "\n",
        "ax1 = fig.add_subplot(131)\n",
        "ax1.imshow(flatten_array(original_frames[hour]), origin='lower', cmap = plt.get_cmap('plasma')) #, vmin=0, vmax=max_plot_value)\n",
        "\n",
        "ax2 = fig.add_subplot(132)\n",
        "ax2.imshow(flatten_array(predicted_frame[0]), origin='lower', cmap = plt.get_cmap('plasma')) #, vmin=0, vmax=max_plot_value)\n",
        "\n",
        "original_level_count = []\n",
        "for i in range(0, 20):\n",
        "  original_level_count.append(np.count_nonzero(original_frames[hour][:,:,i]))\n",
        "\n",
        "predicted_level_count = []\n",
        "for i in range(0, 20):\n",
        "  predicted_level_count.append(np.count_nonzero(predicted_frame[0][:,:,i]))\n",
        "\n",
        "average_level_count = []\n",
        "for i in range(0, 20):\n",
        "  average_level_count.append(np.count_nonzero(flights_average[0,:,:,i]))\n",
        "\n",
        "ax3 = fig.add_subplot(133)\n",
        "ax3.plot(original_level_count, np.linspace(0, 19, 20), 'b*-')\n",
        "ax3.plot(predicted_level_count, np.linspace(0, 19, 20), 'r*-')\n",
        "ax3.plot(average_level_count, np.linspace(0, 19, 20), 'g*-')\n",
        "\n",
        "asp = np.diff(ax3.get_xlim())[0] / np.diff(ax3.get_ylim())[0]\n",
        "ax3.set_aspect(asp)\n",
        "\n",
        "# print(f'SARMSE Null Prediction: {SARMSE(original_frames[0], np.zeros((100,100,20)))}')\n",
        "print(f'SARMSE ConvLSTM Prediction: {SARMSE(original_frames[hour], predicted_frame[0])}')\n",
        "print(f'SARMSE Average Prediction: {SARMSE(original_frames[hour], flights_average)}')\n",
        "print(f'Original Max: {np.max(flatten_array(original_frames[hour]))}')\n",
        "print(f'Predicted Max: {np.max(flatten_array(predicted_frame[0]))}')"
      ],
      "metadata": {
        "colab": {
          "base_uri": "https://localhost:8080/",
          "height": 339
        },
        "id": "XQhsQMl7n52T",
        "outputId": "a04a093e-fa93-4558-b581-cca9197ada8a"
      },
      "execution_count": null,
      "outputs": [
        {
          "output_type": "stream",
          "name": "stderr",
          "text": [
            "/usr/local/lib/python3.7/dist-packages/tensorflow/python/data/ops/structured_function.py:265: UserWarning: Even though the `tf.config.experimental_run_functions_eagerly` option is set, this option does not apply to tf.data functions. To force eager execution of tf.data functions, please use `tf.data.experimental.enable_debug_mode()`.\n",
            "  \"Even though the `tf.config.experimental_run_functions_eagerly` \"\n"
          ]
        },
        {
          "output_type": "stream",
          "name": "stdout",
          "text": [
            "SARMSE ConvLSTM Prediction: 0.046258923275084386\n",
            "SARMSE Average Prediction: 0.6078496953006305\n",
            "Original Max: 0.65\n",
            "Predicted Max: 0.55\n"
          ]
        },
        {
          "output_type": "display_data",
          "data": {
            "text/plain": [
              "<Figure size 720x720 with 3 Axes>"
            ],
            "image/png": "[encoded data removed]"
          },
          "metadata": {
            "image/png": {
              "width": 592,
              "height": 195
            },
            "needs_background": "light"
          }
        }
      ]
    },
    {
      "cell_type": "code",
      "source": [
        ""
      ],
      "metadata": {
        "id": "3_AADfTXvIRM"
      },
      "execution_count": null,
      "outputs": []
    }
  ]
}