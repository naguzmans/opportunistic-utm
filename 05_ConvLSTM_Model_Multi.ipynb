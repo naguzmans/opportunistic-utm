{
  "nbformat": 4,
  "nbformat_minor": 0,
  "metadata": {
    "colab": {
      "name": "05_ConvLSTM_Model_Multi.ipynb",
      "provenance": [],
      "collapsed_sections": [],
      "machine_shape": "hm",
      "authorship_tag": "ABX9TyNCHdsL6XZlxLdG+il19Cv5",
      "include_colab_link": true
    },
    "kernelspec": {
      "name": "python3",
      "display_name": "Python 3"
    },
    "language_info": {
      "name": "python"
    },
    "accelerator": "GPU",
    "gpuClass": "standard"
  },
  "cells": [
    {
      "cell_type": "markdown",
      "metadata": {
        "id": "view-in-github",
        "colab_type": "text"
      },
      "source": [
        "<a href=\"https://colab.research.google.com/github/naguzmans/opportunistic-atm/blob/master/05_ConvLSTM_Model_Multi.ipynb\" target=\"_parent\"><img src=\"https://colab.research.google.com/assets/colab-badge.svg\" alt=\"Open In Colab\"/></a>"
      ]
    },
    {
      "cell_type": "markdown",
      "source": [
        "# Mount Drive"
      ],
      "metadata": {
        "id": "A-eXfDSKXdnC"
      }
    },
    {
      "cell_type": "code",
      "execution_count": 1,
      "metadata": {
        "colab": {
          "base_uri": "https://localhost:8080/"
        },
        "id": "Zcmvby6oW54H",
        "outputId": "2af0c455-47c9-4398-d16d-3ccc3d98c78d"
      },
      "outputs": [
        {
          "output_type": "stream",
          "name": "stdout",
          "text": [
            "Mounted at /content/drive\n",
            "/content/drive/MyDrive/opportunistic-utm\n"
          ]
        }
      ],
      "source": [
        "from google.colab import drive\n",
        "drive.mount('/content/drive')\n",
        "%cd /content/drive/MyDrive/opportunistic-utm"
      ]
    },
    {
      "cell_type": "markdown",
      "source": [
        "# Check GPU"
      ],
      "metadata": {
        "id": "Tqh_oZgxs6J9"
      }
    },
    {
      "cell_type": "code",
      "source": [
        "!nvidia-smi -L  "
      ],
      "metadata": {
        "colab": {
          "base_uri": "https://localhost:8080/"
        },
        "id": "-bhfUvZ0xzij",
        "outputId": "63c40988-6201-4b83-a3ae-afe4ff40fe5c"
      },
      "execution_count": 2,
      "outputs": [
        {
          "output_type": "stream",
          "name": "stdout",
          "text": [
            "GPU 0: Tesla T4 (UUID: GPU-662c0915-04fe-199f-b33a-f2dc69d646c8)\n"
          ]
        }
      ]
    },
    {
      "cell_type": "code",
      "source": [
        "!nvidia-smi"
      ],
      "metadata": {
        "colab": {
          "base_uri": "https://localhost:8080/"
        },
        "id": "6yjWNDv_qioA",
        "outputId": "e9e91713-0a1c-4e03-f612-d0b153d60b6d"
      },
      "execution_count": 3,
      "outputs": [
        {
          "output_type": "stream",
          "name": "stdout",
          "text": [
            "Wed Jul 20 17:19:47 2022       \n",
            "+-----------------------------------------------------------------------------+\n",
            "| NVIDIA-SMI 460.32.03    Driver Version: 460.32.03    CUDA Version: 11.2     |\n",
            "|-------------------------------+----------------------+----------------------+\n",
            "| GPU  Name        Persistence-M| Bus-Id        Disp.A | Volatile Uncorr. ECC |\n",
            "| Fan  Temp  Perf  Pwr:Usage/Cap|         Memory-Usage | GPU-Util  Compute M. |\n",
            "|                               |                      |               MIG M. |\n",
            "|===============================+======================+======================|\n",
            "|   0  Tesla T4            Off  | 00000000:00:04.0 Off |                    0 |\n",
            "| N/A   47C    P8     9W /  70W |      0MiB / 15109MiB |      0%      Default |\n",
            "|                               |                      |                  N/A |\n",
            "+-------------------------------+----------------------+----------------------+\n",
            "                                                                               \n",
            "+-----------------------------------------------------------------------------+\n",
            "| Processes:                                                                  |\n",
            "|  GPU   GI   CI        PID   Type   Process name                  GPU Memory |\n",
            "|        ID   ID                                                   Usage      |\n",
            "|=============================================================================|\n",
            "|  No running processes found                                                 |\n",
            "+-----------------------------------------------------------------------------+\n"
          ]
        }
      ]
    },
    {
      "cell_type": "markdown",
      "source": [
        "# Define SARMSE Metric"
      ],
      "metadata": {
        "id": "lUo31bu5Y6L0"
      }
    },
    {
      "cell_type": "code",
      "source": [
        "# Spatially Averaged Root Mean Square\n",
        "def SARMSE(original, predicted):\n",
        "  layer_rmse = np.sqrt(np.sum(np.square(original-predicted)/100**2, axis=(0,1)))\n",
        "  return np.sum(layer_rmse)/original.shape[-1] # divided by # of channels"
      ],
      "metadata": {
        "id": "1-3hwXuZY5sX"
      },
      "execution_count": 4,
      "outputs": []
    },
    {
      "cell_type": "markdown",
      "source": [
        "# ConvLSTM Model"
      ],
      "metadata": {
        "id": "gl91PExwcdOm"
      }
    },
    {
      "cell_type": "markdown",
      "source": [
        "**Dependencies**"
      ],
      "metadata": {
        "id": "DMkkuxQ9ciVh"
      }
    },
    {
      "cell_type": "code",
      "source": [
        "import numpy as np\n",
        "import matplotlib.pyplot as plt\n",
        "import tensorflow as tf\n",
        "from tensorflow import keras\n",
        "from tensorflow.keras import layers\n",
        "from tensorflow.keras.layers import Flatten, GRU, Dropout, TimeDistributed, MaxPooling3D"
      ],
      "metadata": {
        "id": "m3pH5akCceho"
      },
      "execution_count": 5,
      "outputs": []
    },
    {
      "cell_type": "markdown",
      "source": [
        "**Custom Keras Loss Function**"
      ],
      "metadata": {
        "id": "3ThbeX8XcnCm"
      }
    },
    {
      "cell_type": "code",
      "source": [
        "from keras import backend as K\n",
        "\n",
        "def custom_sarmse(y_true, y_pred):\n",
        "  # print(f'True shape: {y_true.shape}')\n",
        "  # print(f'Pred shape: {y_pred.shape}')\n",
        "  a = K.square(y_true - y_pred + 1e-10)\n",
        "  b = K.sum(a, [2,3], keepdims=True)\n",
        "  c = K.sqrt(b)\n",
        "  d = K.sum(c)/(100*20)\n",
        "  return d"
      ],
      "metadata": {
        "id": "STRThcwAcpdA"
      },
      "execution_count": 6,
      "outputs": []
    },
    {
      "cell_type": "markdown",
      "source": [
        "**Model**"
      ],
      "metadata": {
        "id": "oLZMZemMcxpo"
      }
    },
    {
      "cell_type": "code",
      "source": [
        "inp = layers.Input(shape=(None, 100, 100, 20))\n",
        "minp = layers.Input(shape=(None, 25))\n",
        "\n",
        "def repeat_tabular(x_tab):\n",
        "  h = x_tab[:, :, :, None, None]\n",
        "  h = tf.tile(h, [1, 1, 4, 100, 1]) \n",
        "  return h\n",
        "  \n",
        "a = layers.ConvLSTM2D(\n",
        "    filters=32,\n",
        "    kernel_size=(3, 3),\n",
        "    dilation_rate=(1, 1),\n",
        "    padding=\"same\",\n",
        "    return_sequences=True,\n",
        "    activation=\"relu\",\n",
        "    data_format='channels_last'\n",
        ")(inp)\n",
        "\n",
        "b = layers.ConvLSTM2D(\n",
        "    filters=16,\n",
        "    kernel_size=(5, 5),\n",
        "    dilation_rate=(1, 1),\n",
        "    padding=\"same\",\n",
        "    return_sequences=True,\n",
        "    activation=\"relu\",\n",
        "    data_format='channels_last'\n",
        ")(inp)\n",
        "\n",
        "c = layers.ConvLSTM2D(\n",
        "    filters=16,\n",
        "    kernel_size=(1, 1),\n",
        "    dilation_rate=(1, 1),\n",
        "    padding=\"same\",\n",
        "    return_sequences=True,\n",
        "    activation=\"relu\",\n",
        "    data_format='channels_last'\n",
        ")(inp)\n",
        "\n",
        "y = tf.keras.layers.LSTM(64, return_sequences=True)(minp)\n",
        "y = layers.Lambda(repeat_tabular)(minp)\n",
        "\n",
        "x = tf.keras.layers.Concatenate()([a, b, c, y])\n",
        "x = TimeDistributed(layers.BatchNormalization())(x)\n",
        "# x = TimeDistributed(layers.Dropout(0.1))(x)\n",
        "\n",
        "x = layers.ConvLSTM2D(\n",
        "    filters=20,\n",
        "    kernel_size=(3, 3),\n",
        "    padding=\"same\",\n",
        "    return_sequences=True,\n",
        "    activation=\"sigmoid\",\n",
        "    data_format='channels_last'\n",
        ")(x)\n",
        "\n",
        "model = keras.models.Model(inputs = [inp, minp], outputs = x)\n",
        "model.compile(\n",
        "    loss=custom_sarmse, optimizer=keras.optimizers.Adam(), run_eagerly=False,\n",
        ")\n",
        "\n",
        "model.summary()"
      ],
      "metadata": {
        "colab": {
          "base_uri": "https://localhost:8080/"
        },
        "id": "PWAtxV2M9QFt",
        "outputId": "fa9c4051-2e8c-4e51-8efe-93af9700680b"
      },
      "execution_count": 7,
      "outputs": [
        {
          "output_type": "stream",
          "name": "stdout",
          "text": [
            "Model: \"model\"\n",
            "__________________________________________________________________________________________________\n",
            " Layer (type)                   Output Shape         Param #     Connected to                     \n",
            "==================================================================================================\n",
            " input_1 (InputLayer)           [(None, None, 100,   0           []                               \n",
            "                                100, 20)]                                                         \n",
            "                                                                                                  \n",
            " input_2 (InputLayer)           [(None, None, 25)]   0           []                               \n",
            "                                                                                                  \n",
            " conv_lstm2d (ConvLSTM2D)       (None, None, 100, 1  60032       ['input_1[0][0]']                \n",
            "                                00, 32)                                                           \n",
            "                                                                                                  \n",
            " conv_lstm2d_1 (ConvLSTM2D)     (None, None, 100, 1  57664       ['input_1[0][0]']                \n",
            "                                00, 16)                                                           \n",
            "                                                                                                  \n",
            " conv_lstm2d_2 (ConvLSTM2D)     (None, None, 100, 1  2368        ['input_1[0][0]']                \n",
            "                                00, 16)                                                           \n",
            "                                                                                                  \n",
            " lambda (Lambda)                (None, None, 100, 1  0           ['input_2[0][0]']                \n",
            "                                00, 1)                                                            \n",
            "                                                                                                  \n",
            " concatenate (Concatenate)      (None, None, 100, 1  0           ['conv_lstm2d[0][0]',            \n",
            "                                00, 65)                           'conv_lstm2d_1[0][0]',          \n",
            "                                                                  'conv_lstm2d_2[0][0]',          \n",
            "                                                                  'lambda[0][0]']                 \n",
            "                                                                                                  \n",
            " time_distributed (TimeDistribu  (None, None, 100, 1  260        ['concatenate[0][0]']            \n",
            " ted)                           00, 65)                                                           \n",
            "                                                                                                  \n",
            " conv_lstm2d_3 (ConvLSTM2D)     (None, None, 100, 1  61280       ['time_distributed[0][0]']       \n",
            "                                00, 20)                                                           \n",
            "                                                                                                  \n",
            "==================================================================================================\n",
            "Total params: 181,604\n",
            "Trainable params: 181,474\n",
            "Non-trainable params: 130\n",
            "__________________________________________________________________________________________________\n"
          ]
        }
      ]
    },
    {
      "cell_type": "markdown",
      "source": [
        "**Train model**"
      ],
      "metadata": {
        "id": "ZqCCmeGydE_0"
      }
    },
    {
      "cell_type": "code",
      "source": [
        "import glob\n",
        "\n",
        "# List of folders with data\n",
        "files_list = []\n",
        "for filename in glob.iglob(f'dataset/00_results/daily_masked/*.npy', recursive=False):\n",
        "  files_list.append(filename)\n",
        "\n",
        "files_list = np.sort(files_list).tolist()\n",
        "print(f'Number of Files: {len(files_list)}')"
      ],
      "metadata": {
        "colab": {
          "base_uri": "https://localhost:8080/"
        },
        "id": "lQ0JNGz-xSdG",
        "outputId": "fcb722d4-99a2-4ae0-a1b2-da23265e3b5c"
      },
      "execution_count": 8,
      "outputs": [
        {
          "output_type": "stream",
          "name": "stdout",
          "text": [
            "Number of Files: 365\n"
          ]
        }
      ]
    },
    {
      "cell_type": "code",
      "source": [
        "from tensorflow.keras.utils import Sequence\n",
        "import numpy as np   \n",
        "tf.config.run_functions_eagerly(True)\n",
        "\n",
        "def shift_array(data, metadata, shift=1):\n",
        "  xdata = data[:, 0 : data.shape[1] - shift, :, :]\n",
        "  xmetadata = metadata[:, 0 : metadata.shape[1] - shift, :]\n",
        "\n",
        "  ydata = data[:, shift : data.shape[1], :, :]\n",
        "  ymetadata = metadata[:, shift : metadata.shape[1], :]\n",
        "\n",
        "  return [xdata, xmetadata], [ydata, ymetadata]\n",
        "\n",
        "class DataGenerator(Sequence):\n",
        "  def __init__(self, files_list, batch_size):\n",
        "    self.files_list = files_list\n",
        "    self.batch_size = batch_size\n",
        "\n",
        "  def __len__(self):\n",
        "    return int(np.ceil(len(self.files_list) / float(self.batch_size)))\n",
        "\n",
        "  def __getitem__(self, idx):\n",
        "    batch_list = self.files_list[idx * self.batch_size:(idx + 1) * self.batch_size]\n",
        "    data_array = np.empty((1,24,100,100,20))\n",
        "    metadata_array = np.empty((1,24,25))\n",
        "\n",
        "    for file in batch_list:\n",
        "      data_file = np.load(file)\n",
        "      data_array = np.concatenate((data_array, np.expand_dims(data_file, axis=0)), axis=0)\n",
        "\n",
        "      metadata_file = np.load(file.replace('masked', 'metadata'))\n",
        "      metadata_array = np.concatenate((metadata_array, np.expand_dims(metadata_file, axis=0)), axis=0)\n",
        "\n",
        "    return shift_array(data_array[1:], metadata_array[1:])\n",
        "\n",
        "train_gen = DataGenerator(files_list[0:300], 4)\n",
        "val_gen = DataGenerator(files_list[300:330], 4)"
      ],
      "metadata": {
        "id": "djeeRjk5fzYn"
      },
      "execution_count": 9,
      "outputs": []
    },
    {
      "cell_type": "code",
      "source": [
        "# Define some callbacks to improve training.\n",
        "early_stopping = keras.callbacks.EarlyStopping(monitor=\"val_loss\", patience=5)\n",
        "reduce_lr = keras.callbacks.ReduceLROnPlateau(monitor=\"val_loss\", patience=5)\n",
        "\n",
        "# Fit the model to the training data.\n",
        "history = model.fit(\n",
        "    train_gen,\n",
        "    epochs=15,\n",
        "    validation_data=val_gen,\n",
        "    callbacks=[early_stopping, reduce_lr]\n",
        ")"
      ],
      "metadata": {
        "id": "AsI12L609d1y",
        "colab": {
          "base_uri": "https://localhost:8080/"
        },
        "outputId": "828bb482-619e-4ae4-b400-7e5f7fcedeb4"
      },
      "execution_count": 10,
      "outputs": [
        {
          "output_type": "stream",
          "name": "stderr",
          "text": [
            "/usr/local/lib/python3.7/dist-packages/tensorflow/python/data/ops/structured_function.py:265: UserWarning: Even though the `tf.config.experimental_run_functions_eagerly` option is set, this option does not apply to tf.data functions. To force eager execution of tf.data functions, please use `tf.data.experimental.enable_debug_mode()`.\n",
            "  \"Even though the `tf.config.experimental_run_functions_eagerly` \"\n"
          ]
        },
        {
          "output_type": "stream",
          "name": "stdout",
          "text": [
            "Epoch 1/15\n",
            "75/75 [==============================] - 350s 4s/step - loss: 12.8163 - val_loss: 3.1890 - lr: 0.0010\n",
            "Epoch 2/15\n",
            "75/75 [==============================] - 99s 1s/step - loss: 2.0829 - val_loss: 2.1222 - lr: 0.0010\n",
            "Epoch 3/15\n",
            "75/75 [==============================] - 98s 1s/step - loss: 1.7497 - val_loss: 2.1000 - lr: 0.0010\n",
            "Epoch 4/15\n",
            "75/75 [==============================] - 98s 1s/step - loss: 1.7127 - val_loss: 2.0682 - lr: 0.0010\n",
            "Epoch 5/15\n",
            "75/75 [==============================] - 98s 1s/step - loss: 1.6978 - val_loss: 2.0078 - lr: 0.0010\n",
            "Epoch 6/15\n",
            "75/75 [==============================] - 98s 1s/step - loss: 1.6889 - val_loss: 1.9294 - lr: 0.0010\n",
            "Epoch 7/15\n",
            "75/75 [==============================] - 98s 1s/step - loss: 1.6808 - val_loss: 1.8017 - lr: 0.0010\n",
            "Epoch 8/15\n",
            "75/75 [==============================] - 98s 1s/step - loss: 1.6712 - val_loss: 1.6843 - lr: 0.0010\n",
            "Epoch 9/15\n",
            "75/75 [==============================] - 98s 1s/step - loss: 1.6648 - val_loss: 1.6290 - lr: 0.0010\n",
            "Epoch 10/15\n",
            "75/75 [==============================] - 98s 1s/step - loss: 1.6608 - val_loss: 1.5675 - lr: 0.0010\n",
            "Epoch 11/15\n",
            "75/75 [==============================] - 98s 1s/step - loss: 1.6565 - val_loss: 1.5733 - lr: 0.0010\n",
            "Epoch 12/15\n",
            "75/75 [==============================] - 98s 1s/step - loss: 1.6518 - val_loss: 1.5498 - lr: 0.0010\n",
            "Epoch 13/15\n",
            "75/75 [==============================] - 98s 1s/step - loss: 1.6471 - val_loss: 1.5496 - lr: 0.0010\n",
            "Epoch 14/15\n",
            "75/75 [==============================] - 98s 1s/step - loss: 1.6453 - val_loss: 1.5614 - lr: 0.0010\n",
            "Epoch 15/15\n",
            "75/75 [==============================] - 99s 1s/step - loss: 1.6417 - val_loss: 1.5600 - lr: 0.0010\n"
          ]
        }
      ]
    },
    {
      "cell_type": "code",
      "source": [
        "%config InlineBackend.figure_format = 'retina'\n",
        "\n",
        "fig, ax = plt.subplots(figsize=(8,5))\n",
        "plt.plot(history.history['loss'])\n",
        "plt.plot(history.history['val_loss'])\n",
        "plt.title('', fontweight='bold')\n",
        "plt.ylabel('Loss', fontsize=12)\n",
        "plt.xlabel('Epoch',fontsize=12)\n",
        "plt.legend(['Training', 'Validation'], loc='upper right')\n",
        "plt.axis('on')\n",
        "plt.grid('on', alpha=.2)\n",
        "plt.show()"
      ],
      "metadata": {
        "colab": {
          "base_uri": "https://localhost:8080/",
          "height": 335
        },
        "id": "lHvniMA84FHM",
        "outputId": "001a88c0-7e32-4de1-fd90-b89a37d85ea9"
      },
      "execution_count": 11,
      "outputs": [
        {
          "output_type": "display_data",
          "data": {
            "text/plain": [
              "<Figure size 576x360 with 1 Axes>"
            ],
            "image/png": "[encoded data removed]"
          },
          "metadata": {
            "image/png": {
              "width": 496,
              "height": 318
            },
            "needs_background": "light"
          }
        }
      ]
    },
    {
      "cell_type": "markdown",
      "source": [
        "# Metrics and Visualization"
      ],
      "metadata": {
        "id": "9RYIYA_ndK0Q"
      }
    },
    {
      "cell_type": "markdown",
      "source": [
        "**Compare truth vs prediction**"
      ],
      "metadata": {
        "id": "A7UYV6LodX0r"
      }
    },
    {
      "cell_type": "code",
      "source": [
        "# Flattens multichannel array\n",
        "def flatten_array(input_array):\n",
        "  len_array = input_array.shape[-1]\n",
        "  levels_array = []\n",
        "  for i in range(0, len_array):\n",
        "    level = input_array[:, :, i]*((i+1)/len_array)\n",
        "    levels_array.append(level)\n",
        "  \n",
        "  levels_array = np.array(levels_array)\n",
        "  levels_array = np.moveaxis(levels_array, 0, -1)\n",
        "\n",
        "  return np.amax(levels_array, axis=2)"
      ],
      "metadata": {
        "id": "NRNf1kqpdrz0"
      },
      "execution_count": 12,
      "outputs": []
    },
    {
      "cell_type": "code",
      "source": [
        "# Load average flights array\n",
        "flights_average = np.load(f'dataset/00_results/flights_average_365.npy')[0]\n",
        "flights_average.shape"
      ],
      "metadata": {
        "colab": {
          "base_uri": "https://localhost:8080/"
        },
        "id": "vE4u87gVuGNV",
        "outputId": "30e40f56-1ae3-4b94-8107-41fa073d64ab"
      },
      "execution_count": 17,
      "outputs": [
        {
          "output_type": "execute_result",
          "data": {
            "text/plain": [
              "(100, 100, 20)"
            ]
          },
          "metadata": {},
          "execution_count": 17
        }
      ]
    },
    {
      "cell_type": "code",
      "source": [
        "# Select a random example from the validation dataset.\n",
        "hour = 0\n",
        "file = 'dataset/00_results/daily_masked/20190628.npy'\n",
        "example = np.load(file)\n",
        "mexample = np.load(file.replace('masked', 'metadata'))\n",
        "\n",
        "# Pick the first/last ten frames from the example.\n",
        "frames = example[:10, ...]\n",
        "mframes = mexample[:10, ...]\n",
        "original_frames = example[10:, ...]\n",
        "\n",
        "new_prediction = model.predict([np.expand_dims(frames, axis=0), np.expand_dims(mframes, axis=0)])\n",
        "new_prediction = np.squeeze(new_prediction, axis=0)\n",
        "predicted_frame = np.expand_dims(new_prediction[-1, ...], axis=0)\n",
        "predicted_frame = np.where(predicted_frame > 0, 1, 0)\n",
        "\n",
        "fig = plt.figure(figsize=(10, 10))\n",
        "\n",
        "ax1 = fig.add_subplot(131)\n",
        "ax1.imshow(flatten_array(original_frames[hour]), origin='lower', cmap = plt.get_cmap('plasma')) #, vmin=0, vmax=max_plot_value)\n",
        "\n",
        "ax2 = fig.add_subplot(132)\n",
        "ax2.imshow(flatten_array(predicted_frame[0]), origin='lower', cmap = plt.get_cmap('plasma')) #, vmin=0, vmax=max_plot_value)\n",
        "\n",
        "original_level_count = []\n",
        "for i in range(0, 20):\n",
        "  original_level_count.append(np.count_nonzero(original_frames[hour][:,:,i]))\n",
        "\n",
        "predicted_level_count = []\n",
        "for i in range(0, 20):\n",
        "  predicted_level_count.append(np.count_nonzero(predicted_frame[0][:,:,i]))\n",
        "\n",
        "average_level_count = []\n",
        "for i in range(0, 20):\n",
        "  average_level_count.append(np.count_nonzero(flights_average[:,:,i]))\n",
        "\n",
        "ax3 = fig.add_subplot(133)\n",
        "ax3.plot(original_level_count, np.linspace(0, 19, 20), 'b*-')\n",
        "ax3.plot(predicted_level_count, np.linspace(0, 19, 20), 'r*-')\n",
        "ax3.plot(average_level_count, np.linspace(0, 19, 20), 'g*-')\n",
        "\n",
        "asp = np.diff(ax3.get_xlim())[0] / np.diff(ax3.get_ylim())[0]\n",
        "ax3.set_aspect(asp)\n",
        "\n",
        "# print(f'SARMSE Null Prediction: {SARMSE(original_frames[0], np.zeros((100,100,20)))}')\n",
        "print(f'SARMSE ConvLSTM Prediction: {SARMSE(original_frames[hour], predicted_frame[0])}')\n",
        "print(f'SARMSE Average Prediction: {SARMSE(original_frames[hour], flights_average)}')\n",
        "print(f'Original Max: {np.max(flatten_array(original_frames[hour]))}')\n",
        "print(f'Predicted Max: {np.max(flatten_array(predicted_frame[0]))}')"
      ],
      "metadata": {
        "colab": {
          "base_uri": "https://localhost:8080/",
          "height": 339
        },
        "id": "XQhsQMl7n52T",
        "outputId": "093d099e-37c9-4f32-ca64-817f262e06da"
      },
      "execution_count": 23,
      "outputs": [
        {
          "output_type": "stream",
          "name": "stderr",
          "text": [
            "/usr/local/lib/python3.7/dist-packages/tensorflow/python/data/ops/structured_function.py:265: UserWarning: Even though the `tf.config.experimental_run_functions_eagerly` option is set, this option does not apply to tf.data functions. To force eager execution of tf.data functions, please use `tf.data.experimental.enable_debug_mode()`.\n",
            "  \"Even though the `tf.config.experimental_run_functions_eagerly` \"\n"
          ]
        },
        {
          "output_type": "stream",
          "name": "stdout",
          "text": [
            "SARMSE ConvLSTM Prediction: 0.0385929921333385\n",
            "SARMSE Average Prediction: 0.08287196823393887\n",
            "Original Max: 0.65\n",
            "Predicted Max: 0.45\n"
          ]
        },
        {
          "output_type": "display_data",
          "data": {
            "text/plain": [
              "<Figure size 720x720 with 3 Axes>"
            ],
            "image/png": "[encoded data removed]"
          },
          "metadata": {
            "image/png": {
              "width": 592,
              "height": 195
            },
            "needs_background": "light"
          }
        }
      ]
    }
  ]
}