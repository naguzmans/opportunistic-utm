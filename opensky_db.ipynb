{
  "nbformat": 4,
  "nbformat_minor": 0,
  "metadata": {
    "colab": {
      "name": "opensky_db.ipynb",
      "provenance": [],
      "collapsed_sections": [],
      "authorship_tag": "ABX9TyM7tZV2fIct5I7zHpjPhEAg",
      "include_colab_link": true
    },
    "kernelspec": {
      "name": "python3",
      "display_name": "Python 3"
    },
    "language_info": {
      "name": "python"
    }
  },
  "cells": [
    {
      "cell_type": "markdown",
      "metadata": {
        "id": "view-in-github",
        "colab_type": "text"
      },
      "source": [
        "<a href=\"https://colab.research.google.com/github/naguzmans/opportunistic-atm/blob/main/opensky_db.ipynb\" target=\"_parent\"><img src=\"https://colab.research.google.com/assets/colab-badge.svg\" alt=\"Open In Colab\"/></a>"
      ]
    },
    {
      "cell_type": "markdown",
      "source": [
        "Install PyOpenSky"
      ],
      "metadata": {
        "id": "BagwUQ_37He4"
      }
    },
    {
      "cell_type": "code",
      "execution_count": null,
      "metadata": {
        "id": "PWGdwK3e6-ot"
      },
      "outputs": [],
      "source": [
        "!pip install pyopensky --upgrade\n",
        "!pip install haversine\n",
        "!mv secret.conf /root/.config/pyopensky/"
      ]
    },
    {
      "cell_type": "markdown",
      "source": [
        "Perform Query"
      ],
      "metadata": {
        "id": "l9c7RwO67KL5"
      }
    },
    {
      "cell_type": "code",
      "source": [
        "import pandas as pd\n",
        "import datetime\n",
        "from haversine import haversine, inverse_haversine, Unit\n",
        "import numpy as np\n",
        "from pyopensky import OpenskyImpalaWrapper\n",
        "\n",
        "# Time of query\n",
        "def to_epoch(timestamp):\n",
        "  unix_epoch = datetime.datetime(1970, 1, 1)\n",
        "  log_dt = datetime.datetime.strptime(timestamp, '%Y-%m-%d %H:%M:%S')\n",
        "  seconds_from_epoch = (log_dt - unix_epoch).total_seconds()\n",
        "  return seconds_from_epoch\n",
        "\n",
        "from_time_str = '2022-04-22 13:00:00'\n",
        "to_time_str = '2022-04-22 14:00:00'\n",
        "from_time = to_epoch(from_time_str)\n",
        "to_time = to_epoch(to_time_str)\n",
        "\n",
        "# Area of query\n",
        "airport = (51.871496514, -0.367665196) # Luton\n",
        "diag_distance = 10\n",
        "min_coord = inverse_haversine(airport, diag_distance, np.pi * 1.25)\n",
        "max_coord = inverse_haversine(airport, diag_distance, np.pi * .25)\n",
        "min_lat, max_lat, min_lon, max_lon = (min_coord[0], max_coord[0], min_coord[1], max_coord[1])\n",
        "\n",
        "# Height of query\n",
        "min_height, max_height = (0, 2000)\n",
        "\n",
        "# OpenSky wrapper\n",
        "opensky = OpenskyImpalaWrapper()\n",
        "os_query = opensky.rawquery(\n",
        "    f'SELECT * FROM state_vectors_data4 \\\n",
        "    WHERE lat >= {min_lat} AND lat <= {max_lat} \\\n",
        "    AND lon >= {min_lon} AND lon <= {max_lon} \\\n",
        "    AND hour >= {from_time} AND hour <= {to_time} \\\n",
        "    AND geoaltitude >= {min_height} AND geoaltitude <= {max_height};'\n",
        ")\n",
        "\n",
        "unique_callsigns = pd.unique(os_query['callsign'])\n",
        "print(f'Query length: {len(unique_callsigns)}')"
      ],
      "metadata": {
        "colab": {
          "base_uri": "https://localhost:8080/"
        },
        "id": "V1EnlFTF7CBB",
        "outputId": "6f8754a9-cfdc-4105-ab81-f43ea652c67c"
      },
      "execution_count": 11,
      "outputs": [
        {
          "output_type": "stream",
          "name": "stdout",
          "text": [
            "* Server connection successful!\n",
            "* Fetching records...\n",
            "Sending query request: [SELECT * FROM state_vectors_data4     WHERE lat >= 51.80786007740522 AND lat <= 51.93504302967222     AND lon >= -0.47051413811321224 AND lon <= -0.2645249782580956     AND hour >= 1650632400.0 AND hour <= 1650636000.0     AND geoaltitude >= 0 AND geoaltitude <= 2000;]\n",
            "Processing query result.\n",
            "* Records downloaded.\n",
            "Query length: 38\n"
          ]
        }
      ]
    },
    {
      "cell_type": "code",
      "source": [
        "os_query.head()"
      ],
      "metadata": {
        "colab": {
          "base_uri": "https://localhost:8080/",
          "height": 270
        },
        "id": "1ac4es2092rC",
        "outputId": "865d76e0-037d-404e-9c2e-0646b15067a7"
      },
      "execution_count": 14,
      "outputs": [
        {
          "output_type": "execute_result",
          "data": {
            "text/plain": [
              "            time  icao24        lat       lon   velocity     heading  \\\n",
              "2281  1650632401  4072e5  51.829971 -0.377766  45.866368  336.885792   \n",
              "880   1650632402  400d8c  51.874649 -0.368116  66.778715   74.357754   \n",
              "2282  1650632402  4072e5  51.831122 -0.378494  45.866368  336.885792   \n",
              "2283  1650632403  4072e5  51.831482 -0.378806  46.618960  337.963773   \n",
              "881   1650632403  400d8c  51.874649 -0.368116  66.778715   74.357754   \n",
              "\n",
              "      vertrate callsign  onground  alert    spi  squawk  baroaltitude  \\\n",
              "2281  -3.25120    GOLEA     False  False  False  4674.0        548.64   \n",
              "880    0.65024  EZY82MV     False  False  False     NaN        213.36   \n",
              "2282  -2.60096    GOLEA     False  False  False  4674.0        548.64   \n",
              "2283  -0.32512    GOLEA     False  False  False  4674.0        548.64   \n",
              "881    0.65024  EZY82MV     False  False  False     NaN        213.36   \n",
              "\n",
              "      geoaltitude  lastposupdate   lastcontact        hour  \n",
              "2281       525.78   1.650632e+09  1.650632e+09  1650632400  \n",
              "880        228.60   1.650632e+09  1.650632e+09  1650632400  \n",
              "2282       525.78   1.650632e+09  1.650632e+09  1650632400  \n",
              "2283       525.78   1.650632e+09  1.650632e+09  1650632400  \n",
              "881        228.60   1.650632e+09  1.650632e+09  1650632400  "
            ],
            "text/html": [
              "\n",
              "  <div id=\"df-7757ec1c-1d63-4980-ab18-1e07d86e134d\">\n",
              "    <div class=\"colab-df-container\">\n",
              "      <div>\n",
              "<style scoped>\n",
              "    .dataframe tbody tr th:only-of-type {\n",
              "        vertical-align: middle;\n",
              "    }\n",
              "\n",
              "    .dataframe tbody tr th {\n",
              "        vertical-align: top;\n",
              "    }\n",
              "\n",
              "    .dataframe thead th {\n",
              "        text-align: right;\n",
              "    }\n",
              "</style>\n",
              "<table border=\"1\" class=\"dataframe\">\n",
              "  <thead>\n",
              "    <tr style=\"text-align: right;\">\n",
              "      <th></th>\n",
              "      <th>time</th>\n",
              "      <th>icao24</th>\n",
              "      <th>lat</th>\n",
              "      <th>lon</th>\n",
              "      <th>velocity</th>\n",
              "      <th>heading</th>\n",
              "      <th>vertrate</th>\n",
              "      <th>callsign</th>\n",
              "      <th>onground</th>\n",
              "      <th>alert</th>\n",
              "      <th>spi</th>\n",
              "      <th>squawk</th>\n",
              "      <th>baroaltitude</th>\n",
              "      <th>geoaltitude</th>\n",
              "      <th>lastposupdate</th>\n",
              "      <th>lastcontact</th>\n",
              "      <th>hour</th>\n",
              "    </tr>\n",
              "  </thead>\n",
              "  <tbody>\n",
              "    <tr>\n",
              "      <th>2281</th>\n",
              "      <td>1650632401</td>\n",
              "      <td>4072e5</td>\n",
              "      <td>51.829971</td>\n",
              "      <td>-0.377766</td>\n",
              "      <td>45.866368</td>\n",
              "      <td>336.885792</td>\n",
              "      <td>-3.25120</td>\n",
              "      <td>GOLEA</td>\n",
              "      <td>False</td>\n",
              "      <td>False</td>\n",
              "      <td>False</td>\n",
              "      <td>4674.0</td>\n",
              "      <td>548.64</td>\n",
              "      <td>525.78</td>\n",
              "      <td>1.650632e+09</td>\n",
              "      <td>1.650632e+09</td>\n",
              "      <td>1650632400</td>\n",
              "    </tr>\n",
              "    <tr>\n",
              "      <th>880</th>\n",
              "      <td>1650632402</td>\n",
              "      <td>400d8c</td>\n",
              "      <td>51.874649</td>\n",
              "      <td>-0.368116</td>\n",
              "      <td>66.778715</td>\n",
              "      <td>74.357754</td>\n",
              "      <td>0.65024</td>\n",
              "      <td>EZY82MV</td>\n",
              "      <td>False</td>\n",
              "      <td>False</td>\n",
              "      <td>False</td>\n",
              "      <td>NaN</td>\n",
              "      <td>213.36</td>\n",
              "      <td>228.60</td>\n",
              "      <td>1.650632e+09</td>\n",
              "      <td>1.650632e+09</td>\n",
              "      <td>1650632400</td>\n",
              "    </tr>\n",
              "    <tr>\n",
              "      <th>2282</th>\n",
              "      <td>1650632402</td>\n",
              "      <td>4072e5</td>\n",
              "      <td>51.831122</td>\n",
              "      <td>-0.378494</td>\n",
              "      <td>45.866368</td>\n",
              "      <td>336.885792</td>\n",
              "      <td>-2.60096</td>\n",
              "      <td>GOLEA</td>\n",
              "      <td>False</td>\n",
              "      <td>False</td>\n",
              "      <td>False</td>\n",
              "      <td>4674.0</td>\n",
              "      <td>548.64</td>\n",
              "      <td>525.78</td>\n",
              "      <td>1.650632e+09</td>\n",
              "      <td>1.650632e+09</td>\n",
              "      <td>1650632400</td>\n",
              "    </tr>\n",
              "    <tr>\n",
              "      <th>2283</th>\n",
              "      <td>1650632403</td>\n",
              "      <td>4072e5</td>\n",
              "      <td>51.831482</td>\n",
              "      <td>-0.378806</td>\n",
              "      <td>46.618960</td>\n",
              "      <td>337.963773</td>\n",
              "      <td>-0.32512</td>\n",
              "      <td>GOLEA</td>\n",
              "      <td>False</td>\n",
              "      <td>False</td>\n",
              "      <td>False</td>\n",
              "      <td>4674.0</td>\n",
              "      <td>548.64</td>\n",
              "      <td>525.78</td>\n",
              "      <td>1.650632e+09</td>\n",
              "      <td>1.650632e+09</td>\n",
              "      <td>1650632400</td>\n",
              "    </tr>\n",
              "    <tr>\n",
              "      <th>881</th>\n",
              "      <td>1650632403</td>\n",
              "      <td>400d8c</td>\n",
              "      <td>51.874649</td>\n",
              "      <td>-0.368116</td>\n",
              "      <td>66.778715</td>\n",
              "      <td>74.357754</td>\n",
              "      <td>0.65024</td>\n",
              "      <td>EZY82MV</td>\n",
              "      <td>False</td>\n",
              "      <td>False</td>\n",
              "      <td>False</td>\n",
              "      <td>NaN</td>\n",
              "      <td>213.36</td>\n",
              "      <td>228.60</td>\n",
              "      <td>1.650632e+09</td>\n",
              "      <td>1.650632e+09</td>\n",
              "      <td>1650632400</td>\n",
              "    </tr>\n",
              "  </tbody>\n",
              "</table>\n",
              "</div>\n",
              "      <button class=\"colab-df-convert\" onclick=\"convertToInteractive('df-7757ec1c-1d63-4980-ab18-1e07d86e134d')\"\n",
              "              title=\"Convert this dataframe to an interactive table.\"\n",
              "              style=\"display:none;\">\n",
              "        \n",
              "  <svg xmlns=\"http://www.w3.org/2000/svg\" height=\"24px\"viewBox=\"0 0 24 24\"\n",
              "       width=\"24px\">\n",
              "    <path d=\"M0 0h24v24H0V0z\" fill=\"none\"/>\n",
              "    <path d=\"M18.56 5.44l.94 2.06.94-2.06 2.06-.94-2.06-.94-.94-2.06-.94 2.06-2.06.94zm-11 1L8.5 8.5l.94-2.06 2.06-.94-2.06-.94L8.5 2.5l-.94 2.06-2.06.94zm10 10l.94 2.06.94-2.06 2.06-.94-2.06-.94-.94-2.06-.94 2.06-2.06.94z\"/><path d=\"M17.41 7.96l-1.37-1.37c-.4-.4-.92-.59-1.43-.59-.52 0-1.04.2-1.43.59L10.3 9.45l-7.72 7.72c-.78.78-.78 2.05 0 2.83L4 21.41c.39.39.9.59 1.41.59.51 0 1.02-.2 1.41-.59l7.78-7.78 2.81-2.81c.8-.78.8-2.07 0-2.86zM5.41 20L4 18.59l7.72-7.72 1.47 1.35L5.41 20z\"/>\n",
              "  </svg>\n",
              "      </button>\n",
              "      \n",
              "  <style>\n",
              "    .colab-df-container {\n",
              "      display:flex;\n",
              "      flex-wrap:wrap;\n",
              "      gap: 12px;\n",
              "    }\n",
              "\n",
              "    .colab-df-convert {\n",
              "      background-color: #E8F0FE;\n",
              "      border: none;\n",
              "      border-radius: 50%;\n",
              "      cursor: pointer;\n",
              "      display: none;\n",
              "      fill: #1967D2;\n",
              "      height: 32px;\n",
              "      padding: 0 0 0 0;\n",
              "      width: 32px;\n",
              "    }\n",
              "\n",
              "    .colab-df-convert:hover {\n",
              "      background-color: #E2EBFA;\n",
              "      box-shadow: 0px 1px 2px rgba(60, 64, 67, 0.3), 0px 1px 3px 1px rgba(60, 64, 67, 0.15);\n",
              "      fill: #174EA6;\n",
              "    }\n",
              "\n",
              "    [theme=dark] .colab-df-convert {\n",
              "      background-color: #3B4455;\n",
              "      fill: #D2E3FC;\n",
              "    }\n",
              "\n",
              "    [theme=dark] .colab-df-convert:hover {\n",
              "      background-color: #434B5C;\n",
              "      box-shadow: 0px 1px 3px 1px rgba(0, 0, 0, 0.15);\n",
              "      filter: drop-shadow(0px 1px 2px rgba(0, 0, 0, 0.3));\n",
              "      fill: #FFFFFF;\n",
              "    }\n",
              "  </style>\n",
              "\n",
              "      <script>\n",
              "        const buttonEl =\n",
              "          document.querySelector('#df-7757ec1c-1d63-4980-ab18-1e07d86e134d button.colab-df-convert');\n",
              "        buttonEl.style.display =\n",
              "          google.colab.kernel.accessAllowed ? 'block' : 'none';\n",
              "\n",
              "        async function convertToInteractive(key) {\n",
              "          const element = document.querySelector('#df-7757ec1c-1d63-4980-ab18-1e07d86e134d');\n",
              "          const dataTable =\n",
              "            await google.colab.kernel.invokeFunction('convertToInteractive',\n",
              "                                                     [key], {});\n",
              "          if (!dataTable) return;\n",
              "\n",
              "          const docLinkHtml = 'Like what you see? Visit the ' +\n",
              "            '<a target=\"_blank\" href=https://colab.research.google.com/notebooks/data_table.ipynb>data table notebook</a>'\n",
              "            + ' to learn more about interactive tables.';\n",
              "          element.innerHTML = '';\n",
              "          dataTable['output_type'] = 'display_data';\n",
              "          await google.colab.output.renderOutput(dataTable, element);\n",
              "          const docLink = document.createElement('div');\n",
              "          docLink.innerHTML = docLinkHtml;\n",
              "          element.appendChild(docLink);\n",
              "        }\n",
              "      </script>\n",
              "    </div>\n",
              "  </div>\n",
              "  "
            ]
          },
          "metadata": {},
          "execution_count": 14
        }
      ]
    },
    {
      "cell_type": "code",
      "source": [
        "len(os_query)"
      ],
      "metadata": {
        "colab": {
          "base_uri": "https://localhost:8080/"
        },
        "id": "BRFlgkbf94DW",
        "outputId": "e250be35-5c46-4503-fc8c-42dd18abe5cc"
      },
      "execution_count": 15,
      "outputs": [
        {
          "output_type": "execute_result",
          "data": {
            "text/plain": [
              "4215"
            ]
          },
          "metadata": {},
          "execution_count": 15
        }
      ]
    },
    {
      "cell_type": "code",
      "source": [
        ""
      ],
      "metadata": {
        "id": "ztj20ifv-uPH"
      },
      "execution_count": null,
      "outputs": []
    }
  ]
}