{
  "cells": [
    {
      "cell_type": "markdown",
      "metadata": {
        "id": "view-in-github",
        "colab_type": "text"
      },
      "source": [
        "<a href=\"https://colab.research.google.com/github/naguzmans/opportunistic-atm/blob/master/00_Download_OpenSky_Data.ipynb\" target=\"_parent\"><img src=\"https://colab.research.google.com/assets/colab-badge.svg\" alt=\"Open In Colab\"/></a>"
      ]
    },
    {
      "cell_type": "markdown",
      "source": [
        "# Mount Drive"
      ],
      "metadata": {
        "id": "GkRABz0eJMli"
      }
    },
    {
      "cell_type": "code",
      "execution_count": null,
      "metadata": {
        "colab": {
          "base_uri": "https://localhost:8080/"
        },
        "id": "qq5g5OMjIKQ7",
        "outputId": "2f064843-4e59-440a-f8a5-9997cd9a4374"
      },
      "outputs": [
        {
          "output_type": "stream",
          "name": "stdout",
          "text": [
            "Mounted at /content/drive\n"
          ]
        }
      ],
      "source": [
        "from google.colab import drive\n",
        "drive.mount('/content/drive')"
      ]
    },
    {
      "cell_type": "markdown",
      "source": [
        "# Install Dependencies"
      ],
      "metadata": {
        "id": "ZYtJKc4LJOqG"
      }
    },
    {
      "cell_type": "code",
      "execution_count": null,
      "metadata": {
        "id": "7FKEd2NcJcrF"
      },
      "outputs": [],
      "source": [
        "!pip install pyopensky --upgrade\n",
        "!pip install haversine\n",
        "\n",
        "try:\n",
        "  from pyopensky import OpenskyImpalaWrapper\n",
        "except:\n",
        "  pass\n",
        "\n",
        "!cp /content/drive/MyDrive/opportunistic-utm/config/secret.conf /root/.config/pyopensky/"
      ]
    },
    {
      "cell_type": "markdown",
      "source": [
        "# Run Query and Download Data"
      ],
      "metadata": {
        "id": "AdMRZMMnJTwt"
      }
    },
    {
      "cell_type": "code",
      "execution_count": null,
      "metadata": {
        "id": "CYtPs-oOIGPJ"
      },
      "outputs": [],
      "source": [
        "from pyopensky import OpenskyImpalaWrapper\n",
        "import pandas as pd\n",
        "import datetime\n",
        "from haversine import haversine, inverse_haversine, Unit\n",
        "import numpy as np\n",
        "from pyopensky import OpenskyImpalaWrapper\n",
        "import time\n",
        "from tqdm import tqdm\n",
        "from IPython.display import clear_output\n",
        "import os\n",
        "\n",
        "# Time of query\n",
        "def timestamp_to_epoch(timestamp):\n",
        "  unix_epoch = datetime.datetime(1970, 1, 1)\n",
        "  log_dt = datetime.datetime.strptime(timestamp, '%Y-%m-%d %H:%M:%S')\n",
        "  seconds_from_epoch = (log_dt - unix_epoch).total_seconds()\n",
        "  return seconds_from_epoch\n",
        "\n",
        "year = '2015'\n",
        "start_month = 1\n",
        "end_month = 12\n",
        "\n",
        "folder_path = '/content/drive/MyDrive/opportunistic-utm'\n",
        "\n",
        "for i in range(start_month, end_month + 1):\n",
        "  month = str(i).zfill(2)\n",
        "  for day in tqdm(range(1,32)):\n",
        "    try:\n",
        "      from_time_str = f'{year}-{month}-{str(day).zfill(2)} 00:00:00'\n",
        "      to_time_str = f'{year}-{month}-{str(day).zfill(2)} 23:59:59'\n",
        "      from_time = timestamp_to_epoch(from_time_str)\n",
        "      to_time = timestamp_to_epoch(to_time_str)\n",
        "\n",
        "      # Area of query\n",
        "      airport = (51.871496514, -0.367665196) # Luton\n",
        "      # airport = (51.470020, -0.454295) # Heathrow\n",
        "      diag_distance = 25\n",
        "      min_coord = inverse_haversine(airport, diag_distance, np.pi * 1.25)\n",
        "      max_coord = inverse_haversine(airport, diag_distance, np.pi * .25)\n",
        "      min_lat, max_lat, min_lon, max_lon = (min_coord[0], max_coord[0], min_coord[1], max_coord[1])\n",
        "\n",
        "      # Height of query\n",
        "      min_height, max_height = (0, 1000)\n",
        "\n",
        "      # OpenSky wrapper\n",
        "      start = time.time()\n",
        "      print(f'\\nMonth: {month} / Day: {day}')\n",
        "      opensky = OpenskyImpalaWrapper()\n",
        "\n",
        "      opensky_query = opensky.rawquery(\n",
        "          f'SELECT * FROM state_vectors_data4 \\\n",
        "          WHERE lat >= {min_lat} AND lat <= {max_lat} \\\n",
        "          AND lon >= {min_lon} AND lon <= {max_lon} \\\n",
        "          AND hour >= {from_time} AND hour <= {to_time} \\\n",
        "          AND geoaltitude >= {min_height} AND geoaltitude <= {max_height};'\n",
        "      )\n",
        "\n",
        "      end = time.time()\n",
        "      print(f'Time elapsed: {np.round(end - start,1)}s')\n",
        "      print(f'Time elapsed: {np.round((end - start)/60,1)}m')\n",
        "\n",
        "      unique_callsigns = pd.unique(opensky_query['callsign'])\n",
        "      print(f'Query length: {len(unique_callsigns)}')\n",
        "\n",
        "      # Save CSV\n",
        "      if not os.path.exists(f'{folder_path}/data/{year}/{year}-{month}/'):\n",
        "        os.makedirs(f'{folder_path}/data/{year}/{year}-{month}/')\n",
        "\n",
        "      opensky_query.to_csv(f'{folder_path}/data/{year}/{year}-{month}/{year}-{month}-{str(day).zfill(2)}.csv', index=False)\n",
        "      clear_output(wait=False)\n",
        "    except:\n",
        "      break\n",
        "      clear_output(wait=False)"
      ]
    }
  ],
  "metadata": {
    "colab": {
      "collapsed_sections": [],
      "machine_shape": "hm",
      "name": "00_Download_OpenSky_Data.ipynb",
      "provenance": [],
      "include_colab_link": true
    },
    "interpreter": {
      "hash": "40d3a090f54c6569ab1632332b64b2c03c39dcf918b08424e98f38b5ae0af88f"
    },
    "kernelspec": {
      "display_name": "Python 3.9.7 ('base')",
      "language": "python",
      "name": "python3"
    },
    "language_info": {
      "codemirror_mode": {
        "name": "ipython",
        "version": 3
      },
      "file_extension": ".py",
      "mimetype": "text/x-python",
      "name": "python",
      "nbconvert_exporter": "python",
      "pygments_lexer": "ipython3",
      "version": "3.9.7"
    }
  },
  "nbformat": 4,
  "nbformat_minor": 0
}