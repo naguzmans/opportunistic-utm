{
  "nbformat": 4,
  "nbformat_minor": 0,
  "metadata": {
    "colab": {
      "name": "03_metadata_to_week_array.ipynb",
      "provenance": [],
      "collapsed_sections": [],
      "authorship_tag": "ABX9TyN6m1rYUGwf69SXCywNooXJ",
      "include_colab_link": true
    },
    "kernelspec": {
      "name": "python3",
      "display_name": "Python 3"
    },
    "language_info": {
      "name": "python"
    }
  },
  "cells": [
    {
      "cell_type": "markdown",
      "metadata": {
        "id": "view-in-github",
        "colab_type": "text"
      },
      "source": [
        "<a href=\"https://colab.research.google.com/github/naguzmans/opportunistic-atm/blob/master/03_metadata_to_week_array.ipynb\" target=\"_parent\"><img src=\"https://colab.research.google.com/assets/colab-badge.svg\" alt=\"Open In Colab\"/></a>"
      ]
    },
    {
      "cell_type": "markdown",
      "source": [
        "# Mount Drive"
      ],
      "metadata": {
        "id": "gCQv8DdfM8wm"
      }
    },
    {
      "cell_type": "code",
      "execution_count": null,
      "metadata": {
        "colab": {
          "base_uri": "https://localhost:8080/"
        },
        "id": "kLUA61SoM2Em",
        "outputId": "9a4ae3ab-62a7-410f-8c84-36813906bac9"
      },
      "outputs": [
        {
          "output_type": "stream",
          "name": "stdout",
          "text": [
            "Mounted at /content/drive\n"
          ]
        }
      ],
      "source": [
        "from google.colab import drive\n",
        "drive.mount('/content/drive')"
      ]
    },
    {
      "cell_type": "markdown",
      "source": [
        "# Transform Metadata Into a Week Array"
      ],
      "metadata": {
        "id": "KofqRhbMNasL"
      }
    },
    {
      "cell_type": "markdown",
      "source": [
        "The goal of this code is to create an array of shape (weeks, hours, 25 features) for training the model later."
      ],
      "metadata": {
        "id": "NXW_twIPTUEd"
      }
    },
    {
      "cell_type": "markdown",
      "source": [
        "**Lists folders containing data**"
      ],
      "metadata": {
        "id": "JCIkZE3QS5Ah"
      }
    },
    {
      "cell_type": "code",
      "source": [
        "import glob\n",
        "\n",
        "# Home folder\n",
        "%cd /content/drive/MyDrive/opportunistic-utm\n",
        "\n",
        "# List of folders with data\n",
        "folder_list = []\n",
        "for folder in glob.iglob('dataset/**/**/', recursive=False):\n",
        "  folder_list.append(folder)\n",
        "\n",
        "folder_list[:5]"
      ],
      "metadata": {
        "colab": {
          "base_uri": "https://localhost:8080/"
        },
        "id": "OCtSa70NNQz5",
        "outputId": "c7c5fad5-c29e-4110-fae8-dc0112fbbb24"
      },
      "execution_count": null,
      "outputs": [
        {
          "output_type": "stream",
          "name": "stdout",
          "text": [
            "/content/drive/MyDrive/opportunistic-utm\n"
          ]
        },
        {
          "output_type": "execute_result",
          "data": {
            "text/plain": [
              "['dataset/2019-01/2019-01-01/',\n",
              " 'dataset/2019-01/2019-01-02/',\n",
              " 'dataset/2019-01/2019-01-03/',\n",
              " 'dataset/2019-01/2019-01-04/',\n",
              " 'dataset/2019-01/2019-01-05/']"
            ]
          },
          "metadata": {},
          "execution_count": 2
        }
      ]
    },
    {
      "cell_type": "markdown",
      "source": [
        "**Gets a list of each week of 7 days**"
      ],
      "metadata": {
        "id": "xVojDBqqS7-B"
      }
    },
    {
      "cell_type": "code",
      "source": [
        "import datetime\n",
        "import numpy as np\n",
        "import os\n",
        "\n",
        "# Gets date from each folder and appends each Monday of a date to a list\n",
        "# The goal is to get the number of weeks present in the list\n",
        "monday_list = []\n",
        "for folder in folder_list:\n",
        "  folder_date = os.path.basename(os.path.normpath(folder))\n",
        "  date = datetime.datetime.strptime(folder_date, '%Y-%m-%d')\n",
        "  monday_date = date - datetime.timedelta(days=date.weekday())\n",
        "  monday_list.append(monday_date)\n",
        "\n",
        "# Filters the list by unique monday values and complete weeks of 7 days\n",
        "monday_list = np.unique(np.array(monday_list), return_counts=True)\n",
        "filter = np.where(monday_list[1] == 7, True, False)\n",
        "monday_list = monday_list[0][filter].tolist()"
      ],
      "metadata": {
        "id": "6_9iHbFSNllF"
      },
      "execution_count": null,
      "outputs": []
    },
    {
      "cell_type": "markdown",
      "source": [
        "**Extracts the data from full 7-day weeks**"
      ],
      "metadata": {
        "id": "HSvXdB5ITCIG"
      }
    },
    {
      "cell_type": "code",
      "source": [
        "from tqdm import tqdm\n",
        "\n",
        "# Data array is created by looping each Monday through 7 days of the week\n",
        "index = 0\n",
        "metadata_array = []\n",
        "\n",
        "# Iterates through Monday list\n",
        "for monday in tqdm(monday_list):\n",
        "  hours_array = np.empty((1,25))\n",
        "  \n",
        "  # Iterates over 7 days of that Monday week\n",
        "  for day in range(7):\n",
        "    day_date = monday + datetime.timedelta(days=day)\n",
        "    day_str = day_date.strftime('%Y-%m-%d')\n",
        "    month_str = day_date.strftime('%Y-%m')\n",
        "    files = np.sort(glob.glob(f'dataset/{month_str}/{day_str}/metadata/*.npy', recursive=False))\n",
        "    \n",
        "    # Iterates over 24 hours of every day\n",
        "    for i in range(0, 24):\n",
        "      next_hour = np.expand_dims(np.load(files[i]), axis=0)\n",
        "      hours_array = np.concatenate((hours_array, next_hour), axis=0)\n",
        "  metadata_array.append(hours_array[1:])\n",
        "\n",
        "# Transforms to Numpy array\n",
        "metadata_array = np.array(metadata_array)\n",
        "metadata_array.shape"
      ],
      "metadata": {
        "colab": {
          "base_uri": "https://localhost:8080/"
        },
        "id": "rp5X2cEZN1P1",
        "outputId": "849d0c03-ee2a-48b1-ca3c-1c6009ff9fd1"
      },
      "execution_count": null,
      "outputs": [
        {
          "output_type": "stream",
          "name": "stderr",
          "text": [
            "100%|██████████| 38/38 [20:21<00:00, 32.14s/it]\n"
          ]
        },
        {
          "output_type": "execute_result",
          "data": {
            "text/plain": [
              "(38, 168, 25)"
            ]
          },
          "metadata": {},
          "execution_count": 12
        }
      ]
    },
    {
      "cell_type": "markdown",
      "source": [
        "# Save Results"
      ],
      "metadata": {
        "id": "wX9Ehgs1R2UV"
      }
    },
    {
      "cell_type": "markdown",
      "source": [
        "**Save Metadata Array**"
      ],
      "metadata": {
        "id": "H2PvryR3SIFI"
      }
    },
    {
      "cell_type": "code",
      "source": [
        "np.save(f'dataset/00_results/metadata_array_{metadata_array.shape[0]}.npy', metadata_array)"
      ],
      "metadata": {
        "id": "ZdLc9djVPMTh"
      },
      "execution_count": null,
      "outputs": []
    }
  ]
}