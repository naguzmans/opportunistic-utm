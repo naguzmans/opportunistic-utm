{
  "nbformat": 4,
  "nbformat_minor": 0,
  "metadata": {
    "colab": {
      "name": "04_ConvLSTM_model.ipynb",
      "provenance": [],
      "collapsed_sections": [],
      "machine_shape": "hm",
      "authorship_tag": "ABX9TyPelNKMSkzlvgG0PvXtcZsD",
      "include_colab_link": true
    },
    "kernelspec": {
      "name": "python3",
      "display_name": "Python 3"
    },
    "language_info": {
      "name": "python"
    },
    "accelerator": "GPU",
    "gpuClass": "standard"
  },
  "cells": [
    {
      "cell_type": "markdown",
      "metadata": {
        "id": "view-in-github",
        "colab_type": "text"
      },
      "source": [
        "<a href=\"https://colab.research.google.com/github/naguzmans/opportunistic-atm/blob/master/04_ConvLSTM_model.ipynb\" target=\"_parent\"><img src=\"https://colab.research.google.com/assets/colab-badge.svg\" alt=\"Open In Colab\"/></a>"
      ]
    },
    {
      "cell_type": "markdown",
      "source": [
        "# Mount Drive"
      ],
      "metadata": {
        "id": "A-eXfDSKXdnC"
      }
    },
    {
      "cell_type": "code",
      "execution_count": 1,
      "metadata": {
        "colab": {
          "base_uri": "https://localhost:8080/"
        },
        "id": "Zcmvby6oW54H",
        "outputId": "3d020f3e-af7c-4f7f-fbf6-6d604388222a"
      },
      "outputs": [
        {
          "output_type": "stream",
          "name": "stdout",
          "text": [
            "Mounted at /content/drive\n"
          ]
        }
      ],
      "source": [
        "from google.colab import drive\n",
        "drive.mount('/content/drive')"
      ]
    },
    {
      "cell_type": "markdown",
      "source": [
        "# Load Data Arrays"
      ],
      "metadata": {
        "id": "9yDUuZaXXr2d"
      }
    },
    {
      "cell_type": "code",
      "source": [
        "import numpy as np\n",
        "%cd /content/drive/MyDrive/opportunistic-utm"
      ],
      "metadata": {
        "colab": {
          "base_uri": "https://localhost:8080/"
        },
        "id": "ribYDiTeX8jy",
        "outputId": "a05afabd-ee69-4177-c399-150e9d97cbec"
      },
      "execution_count": 17,
      "outputs": [
        {
          "output_type": "stream",
          "name": "stdout",
          "text": [
            "/content/drive/MyDrive/opportunistic-utm\n"
          ]
        }
      ]
    },
    {
      "cell_type": "code",
      "source": [
        "# Load flight array as a stream\n",
        "flights_array = np.load(f'dataset/00_results/flights_array_masked_38.npy', mmap_mode='r')\n",
        "flights_array.shape"
      ],
      "metadata": {
        "colab": {
          "base_uri": "https://localhost:8080/"
        },
        "id": "0btRZeaMXtQg",
        "outputId": "7789f670-1962-450c-b419-efb8bfc3c32b"
      },
      "execution_count": 6,
      "outputs": [
        {
          "output_type": "execute_result",
          "data": {
            "text/plain": [
              "(38, 168, 100, 100, 20)"
            ]
          },
          "metadata": {},
          "execution_count": 6
        }
      ]
    },
    {
      "cell_type": "code",
      "source": [
        "# Load metadata array\n",
        "metadata_array = np.load(f'dataset/00_results/metadata_array_38.npy')\n",
        "metadata_array.shape"
      ],
      "metadata": {
        "colab": {
          "base_uri": "https://localhost:8080/"
        },
        "id": "82hY2TXPYCE5",
        "outputId": "7e076da8-9a69-4bf9-bf2c-c0d45adfffa5"
      },
      "execution_count": 8,
      "outputs": [
        {
          "output_type": "execute_result",
          "data": {
            "text/plain": [
              "(38, 168, 25)"
            ]
          },
          "metadata": {},
          "execution_count": 8
        }
      ]
    },
    {
      "cell_type": "code",
      "source": [
        "# Load average flights array\n",
        "flights_average = np.load(f'dataset/00_results/flights_average_38.npy')\n",
        "flights_average.shape"
      ],
      "metadata": {
        "colab": {
          "base_uri": "https://localhost:8080/"
        },
        "id": "mSCNjMJaYncw",
        "outputId": "dc0a4670-41ea-440c-c787-65edf1aa84de"
      },
      "execution_count": 9,
      "outputs": [
        {
          "output_type": "execute_result",
          "data": {
            "text/plain": [
              "(100, 100, 20)"
            ]
          },
          "metadata": {},
          "execution_count": 9
        }
      ]
    },
    {
      "cell_type": "markdown",
      "source": [
        "# Define SARMSE Metric"
      ],
      "metadata": {
        "id": "lUo31bu5Y6L0"
      }
    },
    {
      "cell_type": "code",
      "source": [
        "# Spatially Averaged Root Mean Square\n",
        "def SARMSE(original, predicted):\n",
        "  layer_rmse = np.sqrt(np.sum(np.square(original-predicted)/100**2, axis=(0,1)))\n",
        "  return np.sum(layer_rmse)/original.shape[-1] # divided by # of channels"
      ],
      "metadata": {
        "id": "1-3hwXuZY5sX"
      },
      "execution_count": 13,
      "outputs": []
    },
    {
      "cell_type": "code",
      "source": [
        "# Check SARMSE on 100 random hours\n",
        "import random\n",
        "\n",
        "sum = 0\n",
        "random_weeks = random.sample(range(flights_array.shape[0]), 10)\n",
        "print(f'Random Weeks: {random_weeks}')\n",
        "for i in random_weeks:\n",
        "  random_hours = random.sample(range(flights_array.shape[1]), 10)\n",
        "  print(f'Random Hours: {random_hours}')\n",
        "  for j in random_hours:\n",
        "    sum += SARMSE(flights_array[i, j, :, :, :], flights_average)\n",
        "\n",
        "print(f'SARMSE: {sum/100}')"
      ],
      "metadata": {
        "colab": {
          "base_uri": "https://localhost:8080/"
        },
        "id": "ZVK3quewZGiP",
        "outputId": "84a6404f-51a3-4d98-be0f-2fe5ff5df67b"
      },
      "execution_count": 19,
      "outputs": [
        {
          "output_type": "stream",
          "name": "stdout",
          "text": [
            "Random Weeks: [2, 0, 10, 18, 17, 1, 19, 29, 20, 22]\n",
            "Random Hours: [105, 28, 90, 140, 80, 82, 157, 115, 106, 77]\n",
            "Random Hours: [128, 140, 108, 17, 137, 61, 40, 153, 73, 38]\n",
            "Random Hours: [118, 102, 127, 50, 82, 99, 66, 3, 116, 9]\n",
            "Random Hours: [68, 33, 160, 106, 85, 148, 125, 128, 164, 114]\n",
            "Random Hours: [12, 148, 158, 77, 75, 30, 19, 107, 155, 109]\n",
            "Random Hours: [7, 30, 52, 113, 114, 100, 80, 60, 94, 59]\n",
            "Random Hours: [22, 63, 150, 94, 46, 78, 164, 13, 77, 101]\n",
            "Random Hours: [76, 150, 22, 93, 23, 67, 163, 100, 74, 51]\n",
            "Random Hours: [105, 151, 77, 57, 90, 7, 166, 100, 61, 19]\n",
            "Random Hours: [106, 137, 16, 2, 67, 152, 26, 0, 164, 158]\n",
            "SARMSE: 0.07751784656208956\u001b[0m\n"
          ]
        }
      ]
    },
    {
      "cell_type": "markdown",
      "source": [
        "# Create x_train and y_train arrays"
      ],
      "metadata": {
        "id": "ssLCcSHDajYb"
      }
    },
    {
      "cell_type": "markdown",
      "source": [
        "**Shifting functions**"
      ],
      "metadata": {
        "id": "Mdu8WensbAi2"
      }
    },
    {
      "cell_type": "code",
      "source": [
        "# This allows to shift the dataset by a specified timestep\n",
        "def shift_flights_array(data):\n",
        "  shift = 1\n",
        "  x = data[:, 0 : data.shape[1] - shift, :, :]\n",
        "  y = data[:, shift : data.shape[1], :, :]\n",
        "  return x, y\n",
        "\n",
        "def shift_metadata_array(data):\n",
        "  shift = 1\n",
        "  x = data[:, 0 : data.shape[1] - shift, :]\n",
        "  y = data[:, shift : data.shape[1], :]\n",
        "  return x, y"
      ],
      "metadata": {
        "id": "0kEhj-beamup"
      },
      "execution_count": 32,
      "outputs": []
    },
    {
      "cell_type": "markdown",
      "source": [
        "**Data Split**"
      ],
      "metadata": {
        "id": "NU8VSQbtcZxM"
      }
    },
    {
      "cell_type": "code",
      "source": [
        "# Split\n",
        "train = [0, 30]\n",
        "val = [30, 34]\n",
        "test = [34, 38]"
      ],
      "metadata": {
        "id": "LCwO5eAkbopL"
      },
      "execution_count": 22,
      "outputs": []
    },
    {
      "cell_type": "markdown",
      "source": [
        "**Shift flights array**"
      ],
      "metadata": {
        "id": "zojmYeOabZXH"
      }
    },
    {
      "cell_type": "code",
      "source": [
        "x_train, y_train = shift_flights_array(flights_array[train[0]:train[1]])\n",
        "x_val, y_val = shift_flights_array(flights_array[val[0]:val[1]])\n",
        "x_test = flights_array[test[0]:test[1]]\n",
        "print(f'x_train shape: {x_train.shape} / y_train shape: {y_train.shape}')\n",
        "print(f'x_val shape: {x_val.shape} / y_val shape: {y_val.shape}')\n",
        "print(f'x_test shape: {x_test.shape}')"
      ],
      "metadata": {
        "colab": {
          "base_uri": "https://localhost:8080/"
        },
        "id": "M8ayONAvbHdG",
        "outputId": "4eb63700-ca90-4caa-c2ea-8fd4e5bafdb4"
      },
      "execution_count": 25,
      "outputs": [
        {
          "output_type": "stream",
          "name": "stdout",
          "text": [
            "x_train shape: (30, 167, 100, 100, 20) / y_train shape: (30, 167, 100, 100, 20)\n",
            "x_val shape: (4, 167, 100, 100, 20) / y_val shape: (4, 167, 100, 100, 20)\n",
            "x_test shape: (4, 168, 100, 100, 20)\n"
          ]
        }
      ]
    },
    {
      "cell_type": "markdown",
      "source": [
        "**Shifts metadata array**"
      ],
      "metadata": {
        "id": "Z6YxteNQbbsN"
      }
    },
    {
      "cell_type": "code",
      "source": [
        "x_mtrain, y_mtrain = shift_metadata_array(metadata_array[train[0]:train[1]])\n",
        "x_mval, y_mval = shift_metadata_array(metadata_array[val[0]:val[1]])\n",
        "x_mtest = metadata_array[test[0]:test[1]]\n",
        "print(f'x_mtrain shape: {x_mtrain.shape} / y_mtrain shape: {y_mtrain.shape}')\n",
        "print(f'x_mval shape: {x_mval.shape} / y_mval shape: {y_mval.shape}')\n",
        "print(f'x_mtest shape: {x_test.shape}')"
      ],
      "metadata": {
        "colab": {
          "base_uri": "https://localhost:8080/"
        },
        "id": "kh8OiUUxbfJE",
        "outputId": "7ba4d2d8-0b50-4c49-8af9-d6170cfae901"
      },
      "execution_count": 26,
      "outputs": [
        {
          "output_type": "stream",
          "name": "stdout",
          "text": [
            "x_mtrain shape: (30, 167, 25) / y_mtrain shape: (30, 167, 25)\n",
            "x_mval shape: (4, 167, 25) / y_mval shape: (4, 167, 25)\n",
            "x_mtest shape: (4, 168, 100, 100, 20)\n"
          ]
        }
      ]
    },
    {
      "cell_type": "markdown",
      "source": [
        "# ConvLSTM Model"
      ],
      "metadata": {
        "id": "gl91PExwcdOm"
      }
    },
    {
      "cell_type": "markdown",
      "source": [
        "**Dependencies**"
      ],
      "metadata": {
        "id": "DMkkuxQ9ciVh"
      }
    },
    {
      "cell_type": "code",
      "source": [
        "import numpy as np\n",
        "import matplotlib.pyplot as plt\n",
        "import tensorflow as tf\n",
        "from tensorflow import keras\n",
        "from tensorflow.keras import layers\n",
        "from tensorflow.keras.layers import Flatten, GRU, Dropout, TimeDistributed, MaxPooling3D"
      ],
      "metadata": {
        "id": "m3pH5akCceho"
      },
      "execution_count": 27,
      "outputs": []
    },
    {
      "cell_type": "markdown",
      "source": [
        "**Custom Keras Loss Function**"
      ],
      "metadata": {
        "id": "3ThbeX8XcnCm"
      }
    },
    {
      "cell_type": "code",
      "source": [
        "from keras import backend as K\n",
        "\n",
        "def custom_sarmse(y_true, y_pred):\n",
        "  print(f'True shape: {y_true.shape}')\n",
        "  print(f'Pred shape: {y_pred.shape}')\n",
        "  a = K.square(y_true - y_pred + 1e-10)\n",
        "  b = K.sum(a, [2,3], keepdims=True)\n",
        "  c = K.sqrt(b)\n",
        "  d = K.sum(c)/(100*20)\n",
        "  return d"
      ],
      "metadata": {
        "id": "STRThcwAcpdA"
      },
      "execution_count": 28,
      "outputs": []
    },
    {
      "cell_type": "markdown",
      "source": [
        "**Model**"
      ],
      "metadata": {
        "id": "oLZMZemMcxpo"
      }
    },
    {
      "cell_type": "code",
      "source": [
        "# Construct the input layer with no definite frame size.\n",
        "inp = layers.Input(shape=(None, *x_train.shape[2:]))\n",
        "minp = layers.Input(shape=(None, *x_mtrain.shape[2:]))\n",
        "\n",
        "def repeat_tabular(x_tab):\n",
        "  h = x_tab[:, :, :, None, None]\n",
        "  h = tf.tile(h, [1, 1, 4, 100, 1]) \n",
        "  return h\n",
        "\n",
        "a = layers.ConvLSTM2D(\n",
        "    filters=32,\n",
        "    kernel_size=(3, 3),\n",
        "    dilation_rate=(1, 1),\n",
        "    padding=\"same\",\n",
        "    return_sequences=True,\n",
        "    activation=\"relu\",\n",
        "    data_format='channels_last'\n",
        ")(inp)\n",
        "\n",
        "b = layers.ConvLSTM2D(\n",
        "    filters=16,\n",
        "    kernel_size=(5, 5),\n",
        "    dilation_rate=(1, 1),\n",
        "    padding=\"same\",\n",
        "    return_sequences=True,\n",
        "    activation=\"relu\",\n",
        "    data_format='channels_last'\n",
        ")(inp)\n",
        "\n",
        "c = layers.ConvLSTM2D(\n",
        "    filters=16,\n",
        "    kernel_size=(1, 1),\n",
        "    dilation_rate=(1, 1),\n",
        "    padding=\"same\",\n",
        "    return_sequences=True,\n",
        "    activation=\"relu\",\n",
        "    data_format='channels_last'\n",
        ")(inp)\n",
        "\n",
        "y = tf.keras.layers.LSTM(64, return_sequences=True)(minp)\n",
        "y = layers.Lambda(repeat_tabular)(minp)\n",
        "\n",
        "x = tf.keras.layers.Concatenate()([a, b, c, y])\n",
        "x = TimeDistributed(layers.BatchNormalization())(x)\n",
        "x = TimeDistributed(layers.Dropout(0.2))(x)\n",
        "\n",
        "x = layers.ConvLSTM2D(\n",
        "    filters=20,\n",
        "    kernel_size=(3, 3),\n",
        "    padding=\"same\",\n",
        "    return_sequences=True,\n",
        "    activation=\"sigmoid\",\n",
        "    data_format='channels_last'\n",
        ")(x)\n",
        "\n",
        "model = keras.models.Model(inputs = [inp, minp], outputs = x)\n",
        "model.compile(\n",
        "    loss=custom_sarmse, optimizer=keras.optimizers.Adam(),\n",
        ")\n",
        "\n",
        "model.summary()"
      ],
      "metadata": {
        "colab": {
          "base_uri": "https://localhost:8080/"
        },
        "id": "8LOyzPhFcxS9",
        "outputId": "4b6fcc4e-8802-4ab9-b537-e2bab786a143"
      },
      "execution_count": 29,
      "outputs": [
        {
          "output_type": "stream",
          "name": "stdout",
          "text": [
            "Model: \"model\"\n",
            "__________________________________________________________________________________________________\n",
            " Layer (type)                   Output Shape         Param #     Connected to                     \n",
            "==================================================================================================\n",
            " input_1 (InputLayer)           [(None, None, 100,   0           []                               \n",
            "                                100, 20)]                                                         \n",
            "                                                                                                  \n",
            " input_2 (InputLayer)           [(None, None, 25)]   0           []                               \n",
            "                                                                                                  \n",
            " conv_lstm2d (ConvLSTM2D)       (None, None, 100, 1  60032       ['input_1[0][0]']                \n",
            "                                00, 32)                                                           \n",
            "                                                                                                  \n",
            " conv_lstm2d_1 (ConvLSTM2D)     (None, None, 100, 1  57664       ['input_1[0][0]']                \n",
            "                                00, 16)                                                           \n",
            "                                                                                                  \n",
            " conv_lstm2d_2 (ConvLSTM2D)     (None, None, 100, 1  2368        ['input_1[0][0]']                \n",
            "                                00, 16)                                                           \n",
            "                                                                                                  \n",
            " lambda (Lambda)                (None, None, 100, 1  0           ['input_2[0][0]']                \n",
            "                                00, 1)                                                            \n",
            "                                                                                                  \n",
            " concatenate (Concatenate)      (None, None, 100, 1  0           ['conv_lstm2d[0][0]',            \n",
            "                                00, 65)                           'conv_lstm2d_1[0][0]',          \n",
            "                                                                  'conv_lstm2d_2[0][0]',          \n",
            "                                                                  'lambda[0][0]']                 \n",
            "                                                                                                  \n",
            " time_distributed (TimeDistribu  (None, None, 100, 1  260        ['concatenate[0][0]']            \n",
            " ted)                           00, 65)                                                           \n",
            "                                                                                                  \n",
            " time_distributed_1 (TimeDistri  (None, None, 100, 1  0          ['time_distributed[0][0]']       \n",
            " buted)                         00, 65)                                                           \n",
            "                                                                                                  \n",
            " conv_lstm2d_3 (ConvLSTM2D)     (None, None, 100, 1  61280       ['time_distributed_1[0][0]']     \n",
            "                                00, 20)                                                           \n",
            "                                                                                                  \n",
            "==================================================================================================\n",
            "Total params: 181,604\n",
            "Trainable params: 181,474\n",
            "Non-trainable params: 130\n",
            "__________________________________________________________________________________________________\n"
          ]
        }
      ]
    },
    {
      "cell_type": "markdown",
      "source": [
        "**Visualize model**"
      ],
      "metadata": {
        "id": "lQapKok4c6v9"
      }
    },
    {
      "cell_type": "code",
      "source": [
        "from keras.utils.vis_utils import plot_model\n",
        "plot_model(model, to_file='model_plot.png', show_shapes=True, show_layer_names=True)"
      ],
      "metadata": {
        "colab": {
          "base_uri": "https://localhost:8080/",
          "height": 320
        },
        "id": "FAJa4a1kc8eH",
        "outputId": "a011e296-638e-4062-85df-996bd5647d44"
      },
      "execution_count": 30,
      "outputs": [
        {
          "output_type": "execute_result",
          "data": {
            "text/plain": [
              "<IPython.core.display.Image object>"
            ],
            "image/png": "[encoded data removed]"
          },
          "metadata": {},
          "execution_count": 30
        }
      ]
    },
    {
      "cell_type": "markdown",
      "source": [
        "**Train model**"
      ],
      "metadata": {
        "id": "ZqCCmeGydE_0"
      }
    },
    {
      "cell_type": "code",
      "source": [
        "def scheduler(epoch, lr):\n",
        "  if epoch < 10:\n",
        "    return lr\n",
        "  else:\n",
        "    return lr * tf.math.exp(-0.1)\n",
        "\n",
        "# Define some callbacks to improve training.\n",
        "early_stopping = keras.callbacks.EarlyStopping(monitor=\"val_loss\", patience=5)\n",
        "reduce_lr = keras.callbacks.ReduceLROnPlateau(monitor=\"val_loss\", patience=5)\n",
        "# reduce_lr = tf.keras.callbacks.LearningRateScheduler(scheduler)\n",
        "\n",
        "# Define modifiable training hyperparameters.\n",
        "epochs = 100\n",
        "batch_size = 5\n",
        "\n",
        "# Fit the model to the training data.\n",
        "history = model.fit(\n",
        "    x= [x_train, x_mtrain],\n",
        "    y= [y_train, y_mtrain],\n",
        "    batch_size=batch_size,\n",
        "    epochs=epochs,\n",
        "    validation_data=([x_val, x_mval], y_val),\n",
        "    callbacks=[early_stopping, reduce_lr],\n",
        ")"
      ],
      "metadata": {
        "id": "nCGYhsoVdDVP"
      },
      "execution_count": null,
      "outputs": []
    },
    {
      "cell_type": "markdown",
      "source": [
        "# Metrics and Visualization"
      ],
      "metadata": {
        "id": "9RYIYA_ndK0Q"
      }
    },
    {
      "cell_type": "markdown",
      "source": [
        "**Loss vs Epochs**"
      ],
      "metadata": {
        "id": "iMBKhkTydNR2"
      }
    },
    {
      "cell_type": "code",
      "source": [
        "fig, ax = plt.subplots(figsize=(8,5))\n",
        "plt.plot(history.history['loss'])\n",
        "plt.plot(history.history['val_loss'])\n",
        "plt.title('', fontweight='bold')\n",
        "plt.ylabel('Loss', fontsize=12)\n",
        "plt.xlabel('Epoch',fontsize=12)\n",
        "plt.legend(['Training', 'Validation'], loc='upper right')\n",
        "plt.axis('on')\n",
        "plt.grid('on', alpha=.2)\n",
        "plt.show()"
      ],
      "metadata": {
        "id": "1h1XF2RjdMWK"
      },
      "execution_count": null,
      "outputs": []
    },
    {
      "cell_type": "markdown",
      "source": [
        "**Compare truth vs prediction**"
      ],
      "metadata": {
        "id": "A7UYV6LodX0r"
      }
    },
    {
      "cell_type": "code",
      "source": [
        "# Flattens multichannel array\n",
        "def flatten_array(input_array):\n",
        "  len_array = input_array.shape[-1]\n",
        "  levels_array = []\n",
        "  for i in range(0, len_array):\n",
        "    level = input_array[:, :, i]*((i+1)/len_array)\n",
        "    levels_array.append(level)\n",
        "  \n",
        "  levels_array = np.array(levels_array)\n",
        "  levels_array = np.moveaxis(levels_array, 0, -1)\n",
        "\n",
        "  return np.amax(levels_array, axis=2)"
      ],
      "metadata": {
        "id": "NRNf1kqpdrz0"
      },
      "execution_count": 31,
      "outputs": []
    },
    {
      "cell_type": "code",
      "source": [
        "# Select a random example from the validation dataset.\n",
        "week = 2\n",
        "hour = 0\n",
        "example = x_test[week]\n",
        "mexample = x_mtest[week]\n",
        "\n",
        "# Pick the first/last ten frames from the example.\n",
        "frames = example[:10, ...]\n",
        "mframes = mexample[:10, ...]\n",
        "original_frames = example[10:, ...]\n",
        "\n",
        "new_prediction = model.predict([np.expand_dims(frames, axis=0), np.expand_dims(mframes, axis=0)])\n",
        "new_prediction = np.squeeze(new_prediction, axis=0)\n",
        "predicted_frame = np.expand_dims(new_prediction[-1, ...], axis=0)\n",
        "predicted_frame = np.where(predicted_frame > 0, 1, 0)\n",
        "\n",
        "fig = plt.figure(figsize=(10, 10))\n",
        "\n",
        "ax1 = fig.add_subplot(131)\n",
        "ax1.imshow(flatten_array(original_frames[hour]), origin='lower', cmap = plt.get_cmap('plasma')) #, vmin=0, vmax=max_plot_value)\n",
        "\n",
        "ax2 = fig.add_subplot(132)\n",
        "ax2.imshow(flatten_array(predicted_frame[0]), origin='lower', cmap = plt.get_cmap('plasma')) #, vmin=0, vmax=max_plot_value)\n",
        "\n",
        "original_level_count = []\n",
        "for i in range(0, 20):\n",
        "  original_level_count.append(np.count_nonzero(original_frames[hour][:,:,i]))\n",
        "\n",
        "predicted_level_count = []\n",
        "for i in range(0, 20):\n",
        "  predicted_level_count.append(np.count_nonzero(predicted_frame[0][:,:,i]))\n",
        "\n",
        "average_level_count = []\n",
        "for i in range(0, 20):\n",
        "  average_level_count.append(np.count_nonzero(flights_average[:,:,i]))\n",
        "\n",
        "ax3 = fig.add_subplot(133)\n",
        "ax3.plot(original_level_count, np.linspace(0, 19, 20), 'b*-')\n",
        "ax3.plot(predicted_level_count, np.linspace(0, 19, 20), 'r*-')\n",
        "ax3.plot(average_level_count, np.linspace(0, 19, 20), 'g*-')\n",
        "\n",
        "asp = np.diff(ax3.get_xlim())[0] / np.diff(ax3.get_ylim())[0]\n",
        "ax3.set_aspect(asp)\n",
        "\n",
        "# print(f'SARMSE Null Prediction: {SARMSE(original_frames[0], np.zeros((100,100,20)))}')\n",
        "print(f'SARMSE ConvLSTM Prediction: {SARMSE(original_frames[hour], predicted_frame[0])}')\n",
        "print(f'SARMSE Average Prediction: {SARMSE(original_frames[hour], flights_average)}')\n",
        "print(f'Original Max: {np.max(flatten_array(original_frames[hour]))}')\n",
        "print(f'Predicted Max: {np.max(flatten_array(predicted_frame[0]))}')"
      ],
      "metadata": {
        "id": "3tgU9buGdW9Y"
      },
      "execution_count": null,
      "outputs": []
    }
  ]
}