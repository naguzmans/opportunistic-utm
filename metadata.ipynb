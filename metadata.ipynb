{
  "nbformat": 4,
  "nbformat_minor": 0,
  "metadata": {
    "colab": {
      "name": "metadata.ipynb",
      "provenance": [],
      "collapsed_sections": [],
      "authorship_tag": "ABX9TyMnZ8ZOhX6GDBQagKK7kjwH",
      "include_colab_link": true
    },
    "kernelspec": {
      "name": "python3",
      "display_name": "Python 3"
    },
    "language_info": {
      "name": "python"
    }
  },
  "cells": [
    {
      "cell_type": "markdown",
      "metadata": {
        "id": "view-in-github",
        "colab_type": "text"
      },
      "source": [
        "<a href=\"https://colab.research.google.com/github/naguzmans/opportunistic-atm/blob/master/metadata.ipynb\" target=\"_parent\"><img src=\"https://colab.research.google.com/assets/colab-badge.svg\" alt=\"Open In Colab\"/></a>"
      ]
    },
    {
      "cell_type": "code",
      "source": [
        "!pip install holidays"
      ],
      "metadata": {
        "id": "TRrwAhnvN6lS"
      },
      "execution_count": null,
      "outputs": []
    },
    {
      "cell_type": "code",
      "execution_count": 218,
      "metadata": {
        "id": "y-yvg7sl4y0z"
      },
      "outputs": [],
      "source": [
        "import datetime \n",
        "import numpy as np\n",
        "import holidays\n",
        "import math\n",
        "import requests\n",
        "\n",
        "def epoch_to_utc(hour_in_unix_time):\n",
        "  return datetime.datetime.utcfromtimestamp(hour_in_unix_time)\n",
        "\n",
        "def get_month(unix_timestamp):\n",
        "  return unix_timestamp.month\n",
        "\n",
        "def get_day(unix_timestamp):\n",
        "  return unix_timestamp.weekday()\n",
        "\n",
        "def is_holiday(timestamp):\n",
        "  uk_holidays = holidays.UK()\n",
        "\n",
        "  if timestamp in uk_holidays:\n",
        "    return 1\n",
        "  else:\n",
        "    return 0\n",
        "\n",
        "def rescale(val, in_min, in_max, out_min, out_max):\n",
        "  return out_min + (val - in_min) * ((out_max - out_min) / (in_max - in_min))\n",
        "\n",
        "def get_weather(unix_timestamp, size = 100):\n",
        "  timestamp = str(unix_timestamp)\n",
        "  key = '00fa20d9a815fab822b59c022ba8f4e5'\n",
        "  location = '51.87626460000001,-0.3717470999999932'\n",
        "  exclude = 'exclude=minutely,hourly,daily,alerts,flags'\n",
        "  units = 'si'\n",
        "  endpoint = f'https://api.darksky.net/forecast/{key}/{location},{timestamp}?{exclude}&{units}'\n",
        "  response = requests.get(endpoint).json()['currently']\n",
        "\n",
        "  try:\n",
        "    temperature = np.reshape(rescale(response['temperature'], -30, 30, 0, 1), (1,1))\n",
        "  except:\n",
        "    temperature = np.reshape(rescale(0, -30, 30, 0, 1), (1,1))\n",
        "\n",
        "  try:\n",
        "    wind_bearing = np.reshape(response['windBearing']/360, (1,1))\n",
        "  except:\n",
        "    wind_bearing = np.reshape(0, (1,1))\n",
        "\n",
        "  try:\n",
        "    wind_speed = np.reshape(rescale(response['windSpeed'], 0, 30, 0, 1), (1,1))\n",
        "  except:\n",
        "    wind_speed = np.reshape(rescale(0, 0, 30, 0, 1), (1,1))\n",
        "\n",
        "  try:\n",
        "    visibility = np.reshape(rescale(response['visibility'], 0, 20, 0, 1), (1,1))\n",
        "  except:\n",
        "    visibility = np.reshape(rescale(0, 0, 20, 0, 1), (1,1))\n",
        "\n",
        "  weather_metadata = np.concatenate((temperature, wind_bearing, wind_speed, visibility), axis = 1)\n",
        "  return np.tile(weather_metadata, (size, 1))\n",
        "\n",
        "def metadata(timestamp, size = 100, tiled = True):\n",
        "  utc_timestamp = epoch_to_utc(timestamp)\n",
        "\n",
        "  # Hot-encode day and month\n",
        "  months = np.zeros(12)\n",
        "  days = np.zeros(7)\n",
        "  months[get_month(utc_timestamp)-1] = 1\n",
        "  days[get_day(utc_timestamp)] = 1\n",
        "  months_tile = np.tile(months, (size, 1))\n",
        "  days_tile = np.tile(days, (size, 1))\n",
        "\n",
        "  # Hot-enconde if holiday is true\n",
        "  holiday_tile = np.tile(is_holiday(utc_timestamp), (size, 1))\n",
        "\n",
        "  # Weather\n",
        "  weather_tile = get_weather(timestamp, size=size)\n",
        "\n",
        "  tiled_metadata = np.concatenate((months_tile, days_tile, holiday_tile, weather_tile), axis = 1)\n",
        "  # Merge together\n",
        "  if tiled == True:\n",
        "    width = math.ceil(size/tiled_metadata.shape[-1])\n",
        "    tiled_metadata = np.tile(tiled_metadata, width)[:,:size]\n",
        "    return tiled_metadata\n",
        "  elif tiled == False:\n",
        "    return np.reshape(tiled_metadata[0], (tiled_metadata[0].shape[0],1))"
      ]
    },
    {
      "cell_type": "code",
      "source": [
        "import matplotlib.pyplot as plt\n",
        "%config InlineBackend.figure_format = 'retina'\n",
        "\n",
        "plot_metadata = metadata(1655991661)\n",
        "plt.imshow(plot_metadata, origin='lower', cmap='plasma')\n",
        "plt.show()"
      ],
      "metadata": {
        "colab": {
          "base_uri": "https://localhost:8080/",
          "height": 265
        },
        "id": "wAW-4gy5ALAD",
        "outputId": "2aefacec-f39b-48e4-cfaa-e1a38c6a7bec"
      },
      "execution_count": 220,
      "outputs": [
        {
          "output_type": "display_data",
          "data": {
            "text/plain": [
              "<Figure size 432x288 with 1 Axes>"
            ],
            "image/png": "[encoded data removed]"
          },
          "metadata": {
            "image/png": {
              "width": 251,
              "height": 248
            },
            "needs_background": "light"
          }
        }
      ]
    },
    {
      "cell_type": "code",
      "source": [
        "metadata(1655991661, tiled=False).shape"
      ],
      "metadata": {
        "colab": {
          "base_uri": "https://localhost:8080/"
        },
        "id": "ffAkQH3fXqmM",
        "outputId": "485e5105-5bb4-4d96-8939-7eda744c2ee1"
      },
      "execution_count": 221,
      "outputs": [
        {
          "output_type": "execute_result",
          "data": {
            "text/plain": [
              "(24, 1)"
            ]
          },
          "metadata": {},
          "execution_count": 221
        }
      ]
    },
    {
      "cell_type": "code",
      "source": [
        "import requests\n",
        "\n",
        "key = '00fa20d9a815fab822b59c022ba8f4e5'\n",
        "location = '51.87626460000001,-0.3717470999999932'\n",
        "timestamp = '1655991661'\n",
        "exclude = 'exclude=minutely,hourly,daily,alerts,flags'\n",
        "units = 'si'\n",
        "endpoint = f'https://api.darksky.net/forecast/{key}/{location},{timestamp}?{exclude}&{units}'\n",
        "response = requests.get(endpoint)\n"
      ],
      "metadata": {
        "id": "lowW-hkrGwZ4"
      },
      "execution_count": 200,
      "outputs": []
    },
    {
      "cell_type": "code",
      "source": [
        "response.json()['currently']"
      ],
      "metadata": {
        "colab": {
          "base_uri": "https://localhost:8080/"
        },
        "id": "F_2aAZiQNr2q",
        "outputId": "77159a05-351e-471b-d2f2-2a9b49371cc8"
      },
      "execution_count": 201,
      "outputs": [
        {
          "output_type": "execute_result",
          "data": {
            "text/plain": [
              "{'apparentTemperature': 22.06,\n",
              " 'cloudCover': 0.77,\n",
              " 'dewPoint': 10.97,\n",
              " 'humidity': 0.49,\n",
              " 'icon': 'partly-cloudy-day',\n",
              " 'ozone': 347.8,\n",
              " 'precipIntensity': 0,\n",
              " 'precipProbability': 0,\n",
              " 'pressure': 1009,\n",
              " 'summary': 'Mostly Cloudy',\n",
              " 'temperature': 22.06,\n",
              " 'time': 1655991661,\n",
              " 'uvIndex': 4,\n",
              " 'visibility': 10.262,\n",
              " 'windBearing': 332,\n",
              " 'windGust': 8.3,\n",
              " 'windSpeed': 8.02}"
            ]
          },
          "metadata": {},
          "execution_count": 201
        }
      ]
    },
    {
      "cell_type": "code",
      "source": [
        ""
      ],
      "metadata": {
        "id": "AVIWchrQgR26"
      },
      "execution_count": null,
      "outputs": []
    }
  ]
}