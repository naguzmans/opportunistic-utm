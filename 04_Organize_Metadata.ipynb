{
  "nbformat": 4,
  "nbformat_minor": 0,
  "metadata": {
    "colab": {
      "name": "04_Organize_Metadata.ipynb",
      "provenance": [],
      "collapsed_sections": [],
      "authorship_tag": "ABX9TyPgmu4ejGuEmn9qEqMoDuHB",
      "include_colab_link": true
    },
    "kernelspec": {
      "name": "python3",
      "display_name": "Python 3"
    },
    "language_info": {
      "name": "python"
    },
    "gpuClass": "standard"
  },
  "cells": [
    {
      "cell_type": "markdown",
      "metadata": {
        "id": "view-in-github",
        "colab_type": "text"
      },
      "source": [
        "<a href=\"https://colab.research.google.com/github/naguzmans/opportunistic-utm/blob/master/04_Organize_Metadata.ipynb\" target=\"_parent\"><img src=\"https://colab.research.google.com/assets/colab-badge.svg\" alt=\"Open In Colab\"/></a>"
      ]
    },
    {
      "cell_type": "markdown",
      "source": [
        "# Mount Drive"
      ],
      "metadata": {
        "id": "gCQv8DdfM8wm"
      }
    },
    {
      "cell_type": "code",
      "execution_count": null,
      "metadata": {
        "id": "kLUA61SoM2Em",
        "colab": {
          "base_uri": "https://localhost:8080/"
        },
        "outputId": "45bfa261-b8d7-474b-c992-0369350ef916"
      },
      "outputs": [
        {
          "output_type": "stream",
          "name": "stdout",
          "text": [
            "Mounted at /content/drive\n"
          ]
        }
      ],
      "source": [
        "from google.colab import drive\n",
        "drive.mount('/content/drive')"
      ]
    },
    {
      "cell_type": "markdown",
      "source": [
        "# Transform Metadata Into Day Arrays"
      ],
      "metadata": {
        "id": "KofqRhbMNasL"
      }
    },
    {
      "cell_type": "markdown",
      "source": [
        "The goal of this code is to create an array of shape (hours, 25 features) for training the model later.\n",
        "\n",
        "\n"
      ],
      "metadata": {
        "id": "NXW_twIPTUEd"
      }
    },
    {
      "cell_type": "markdown",
      "source": [
        "**Lists Folders Containing Data**"
      ],
      "metadata": {
        "id": "JCIkZE3QS5Ah"
      }
    },
    {
      "cell_type": "code",
      "source": [
        "import glob\n",
        "import numpy as np\n",
        "\n",
        "# Home folder\n",
        "%cd /content/drive/MyDrive/opportunistic-utm\n",
        "\n",
        "# List of folders with data\n",
        "folder_list = []\n",
        "for folder in glob.iglob('dataset/20**/**/', recursive=False):\n",
        "  folder_list.append(folder)\n",
        "\n",
        "folder_list = np.sort(folder_list).tolist()\n",
        "print(f'Number of Folders: {len(folder_list)}')"
      ],
      "metadata": {
        "colab": {
          "base_uri": "https://localhost:8080/"
        },
        "id": "OCtSa70NNQz5",
        "outputId": "730fcff5-b6b8-4231-d4d5-70523800626e"
      },
      "execution_count": null,
      "outputs": [
        {
          "output_type": "stream",
          "name": "stdout",
          "text": [
            "/content/drive/MyDrive/opportunistic-utm\n",
            "Number of Folders: 730\n"
          ]
        }
      ]
    },
    {
      "cell_type": "markdown",
      "source": [
        "**Create Array With Metadata**"
      ],
      "metadata": {
        "id": "HSvXdB5ITCIG"
      }
    },
    {
      "cell_type": "code",
      "source": [
        "import os\n",
        "import numpy as np\n",
        "from tqdm import tqdm\n",
        "%config InlineBackend.figure_format = 'retina'\n",
        "\n",
        "for folder in tqdm(folder_list):\n",
        "  files = np.sort(glob.glob(folder + '/metadata/*.npy', recursive=False))\n",
        "  # hours_array = np.empty((1,25))\n",
        "  hours_array = np.empty((24,25))\n",
        "\n",
        "  for i in range(0, 24):\n",
        "    # next_hour = np.expand_dims(np.load(files[i]), 0)\n",
        "    # hours_array = np.concatenate((hours_array, next_hour), axis=0)\n",
        "    hours_array[i] = np.load(files[i])\n",
        "\n",
        "  folder_name = os.path.normpath(folder).split(os.sep)[2]\n",
        "  filename = folder_name.replace('-','')\n",
        "  # np.save(f'dataset/00_results/daily_metadata/{filename}.npy', hours_array[1:])\n",
        "  np.save(f'dataset/00_results/daily_metadata/{filename}.npy', hours_array)"
      ],
      "metadata": {
        "colab": {
          "base_uri": "https://localhost:8080/"
        },
        "id": "rp5X2cEZN1P1",
        "outputId": "5463c204-186e-4ed0-f8bc-dedd4dee5f7a"
      },
      "execution_count": null,
      "outputs": [
        {
          "output_type": "stream",
          "name": "stderr",
          "text": [
            "100%|██████████| 730/730 [1:21:29<00:00,  6.70s/it]\n"
          ]
        }
      ]
    }
  ]
}